{
 "cells": [
  {
   "cell_type": "markdown",
   "metadata": {
    "id": "IfH7SAicF7S5"
   },
   "source": [
    "## Imports and Method instantiation"
   ]
  },
  {
   "cell_type": "code",
   "execution_count": null,
   "metadata": {
    "colab": {
     "base_uri": "https://localhost:8080/"
    },
    "executionInfo": {
     "elapsed": 367,
     "status": "ok",
     "timestamp": 1704592521161,
     "user": {
      "displayName": "Pacurar Sebastian",
      "userId": "15686393619609976384"
     },
     "user_tz": -120
    },
    "id": "E7UHSz0DF-Zp",
    "outputId": "2e245902-e4cd-4a0d-9f60-99ce466b17d2",
    "is_executing": true
   },
   "outputs": [],
   "source": [
    "import sys\n",
    "import re\n",
    "import sqlite3\n",
    "import pandas as pd\n",
    "from PIL import Image\n",
    "import io\n",
    "from matplotlib import pyplot as plt\n",
    "from enum import Enum\n",
    "print(sys.version)\n",
    "\n",
    "NC = sqlite3.connect('../data_sets/db/northwind.db')\n",
    "SC = sqlite3.connect('../data_sets/db/sakila.db')\n",
    "CC = sqlite3.connect('../data_sets/db/covid19.db')\n",
    "allTables = 'SELECT name FROM sqlite_master WHERE type=\"table\";'"
   ]
  },
  {
   "cell_type": "raw",
   "metadata": {
    "collapsed": false
   },
   "source": [
    "### Methods"
   ]
  },
  {
   "cell_type": "markdown",
   "metadata": {
    "id": "DayYIYuJh7Ir"
   },
   "source": [
    "#### Query shortcut"
   ]
  },
  {
   "cell_type": "code",
   "execution_count": null,
   "metadata": {
    "executionInfo": {
     "elapsed": 595,
     "status": "ok",
     "timestamp": 1704592522125,
     "user": {
      "displayName": "Pacurar Sebastian",
      "userId": "15686393619609976384"
     },
     "user_tz": -120
    },
    "id": "Y_bbAzeaijqY",
    "is_executing": true
   },
   "outputs": [],
   "source": [
    "def q(db, query, count=None):\n",
    "    df = pd.read_sql_query(query, db)\n",
    "    if count is None or count == 0:\n",
    "        return df\n",
    "    elif count < 0:\n",
    "        return df.tail(abs(count))\n",
    "    elif count > 0:\n",
    "        return df.head(count)"
   ]
  },
  {
   "cell_type": "markdown",
   "metadata": {
    "id": "lOWDtwoAjE30"
   },
   "source": [
    "#### Table Data Manipulation"
   ]
  },
  {
   "cell_type": "code",
   "execution_count": null,
   "metadata": {
    "colab": {
     "base_uri": "https://localhost:8080/",
     "height": 345
    },
    "executionInfo": {
     "elapsed": 22,
     "status": "ok",
     "timestamp": 1704592522125,
     "user": {
      "displayName": "Pacurar Sebastian",
      "userId": "15686393619609976384"
     },
     "user_tz": -120
    },
    "id": "DB0sYN2gzIQX",
    "outputId": "c50f53f2-7866-45a7-8e69-f6e361c99b73",
    "is_executing": true
   },
   "outputs": [],
   "source": [
    "class FilterCondition(Enum):\n",
    "    CONTAINS = 'LIKE \"%{}%\"'\n",
    "    STARTS_WITH = 'LIKE \"{}%\"'\n",
    "    ENDS_WITH = 'LIKE \"%{}\"'\n",
    "\n",
    "\n",
    "class AggregateFunctions(Enum):\n",
    "    AVG = 'AVG({})'\n",
    "    SUM = 'SUM({})'\n",
    "    MAX = 'MAX({})'\n",
    "    MIN = 'MIN({})'\n",
    "    COUNT = 'COUNT({})'\n",
    "\n",
    "\n",
    "def get_int_or_zero(x):\n",
    "    try:\n",
    "        return int(x)\n",
    "    except (ValueError, TypeError):\n",
    "        return 0\n",
    "\n",
    "\n",
    "def get_list_or_zero(x):\n",
    "    return x if isinstance(x, list) and len(x) > 0 else 0\n",
    "\n",
    "\n",
    "def str_val(x):\n",
    "    words = len(x.split(' '))\n",
    "    return f'\"{x}\"' if words > 1 else x\n",
    "\n",
    "\n",
    "def format_cols_query(cols):\n",
    "    form_cols = []\n",
    "    for col in cols:\n",
    "        if '=' in col and ':' in col:\n",
    "            agg, col_name, col_alias = re.split(r'[:=]', col)\n",
    "            col_name = str_val(col_name)\n",
    "            agg_func = AggregateFunctions[agg.upper()].value.format(col_name)\n",
    "            form_cols.append(f'{agg_func} AS \"{col_alias}\"')\n",
    "        elif '=' in col:\n",
    "            agg, col_name = col.split('=')\n",
    "            col_name = str_val(col_name)\n",
    "            agg_func = AggregateFunctions[agg.upper()].value.format(col_name)\n",
    "            form_cols.append(f'{agg_func}')\n",
    "        elif ':' in col:\n",
    "            col_name, col_alias = col.split(':')\n",
    "            col_name = str_val(col_name)\n",
    "            form_cols.append(f'{col_name} AS \"{col_alias}\"')\n",
    "        else:\n",
    "            col = str_val(col)\n",
    "            form_cols.append(f'{col}')\n",
    "\n",
    "    return ',\\n\\t'.join(form_cols)\n",
    "\n",
    "\n",
    "def verify_between_agg(expression):\n",
    "    is_valid = False\n",
    "    res = None\n",
    "    number_pattern = r'\\b\\d+\\.\\d+?\\b'\n",
    "    letter_pattern = r'[A-Za-z]+'\n",
    "\n",
    "    numbers = re.findall(number_pattern, expression)\n",
    "    letters = re.findall(letter_pattern, expression)\n",
    "\n",
    "    if len(numbers) > 0 and len(letters) == 1:\n",
    "        is_valid = True\n",
    "        numbers_with_letters = numbers.copy()\n",
    "        numbers_with_letters.insert(1, letters[0])\n",
    "        res = numbers_with_letters\n",
    "\n",
    "    return is_valid, res\n",
    "\n",
    "\n",
    "# Grab info about one table\n",
    "def table(db, name, **kwargs):\n",
    "    \"\"\"\n",
    "    Retrieve data from a specified table with optional filtering and ordering.\n",
    "\n",
    "    Parameters:\n",
    "        :param db: (str): The name of the db to retrieve data from.\n",
    "        :param name: (str): The name of the table to retrieve data from.\n",
    "        **kwargs: (dict): Additional keyword arguments for customization.\n",
    "\n",
    "    Keyword Arguments:\n",
    "        :keyword cols: (list of str, optional): A list of column names to select (default is all columns).\n",
    "        :keyword contains: (list of str, optional): A list specifying columns and values for 'contains' filtering.\n",
    "        :keyword starts_with: (list of str, optional): A list specifying columns and values for 'starts_with' filtering.\n",
    "        :keyword ends_with: (list of str, optional): A list specifying columns and values for 'ends_with' filtering.\n",
    "        :keyword distinct: (bool, optional): Whether to retrieve distinct rows (default is False).\n",
    "        :keyword count: (bool, optional): Whether to include a count of items in the result (default is False).\n",
    "        :keyword where: (list of str, optional): A list specifying filtering conditions, e.g., ['AND', 'ColumnName > 10'].\n",
    "        :keyword order_by: (tuple of str and int, optional): A tuple specifying column and sorting direction (0 for ASC, 1 for DESC).\n",
    "        :keyword limit: (int, optional): The maximum number of rows to return. works with negative/positive numbers\n",
    "        :keyword offset: (int, optional): Set offset of limit.\n",
    "    \"\"\"\n",
    "    filtered = False\n",
    "    name = f'\"{name}\"' if len(name.split(' ')) > 1 else name\n",
    "    distinct = 'DISTINCT ' if kwargs.get('distinct', False) else ''\n",
    "    count = 'COUNT(*) AS items_count' if kwargs.get('count', False) else ''\n",
    "    filter_conditions = [condition.name.lower() for condition in FilterCondition if condition.name.lower() in kwargs]\n",
    "    t_cols = '*'\n",
    "\n",
    "    # handle cols=[] kwarg\n",
    "    if '*' not in kwargs.get('cols', ['*']):\n",
    "        t_cols = format_cols_query(kwargs.get('cols'))\n",
    "\n",
    "    query = f'SELECT {distinct}{t_cols}\\nFROM {name} \\n'\n",
    "\n",
    "    # handle contains=[] / starts_with=[] / ends_with=[] kwargs\n",
    "    if filter_conditions:\n",
    "        filtered = True\n",
    "        condition = filter_conditions[0]\n",
    "        col, col_val = kwargs.get(condition)\n",
    "        formatted_like = FilterCondition[condition.upper()].value.format(col_val)\n",
    "        query += f'WHERE {col} {formatted_like} \\n'\n",
    "\n",
    "    # handle where=[] arg\n",
    "    # TODO: fix for included AND (&) OR (|) operators in each condition\n",
    "    if 'where' in kwargs:\n",
    "        choice, *options = kwargs.get('where', [])\n",
    "        if get_list_or_zero(options) != 0:\n",
    "            is_first_valid, first_cond = verify_between_agg(options[0])\n",
    "            if is_first_valid:\n",
    "                sql = f'{\"WHERE\" if not filtered else \"\"} {first_cond[1]} BETWEEN {first_cond[0]} AND {first_cond[2]}\\n'\n",
    "            else:\n",
    "                sql = f'{choice.upper()} ' if filtered else 'WHERE '\n",
    "            for condition in options[1:]:\n",
    "                is_valid, cond = verify_between_agg(condition)\n",
    "                if is_valid:\n",
    "                    sql += f'{cond[1]} BETWEEN {cond[0]} AND {cond[2]}\\n'\n",
    "                else:\n",
    "                    sql += f'\\t{choice} {condition}\\n'\n",
    "            query += sql\n",
    "\n",
    "    # handle order_by kwarg\n",
    "    if 'order_by' in kwargs:\n",
    "        col, direction = kwargs.get('order_by')\n",
    "        query += f'ORDER BY {col} {\"ASC\" if direction >= 0 else \"DESC\"}\\n'\n",
    "\n",
    "    # handle limit kwarg\n",
    "    if 'limit' in kwargs:\n",
    "        lim = get_int_or_zero(kwargs.get('limit', '0'))\n",
    "        if lim != 0:\n",
    "            if 'order_by' not in kwargs and lim < 0:\n",
    "                query += 'ORDER BY 1 DESC\\n'\n",
    "            query += f'LIMIT {abs(lim)}'\n",
    "\n",
    "            if 'offset' in kwargs:\n",
    "                off_val = get_int_or_zero(kwargs.get('offset', '0'))\n",
    "                if off_val > 0:\n",
    "                    query += f' OFFSET {off_val}'\n",
    "\n",
    "    # handle count kwarg\n",
    "    if count:\n",
    "        query = f'SELECT {count} FROM ({query})'\n",
    "\n",
    "    # return the query string if subq=True\n",
    "    res = query if kwargs.get('subq', False) is True else pd.read_sql(query, db)\n",
    "    print(f'\\n{query}\\n\\n')\n",
    "\n",
    "    return res\n"
   ]
  },
  {
   "cell_type": "markdown",
   "metadata": {
    "id": "UlsYfhiDix56"
   },
   "source": [
    "#### Image Viewing"
   ]
  },
  {
   "cell_type": "code",
   "execution_count": null,
   "metadata": {
    "executionInfo": {
     "elapsed": 20,
     "status": "ok",
     "timestamp": 1704592522126,
     "user": {
      "displayName": "Pacurar Sebastian",
      "userId": "15686393619609976384"
     },
     "user_tz": -120
    },
    "id": "0SJPQP0xiqBs",
    "is_executing": true
   },
   "outputs": [],
   "source": [
    "# Works only on NorthWind DB\n",
    "def category_img(db, category_name):\n",
    "    query = f'SELECT Picture FROM Categories WHERE CategoryName=\"{category_name}\"'\n",
    "    df = q(db, query)\n",
    "\n",
    "    if not df.empty:\n",
    "        image_data = df['Picture'].iloc[0]\n",
    "        image = Image.open(io.BytesIO(image_data))\n",
    "        plt.imshow(image)\n",
    "        plt.title(category_name)\n",
    "        plt.axis('off')\n",
    "        plt.show()\n",
    "    else:\n",
    "        print(f\"No image found for category: {category_name}\")\n",
    "\n",
    "\n",
    "# Works only on NorthWind DB\n",
    "def categories_img(db, num_cols):\n",
    "    query = 'SELECT CategoryName, Picture FROM Categories'\n",
    "    df = q(db, query)\n",
    "\n",
    "    if not df.empty:\n",
    "        num_images = len(df)\n",
    "        num_rows = (num_images + num_cols - 1) // num_cols\n",
    "\n",
    "        fig, axes = plt.subplots(num_rows, num_cols, figsize=(12, 8))\n",
    "        plt.subplots_adjust(wspace=0.2, hspace=0.3)\n",
    "\n",
    "        for idx, row in enumerate(df.itertuples()):\n",
    "            category_name = row.CategoryName\n",
    "            image_data = row.Picture\n",
    "\n",
    "            if image_data is not None:\n",
    "                image = Image.open(io.BytesIO(image_data))\n",
    "                ax = axes[idx // num_cols, idx % num_cols]\n",
    "                ax.imshow(image)\n",
    "                ax.set_title(category_name)\n",
    "                ax.axis('off')\n",
    "            else:\n",
    "                print(f\"No image found for category: {category_name}\")\n",
    "\n",
    "        # Hide any empty subplots\n",
    "        for i in range(len(df), num_rows * num_cols):\n",
    "            fig.delaxes(axes[i // num_cols, i % num_cols])\n",
    "\n",
    "        plt.show()\n",
    "    else:\n",
    "        print(\"No categories found.\")\n",
    "\n"
   ]
  },
  {
   "cell_type": "markdown",
   "metadata": {
    "id": "3I55aMDNGMSH"
   },
   "source": [
    "## Test"
   ]
  },
  {
   "cell_type": "markdown",
   "metadata": {
    "id": "SVjq_JqrVn5Y"
   },
   "source": [
    "### North Wind Tests"
   ]
  },
  {
   "cell_type": "code",
   "execution_count": null,
   "metadata": {
    "colab": {
     "base_uri": "https://localhost:8080/",
     "height": 505
    },
    "executionInfo": {
     "elapsed": 20,
     "status": "ok",
     "timestamp": 1704592522126,
     "user": {
      "displayName": "Pacurar Sebastian",
      "userId": "15686393619609976384"
     },
     "user_tz": -120
    },
    "id": "-PEDDWdKUxeE",
    "outputId": "9579d2e0-b6b4-49b2-bc59-e97e2c91f15a",
    "is_executing": true
   },
   "outputs": [],
   "source": [
    "q(db=NC, query=allTables)"
   ]
  },
  {
   "cell_type": "code",
   "execution_count": null,
   "metadata": {
    "colab": {
     "base_uri": "https://localhost:8080/",
     "height": 265
    },
    "executionInfo": {
     "elapsed": 17,
     "status": "ok",
     "timestamp": 1704592522126,
     "user": {
      "displayName": "Pacurar Sebastian",
      "userId": "15686393619609976384"
     },
     "user_tz": -120
    },
    "id": "XJHY2lehFrhg",
    "outputId": "a54a90ff-24f1-445b-f1f4-aff85ac2b831",
    "is_executing": true
   },
   "outputs": [],
   "source": [
    "table(db=SC, name='Country', limit=-3)"
   ]
  },
  {
   "cell_type": "code",
   "execution_count": null,
   "metadata": {
    "colab": {
     "base_uri": "https://localhost:8080/",
     "height": 345
    },
    "executionInfo": {
     "elapsed": 15,
     "status": "ok",
     "timestamp": 1704592522126,
     "user": {
      "displayName": "Pacurar Sebastian",
      "userId": "15686393619609976384"
     },
     "user_tz": -120
    },
    "id": "Wy5unJApJxPA",
    "outputId": "e7abd386-615e-47a2-abc8-98dba29b4075",
    "is_executing": true
   },
   "outputs": [],
   "source": [
    "table(db=NC, name='Order Details', cols=['UnitPrice'], distinct=True, where=['AND', '20.0 >= UnitPrice <= 70.0'], order_by=['UnitPrice', -1], limit=5, offset=2)"
   ]
  },
  {
   "cell_type": "markdown",
   "metadata": {
    "id": "m9WvJV2EJsXn"
   },
   "source": []
  },
  {
   "cell_type": "code",
   "execution_count": null,
   "metadata": {
    "colab": {
     "base_uri": "https://localhost:8080/",
     "height": 501
    },
    "executionInfo": {
     "elapsed": 428,
     "status": "ok",
     "timestamp": 1704592522540,
     "user": {
      "displayName": "Pacurar Sebastian",
      "userId": "15686393619609976384"
     },
     "user_tz": -120
    },
    "id": "9wKNg77jH_eX",
    "outputId": "53c4f334-4473-4f50-fa5a-491342fd0a7c",
    "is_executing": true
   },
   "outputs": [],
   "source": [
    "table(db=NC, name='Order Details', limit = 10, distinct=True, starts_with=['unitprice', 4], order_by=['Quantity', 1])"
   ]
  },
  {
   "cell_type": "code",
   "execution_count": null,
   "metadata": {
    "colab": {
     "base_uri": "https://localhost:8080/",
     "height": 237
    },
    "executionInfo": {
     "elapsed": 427,
     "status": "ok",
     "timestamp": 1704592522541,
     "user": {
      "displayName": "Pacurar Sebastian",
      "userId": "15686393619609976384"
     },
     "user_tz": -120
    },
    "id": "8mfCl3Vfg_dg",
    "outputId": "6053b1f7-575b-41d2-fa26-8ac007681ead",
    "is_executing": true
   },
   "outputs": [],
   "source": [
    "table(db=NC, name='Order Details', cols=['avg=UnitPrice:UP Avg', 'max=UnitPrice:UP Max', 'min=UnitPrice:UP Min', 'count=UnitPrice:UP Count'])"
   ]
  },
  {
   "cell_type": "markdown",
   "metadata": {
    "id": "wlPOAXEfVwTr"
   },
   "source": [
    "### Sakila Tests"
   ]
  },
  {
   "cell_type": "code",
   "execution_count": null,
   "metadata": {
    "colab": {
     "base_uri": "https://localhost:8080/",
     "height": 568
    },
    "executionInfo": {
     "elapsed": 31,
     "status": "ok",
     "timestamp": 1704592522541,
     "user": {
      "displayName": "Pacurar Sebastian",
      "userId": "15686393619609976384"
     },
     "user_tz": -120
    },
    "id": "IWjJ6Y91WI9D",
    "outputId": "deba5fa4-26ff-4fce-ff85-2e40c1477c51",
    "is_executing": true
   },
   "outputs": [],
   "source": [
    "q(db=SC, query=allTables)"
   ]
  },
  {
   "cell_type": "code",
   "execution_count": null,
   "metadata": {
    "colab": {
     "base_uri": "https://localhost:8080/",
     "height": 233
    },
    "executionInfo": {
     "elapsed": 29,
     "status": "ok",
     "timestamp": 1704592522541,
     "user": {
      "displayName": "Pacurar Sebastian",
      "userId": "15686393619609976384"
     },
     "user_tz": -120
    },
    "id": "Biek2xFPWNib",
    "outputId": "9a9578ea-14e3-4903-85c5-8c68dab1a1cf",
    "is_executing": true
   },
   "outputs": [],
   "source": [
    "table(db=SC, name='Country', limit=-2)"
   ]
  },
  {
   "cell_type": "code",
   "execution_count": null,
   "metadata": {
    "colab": {
     "base_uri": "https://localhost:8080/",
     "height": 274
    },
    "executionInfo": {
     "elapsed": 26,
     "status": "ok",
     "timestamp": 1704592522541,
     "user": {
      "displayName": "Pacurar Sebastian",
      "userId": "15686393619609976384"
     },
     "user_tz": -120
    },
    "id": "7zJj7MYKWg72",
    "outputId": "faff0e3f-150d-490e-bce2-cf4efd85f8b2",
    "is_executing": true
   },
   "outputs": [],
   "source": [
    "table(db=SC, name='film', limit=1)"
   ]
  },
  {
   "cell_type": "code",
   "execution_count": null,
   "metadata": {
    "colab": {
     "base_uri": "https://localhost:8080/",
     "height": 185
    },
    "executionInfo": {
     "elapsed": 23,
     "status": "ok",
     "timestamp": 1704592522541,
     "user": {
      "displayName": "Pacurar Sebastian",
      "userId": "15686393619609976384"
     },
     "user_tz": -120
    },
    "id": "WjAx7bkWWy3x",
    "outputId": "f524c5ab-16ff-485b-fbbd-609c03f6bf03",
    "is_executing": true
   },
   "outputs": [],
   "source": [
    "table(db=SC, name='film_actor', limit=1)"
   ]
  },
  {
   "cell_type": "code",
   "execution_count": null,
   "metadata": {
    "colab": {
     "base_uri": "https://localhost:8080/",
     "height": 185
    },
    "executionInfo": {
     "elapsed": 21,
     "status": "ok",
     "timestamp": 1704592522541,
     "user": {
      "displayName": "Pacurar Sebastian",
      "userId": "15686393619609976384"
     },
     "user_tz": -120
    },
    "id": "jFA_cWviWyny",
    "outputId": "0f066e46-3656-4ba0-b853-de38a18c77ba",
    "is_executing": true
   },
   "outputs": [],
   "source": [
    "table(db=SC, name='film_category', limit=1)"
   ]
  },
  {
   "cell_type": "markdown",
   "metadata": {
    "id": "o8D47tBvg8Ov"
   },
   "source": [
    "## Experiments\n"
   ]
  },
  {
   "cell_type": "code",
   "execution_count": null,
   "metadata": {
    "colab": {
     "base_uri": "https://localhost:8080/",
     "height": 0
    },
    "executionInfo": {
     "elapsed": 18,
     "status": "ok",
     "timestamp": 1704592522541,
     "user": {
      "displayName": "Pacurar Sebastian",
      "userId": "15686393619609976384"
     },
     "user_tz": -120
    },
    "id": "vNrqu5C02qdm",
    "outputId": "09a254b3-f7de-4607-b9d3-3f649b399ec3",
    "is_executing": true
   },
   "outputs": [],
   "source": [
    "q(db=NC, query='''\n",
    "SELECT\n",
    "    Orders.OrderDate,\n",
    "    Orders.RequiredDate,\n",
    "    Customers.CompanyName,\n",
    "    Customers.ContactName\n",
    "FROM\n",
    "    Orders\n",
    "INNER JOIN Customers ON Orders.CustomerID = Customers.CustomerID\n",
    "''')"
   ]
  },
  {
   "cell_type": "code",
   "execution_count": null,
   "metadata": {
    "colab": {
     "base_uri": "https://localhost:8080/",
     "height": 0
    },
    "executionInfo": {
     "elapsed": 417,
     "status": "ok",
     "timestamp": 1704592522945,
     "user": {
      "displayName": "Pacurar Sebastian",
      "userId": "15686393619609976384"
     },
     "user_tz": -120
    },
    "id": "KHnIbSAI2rIK",
    "outputId": "6f8b6808-d6a2-4972-dba7-02ff95ce92c1",
    "is_executing": true
   },
   "outputs": [],
   "source": [
    "q(db=NC, query='''\n",
    "SELECT DISTINCT od.UnitPrice\n",
    "FROM \"Order Details\" AS od\n",
    "WHERE od.UnitPrice >= 43.0\n",
    "\tAND od.UnitPrice <= 70.0\n",
    "ORDER BY od.UnitPrice DESC\n",
    "LIMIT 5 OFFSET 2\n",
    "''')"
   ]
  },
  {
   "cell_type": "code",
   "execution_count": null,
   "metadata": {
    "executionInfo": {
     "elapsed": 4,
     "status": "ok",
     "timestamp": 1704592522946,
     "user": {
      "displayName": "Pacurar Sebastian",
      "userId": "15686393619609976384"
     },
     "user_tz": -120
    },
    "id": "mhn7a8VGcT6E",
    "is_executing": true
   },
   "outputs": [],
   "source": []
  }
 ],
 "metadata": {
  "colab": {
   "authorship_tag": "ABX9TyOfSixqoUXjllNZ2Gws0an7",
   "collapsed_sections": [
    "DayYIYuJh7Ir",
    "UlsYfhiDix56",
    "o8D47tBvg8Ov"
   ],
   "provenance": []
  },
  "kernelspec": {
   "display_name": "Python 3 (ipykernel)",
   "language": "python",
   "name": "python3"
  },
  "language_info": {
   "codemirror_mode": {
    "name": "ipython",
    "version": 3
   },
   "file_extension": ".py",
   "mimetype": "text/x-python",
   "name": "python",
   "nbconvert_exporter": "python",
   "pygments_lexer": "ipython3",
   "version": "3.11.5"
  }
 },
 "nbformat": 4,
 "nbformat_minor": 4
}
