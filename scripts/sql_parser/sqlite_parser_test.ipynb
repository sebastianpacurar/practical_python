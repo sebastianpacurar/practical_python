{
 "cells": [
  {
   "cell_type": "code",
   "execution_count": 2,
   "id": "initial_id",
   "metadata": {
    "collapsed": true,
    "ExecuteTime": {
     "end_time": "2024-01-15T03:17:18.363221700Z",
     "start_time": "2024-01-15T03:17:18.353678300Z"
    }
   },
   "outputs": [],
   "source": [
    "import scripts.sql_parser.sqlite_parser as sql\n",
    "from scripts.sql_parser.constants import *\n",
    "from scripts.sql_parser.table_operations import get_table\n",
    "\n",
    "NC_PATH = '../../data_sets/db/northwind.db'\n",
    "SC_PATH = '../../data_sets/db/sakila.db'\n",
    "CC_PATH = '../../data_sets/db/covid19.db'\n",
    "\n",
    "# instantiate parser objects based on the db path\n",
    "nc, sc, cc = sql.SqlParser(NC_PATH), sql.SqlParser(SC_PATH), sql.SqlParser(CC_PATH)\n",
    "\n",
    "# create a table reference for each db for faster querying\n",
    "nct, sct, cct = nc.table, sc.table, cc.table"
   ]
  },
  {
   "cell_type": "code",
   "execution_count": 3,
   "outputs": [
    {
     "data": {
      "text/plain": "                    name\n0             Categories\n1        sqlite_sequence\n2   CustomerCustomerDemo\n3   CustomerDemographics\n4              Customers\n5              Employees\n6    EmployeeTerritories\n7          Order Details\n8                 Orders\n9               Products\n10               Regions\n11              Shippers\n12             Suppliers\n13           Territories",
      "text/html": "<div>\n<style scoped>\n    .dataframe tbody tr th:only-of-type {\n        vertical-align: middle;\n    }\n\n    .dataframe tbody tr th {\n        vertical-align: top;\n    }\n\n    .dataframe thead th {\n        text-align: right;\n    }\n</style>\n<table border=\"1\" class=\"dataframe\">\n  <thead>\n    <tr style=\"text-align: right;\">\n      <th></th>\n      <th>name</th>\n    </tr>\n  </thead>\n  <tbody>\n    <tr>\n      <th>0</th>\n      <td>Categories</td>\n    </tr>\n    <tr>\n      <th>1</th>\n      <td>sqlite_sequence</td>\n    </tr>\n    <tr>\n      <th>2</th>\n      <td>CustomerCustomerDemo</td>\n    </tr>\n    <tr>\n      <th>3</th>\n      <td>CustomerDemographics</td>\n    </tr>\n    <tr>\n      <th>4</th>\n      <td>Customers</td>\n    </tr>\n    <tr>\n      <th>5</th>\n      <td>Employees</td>\n    </tr>\n    <tr>\n      <th>6</th>\n      <td>EmployeeTerritories</td>\n    </tr>\n    <tr>\n      <th>7</th>\n      <td>Order Details</td>\n    </tr>\n    <tr>\n      <th>8</th>\n      <td>Orders</td>\n    </tr>\n    <tr>\n      <th>9</th>\n      <td>Products</td>\n    </tr>\n    <tr>\n      <th>10</th>\n      <td>Regions</td>\n    </tr>\n    <tr>\n      <th>11</th>\n      <td>Shippers</td>\n    </tr>\n    <tr>\n      <th>12</th>\n      <td>Suppliers</td>\n    </tr>\n    <tr>\n      <th>13</th>\n      <td>Territories</td>\n    </tr>\n  </tbody>\n</table>\n</div>"
     },
     "execution_count": 3,
     "metadata": {},
     "output_type": "execute_result"
    }
   ],
   "source": [
    "# Get all Northwind tables\n",
    "nc.q(sql.ALL_TABLES)"
   ],
   "metadata": {
    "collapsed": false,
    "ExecuteTime": {
     "end_time": "2024-01-15T03:17:18.381287400Z",
     "start_time": "2024-01-15T03:17:18.365223100Z"
    }
   },
   "id": "1c9f57717c4f6bdd"
  },
  {
   "cell_type": "code",
   "execution_count": 4,
   "outputs": [
    {
     "name": "stdout",
     "output_type": "stream",
     "text": [
      "\n",
      "SELECT \n",
      "\tAVG(UnitPrice) AS \"UP Avg\",\n",
      "\tMAX(UnitPrice) AS \"UP Max\",\n",
      "\tMIN(UnitPrice) AS \"UP Min\",\n",
      "\tCOUNT(UnitPrice) AS \"UP Count\"\n",
      "FROM \"Order Details\" \n"
     ]
    },
    {
     "data": {
      "text/plain": "      UP Avg  UP Max  UP Min  UP Count\n0  28.850379   263.5       2    609283",
      "text/html": "<div>\n<style scoped>\n    .dataframe tbody tr th:only-of-type {\n        vertical-align: middle;\n    }\n\n    .dataframe tbody tr th {\n        vertical-align: top;\n    }\n\n    .dataframe thead th {\n        text-align: right;\n    }\n</style>\n<table border=\"1\" class=\"dataframe\">\n  <thead>\n    <tr style=\"text-align: right;\">\n      <th></th>\n      <th>UP Avg</th>\n      <th>UP Max</th>\n      <th>UP Min</th>\n      <th>UP Count</th>\n    </tr>\n  </thead>\n  <tbody>\n    <tr>\n      <th>0</th>\n      <td>28.850379</td>\n      <td>263.5</td>\n      <td>2</td>\n      <td>609283</td>\n    </tr>\n  </tbody>\n</table>\n</div>"
     },
     "execution_count": 4,
     "metadata": {},
     "output_type": "execute_result"
    }
   ],
   "source": [
    "# handle Aggregation functions\n",
    "\n",
    "nct(name='Order Details',\n",
    "    cols=['avg=UnitPrice:UP Avg',\n",
    "          'max=UnitPrice:UP Max',\n",
    "          'min=UnitPrice:UP Min',\n",
    "          'count=UnitPrice:UP Count'])"
   ],
   "metadata": {
    "collapsed": false,
    "ExecuteTime": {
     "end_time": "2024-01-15T03:17:18.439543200Z",
     "start_time": "2024-01-15T03:17:18.379297400Z"
    }
   },
   "id": "dd7aa3ea4b38b923"
  },
  {
   "cell_type": "code",
   "outputs": [
    {
     "name": "stdout",
     "output_type": "stream",
     "text": [
      "\n",
      "SELECT DISTINCT \n",
      "\tUnitPrice\n",
      "FROM \"Order Details\" \n",
      "WHERE UnitPrice BETWEEN 20.0 and 70.0\n",
      "\tOR UnitPrice > 20\n",
      "ORDER BY UnitPrice DESC\n",
      "LIMIT 5 OFFSET 2\n"
     ]
    },
    {
     "data": {
      "text/plain": "   UnitPrice\n0     123.79\n1      99.00\n2      97.00\n3      81.00\n4      77.60",
      "text/html": "<div>\n<style scoped>\n    .dataframe tbody tr th:only-of-type {\n        vertical-align: middle;\n    }\n\n    .dataframe tbody tr th {\n        vertical-align: top;\n    }\n\n    .dataframe thead th {\n        text-align: right;\n    }\n</style>\n<table border=\"1\" class=\"dataframe\">\n  <thead>\n    <tr style=\"text-align: right;\">\n      <th></th>\n      <th>UnitPrice</th>\n    </tr>\n  </thead>\n  <tbody>\n    <tr>\n      <th>0</th>\n      <td>123.79</td>\n    </tr>\n    <tr>\n      <th>1</th>\n      <td>99.00</td>\n    </tr>\n    <tr>\n      <th>2</th>\n      <td>97.00</td>\n    </tr>\n    <tr>\n      <th>3</th>\n      <td>81.00</td>\n    </tr>\n    <tr>\n      <th>4</th>\n      <td>77.60</td>\n    </tr>\n  </tbody>\n</table>\n</div>"
     },
     "execution_count": 5,
     "metadata": {},
     "output_type": "execute_result"
    }
   ],
   "source": [
    "# supports most of the clauses (except GROUP BY)\n",
    "\n",
    "nct(name='Order Details',\n",
    "    cols=['UnitPrice'], distinct=True,\n",
    "    where=['&20.0 >= UnitPrice <= 70.0', '|UnitPrice > 20'],\n",
    "    order_by=('UnitPrice', -1),\n",
    "    limit=5, offset=2)"
   ],
   "metadata": {
    "collapsed": false,
    "ExecuteTime": {
     "end_time": "2024-01-15T03:17:18.513125200Z",
     "start_time": "2024-01-15T03:17:18.440542700Z"
    }
   },
   "id": "13fe7315263e097c",
   "execution_count": 5
  },
  {
   "cell_type": "code",
   "outputs": [
    {
     "name": "stdout",
     "output_type": "stream",
     "text": [
      "\n",
      "SELECT \n",
      "\tCustomers.CompanyName,\n",
      "\tCustomers.Phone,\n",
      "\tCustomers.Fax,\n",
      "\to.ShipRegion,\n",
      "\to.ShipCountry\n",
      "FROM Customers\n",
      "INNER JOIN Orders o\n",
      "ON Customers.CustomerID = o.CustomerID\n",
      "LIMIT 5\n"
     ]
    },
    {
     "data": {
      "text/plain": "                 CompanyName              Phone                Fax  \\\n0  Vins et alcools Chevalier        26.47.15.10        26.47.15.11   \n1         Toms Spezialitäten        0251-031259        0251-035695   \n2              Hanari Carnes      (21) 555-0091      (21) 555-8765   \n3       Victuailles en stock        78.32.54.86        78.32.54.87   \n4           Suprêmes délices  (071) 23 67 22 20  (071) 23 67 22 21   \n\n       ShipRegion ShipCountry  \n0  Western Europe      France  \n1  Western Europe     Germany  \n2   South America      Brazil  \n3  Western Europe      France  \n4  Western Europe     Belgium  ",
      "text/html": "<div>\n<style scoped>\n    .dataframe tbody tr th:only-of-type {\n        vertical-align: middle;\n    }\n\n    .dataframe tbody tr th {\n        vertical-align: top;\n    }\n\n    .dataframe thead th {\n        text-align: right;\n    }\n</style>\n<table border=\"1\" class=\"dataframe\">\n  <thead>\n    <tr style=\"text-align: right;\">\n      <th></th>\n      <th>CompanyName</th>\n      <th>Phone</th>\n      <th>Fax</th>\n      <th>ShipRegion</th>\n      <th>ShipCountry</th>\n    </tr>\n  </thead>\n  <tbody>\n    <tr>\n      <th>0</th>\n      <td>Vins et alcools Chevalier</td>\n      <td>26.47.15.10</td>\n      <td>26.47.15.11</td>\n      <td>Western Europe</td>\n      <td>France</td>\n    </tr>\n    <tr>\n      <th>1</th>\n      <td>Toms Spezialitäten</td>\n      <td>0251-031259</td>\n      <td>0251-035695</td>\n      <td>Western Europe</td>\n      <td>Germany</td>\n    </tr>\n    <tr>\n      <th>2</th>\n      <td>Hanari Carnes</td>\n      <td>(21) 555-0091</td>\n      <td>(21) 555-8765</td>\n      <td>South America</td>\n      <td>Brazil</td>\n    </tr>\n    <tr>\n      <th>3</th>\n      <td>Victuailles en stock</td>\n      <td>78.32.54.86</td>\n      <td>78.32.54.87</td>\n      <td>Western Europe</td>\n      <td>France</td>\n    </tr>\n    <tr>\n      <th>4</th>\n      <td>Suprêmes délices</td>\n      <td>(071) 23 67 22 20</td>\n      <td>(071) 23 67 22 21</td>\n      <td>Western Europe</td>\n      <td>Belgium</td>\n    </tr>\n  </tbody>\n</table>\n</div>"
     },
     "execution_count": 6,
     "metadata": {},
     "output_type": "execute_result"
    }
   ],
   "source": [
    "# simple join (between 2 tables)\n",
    "\n",
    "nc.join(table_left={NAME: 'Customers', COLS: ['CompanyName', 'Phone', 'Fax']},\n",
    "        table_right={NAME: 'Orders:o', COLS: ['ShipRegion', 'ShipCountry']},\n",
    "        shared_col='CustomerID',\n",
    "        join=INNER,\n",
    "        limit=5)"
   ],
   "metadata": {
    "collapsed": false,
    "ExecuteTime": {
     "end_time": "2024-01-15T03:17:18.513125200Z",
     "start_time": "2024-01-15T03:17:18.503708200Z"
    }
   },
   "id": "bc24a436a30e20e",
   "execution_count": 6
  },
  {
   "cell_type": "code",
   "execution_count": 7,
   "outputs": [
    {
     "name": "stdout",
     "output_type": "stream",
     "text": [
      "\n",
      "SELECT DISTINCT \n",
      "\tC.CompanyName AS MyCompany,\n",
      "\tC.Phone AS MyPhone,\n",
      "\tC.Fax AS MyFax,\n",
      "\tO.ShipRegion,\n",
      "\tO.ShipCountry,\n",
      "\tOD.ProductId,\n",
      "\tOD.Quantity,\n",
      "\tOD.UnitPrice\n",
      "FROM Customers C\n",
      "INNER JOIN Orders O ON C.CustomerID = O.CustomerID\n",
      "LEFT JOIN \"Order Details\" OD ON O.CustomerID = OD.OrderId\n",
      "WHERE Phone LIKE '3%'\n",
      "ORDER BY ShipRegion ASC\n",
      "LIMIT 5\n"
     ]
    },
    {
     "data": {
      "text/plain": "              MyCompany      MyPhone        MyFax       ShipRegion  \\\n0         Simons bistro  31 12 34 56  31 13 35 57    British Isles   \n1  La corne d'abondance  30.59.84.10  30.59.85.11    British Isles   \n2  La corne d'abondance  30.59.84.10  30.59.85.11    British Isles   \n3  La corne d'abondance  30.59.84.10  30.59.85.11  Central America   \n4         Simons bistro  31 12 34 56  31 13 35 57  Central America   \n\n  ShipCountry ProductID Quantity UnitPrice  \n0          UK      None     None      None  \n1          UK      None     None      None  \n2     Ireland      None     None      None  \n3      Mexico      None     None      None  \n4      Mexico      None     None      None  ",
      "text/html": "<div>\n<style scoped>\n    .dataframe tbody tr th:only-of-type {\n        vertical-align: middle;\n    }\n\n    .dataframe tbody tr th {\n        vertical-align: top;\n    }\n\n    .dataframe thead th {\n        text-align: right;\n    }\n</style>\n<table border=\"1\" class=\"dataframe\">\n  <thead>\n    <tr style=\"text-align: right;\">\n      <th></th>\n      <th>MyCompany</th>\n      <th>MyPhone</th>\n      <th>MyFax</th>\n      <th>ShipRegion</th>\n      <th>ShipCountry</th>\n      <th>ProductID</th>\n      <th>Quantity</th>\n      <th>UnitPrice</th>\n    </tr>\n  </thead>\n  <tbody>\n    <tr>\n      <th>0</th>\n      <td>Simons bistro</td>\n      <td>31 12 34 56</td>\n      <td>31 13 35 57</td>\n      <td>British Isles</td>\n      <td>UK</td>\n      <td>None</td>\n      <td>None</td>\n      <td>None</td>\n    </tr>\n    <tr>\n      <th>1</th>\n      <td>La corne d'abondance</td>\n      <td>30.59.84.10</td>\n      <td>30.59.85.11</td>\n      <td>British Isles</td>\n      <td>UK</td>\n      <td>None</td>\n      <td>None</td>\n      <td>None</td>\n    </tr>\n    <tr>\n      <th>2</th>\n      <td>La corne d'abondance</td>\n      <td>30.59.84.10</td>\n      <td>30.59.85.11</td>\n      <td>British Isles</td>\n      <td>Ireland</td>\n      <td>None</td>\n      <td>None</td>\n      <td>None</td>\n    </tr>\n    <tr>\n      <th>3</th>\n      <td>La corne d'abondance</td>\n      <td>30.59.84.10</td>\n      <td>30.59.85.11</td>\n      <td>Central America</td>\n      <td>Mexico</td>\n      <td>None</td>\n      <td>None</td>\n      <td>None</td>\n    </tr>\n    <tr>\n      <th>4</th>\n      <td>Simons bistro</td>\n      <td>31 12 34 56</td>\n      <td>31 13 35 57</td>\n      <td>Central America</td>\n      <td>Mexico</td>\n      <td>None</td>\n      <td>None</td>\n      <td>None</td>\n    </tr>\n  </tbody>\n</table>\n</div>"
     },
     "execution_count": 7,
     "metadata": {},
     "output_type": "execute_result"
    }
   ],
   "source": [
    "# multi join (between more than 2 tables, based on different join types)\n",
    "\n",
    "customers_table = get_table(name='Customers:C',\n",
    "                            shared='CustomerID',\n",
    "                            cols=['CompanyName:MyCompany', 'Phone:                 MyPhone', 'Fax:MyFax'])\n",
    "orders_table = get_table(name='Orders:O',\n",
    "                         shared='CustomerID',\n",
    "                         cols=['ShipRegion', 'ShipCountry'],\n",
    "                         join=INNER)\n",
    "order_details_table = get_table(name='Order Details:OD',\n",
    "                                shared='OrderId',\n",
    "                                cols=['ProductId', 'Quantity', 'UnitPrice'],\n",
    "                                join=LEFT)\n",
    "\n",
    "nc.multi_join(tables=([customers_table, orders_table, order_details_table]),\n",
    "              starts_with=('Phone', '3'),\n",
    "              order_by=('ShipRegion', 1),\n",
    "              limit=5,\n",
    "              distinct=True)"
   ],
   "metadata": {
    "collapsed": false,
    "ExecuteTime": {
     "end_time": "2024-01-15T03:17:18.564141600Z",
     "start_time": "2024-01-15T03:17:18.512124900Z"
    }
   },
   "id": "3e7d9fd552269b8a"
  },
  {
   "cell_type": "code",
   "outputs": [
    {
     "name": "stdout",
     "output_type": "stream",
     "text": [
      "\n",
      "SELECT \n",
      "\tC.CompanyName AS \"Company Name\",\n",
      "\tC.Phone AS \"Land Phone\",\n",
      "\tO.ShipCountry,\n",
      "\tOD.ProductId,\n",
      "\tOD.Quantity,\n",
      "\tOD.UnitPrice AS Price\n",
      "FROM Customers C\n",
      "INNER JOIN Orders O ON C.CustomerID = O.CustomerID\n",
      "LEFT JOIN \"Order Details\" OD ON O.CustomerID = OD.OrderId\n",
      "LIMIT 5\n"
     ]
    },
    {
     "data": {
      "text/plain": "                Company Name         Land Phone ShipCountry ProductID  \\\n0  Vins et alcools Chevalier        26.47.15.10      France      None   \n1         Toms Spezialitäten        0251-031259     Germany      None   \n2              Hanari Carnes      (21) 555-0091      Brazil      None   \n3       Victuailles en stock        78.32.54.86      France      None   \n4           Suprêmes délices  (071) 23 67 22 20     Belgium      None   \n\n  Quantity Price  \n0     None  None  \n1     None  None  \n2     None  None  \n3     None  None  \n4     None  None  ",
      "text/html": "<div>\n<style scoped>\n    .dataframe tbody tr th:only-of-type {\n        vertical-align: middle;\n    }\n\n    .dataframe tbody tr th {\n        vertical-align: top;\n    }\n\n    .dataframe thead th {\n        text-align: right;\n    }\n</style>\n<table border=\"1\" class=\"dataframe\">\n  <thead>\n    <tr style=\"text-align: right;\">\n      <th></th>\n      <th>Company Name</th>\n      <th>Land Phone</th>\n      <th>ShipCountry</th>\n      <th>ProductID</th>\n      <th>Quantity</th>\n      <th>Price</th>\n    </tr>\n  </thead>\n  <tbody>\n    <tr>\n      <th>0</th>\n      <td>Vins et alcools Chevalier</td>\n      <td>26.47.15.10</td>\n      <td>France</td>\n      <td>None</td>\n      <td>None</td>\n      <td>None</td>\n    </tr>\n    <tr>\n      <th>1</th>\n      <td>Toms Spezialitäten</td>\n      <td>0251-031259</td>\n      <td>Germany</td>\n      <td>None</td>\n      <td>None</td>\n      <td>None</td>\n    </tr>\n    <tr>\n      <th>2</th>\n      <td>Hanari Carnes</td>\n      <td>(21) 555-0091</td>\n      <td>Brazil</td>\n      <td>None</td>\n      <td>None</td>\n      <td>None</td>\n    </tr>\n    <tr>\n      <th>3</th>\n      <td>Victuailles en stock</td>\n      <td>78.32.54.86</td>\n      <td>France</td>\n      <td>None</td>\n      <td>None</td>\n      <td>None</td>\n    </tr>\n    <tr>\n      <th>4</th>\n      <td>Suprêmes délices</td>\n      <td>(071) 23 67 22 20</td>\n      <td>Belgium</td>\n      <td>None</td>\n      <td>None</td>\n      <td>None</td>\n    </tr>\n  </tbody>\n</table>\n</div>"
     },
     "execution_count": 8,
     "metadata": {},
     "output_type": "execute_result"
    }
   ],
   "source": [
    "# multi join using dicts\n",
    "\n",
    "nc.multi_join(\n",
    "    tables=([{NAME: 'Customers:C', SHARED: 'CustomerID', COLS: ['CompanyName:Company Name', 'Phone:Land Phone']},\n",
    "             {NAME: 'Orders:O', SHARED: 'CustomerID', COLS: ['ShipCountry'], JOIN: INNER},\n",
    "             {NAME: 'Order Details:OD', SHARED: 'OrderId', COLS: ['ProductId', 'Quantity', 'UnitPrice: Price'],\n",
    "              JOIN: LEFT}]),\n",
    "    limit=5)"
   ],
   "metadata": {
    "collapsed": false,
    "ExecuteTime": {
     "end_time": "2024-01-15T03:17:18.565141600Z",
     "start_time": "2024-01-15T03:17:18.532197Z"
    }
   },
   "id": "d1446da18e6c7a31",
   "execution_count": 8
  },
  {
   "cell_type": "code",
   "outputs": [
    {
     "name": "stdout",
     "output_type": "stream",
     "text": [
      "\n",
      "SELECT \n",
      "\tShipCountry,\n",
      "\tCOUNT(\"*\") AS OrderCount\n",
      "FROM Orders \n",
      "GROUP BY ShipCountry\n",
      "ORDER BY OrderCount DESC\n",
      "LIMIT 5\n"
     ]
    },
    {
     "data": {
      "text/plain": "  ShipCountry  OrderCount\n0         USA        2328\n1     Germany        2193\n2      France        1778\n3      Brazil        1683\n4          UK        1280",
      "text/html": "<div>\n<style scoped>\n    .dataframe tbody tr th:only-of-type {\n        vertical-align: middle;\n    }\n\n    .dataframe tbody tr th {\n        vertical-align: top;\n    }\n\n    .dataframe thead th {\n        text-align: right;\n    }\n</style>\n<table border=\"1\" class=\"dataframe\">\n  <thead>\n    <tr style=\"text-align: right;\">\n      <th></th>\n      <th>ShipCountry</th>\n      <th>OrderCount</th>\n    </tr>\n  </thead>\n  <tbody>\n    <tr>\n      <th>0</th>\n      <td>USA</td>\n      <td>2328</td>\n    </tr>\n    <tr>\n      <th>1</th>\n      <td>Germany</td>\n      <td>2193</td>\n    </tr>\n    <tr>\n      <th>2</th>\n      <td>France</td>\n      <td>1778</td>\n    </tr>\n    <tr>\n      <th>3</th>\n      <td>Brazil</td>\n      <td>1683</td>\n    </tr>\n    <tr>\n      <th>4</th>\n      <td>UK</td>\n      <td>1280</td>\n    </tr>\n  </tbody>\n</table>\n</div>"
     },
     "execution_count": 9,
     "metadata": {},
     "output_type": "execute_result"
    }
   ],
   "source": [
    "nct(name='Orders',\n",
    "    cols=['ShipCountry', 'count=*:OrderCount'],\n",
    "    group_by='ShipCountry',\n",
    "    order_by=('OrderCount', -1),\n",
    "    limit=-5)"
   ],
   "metadata": {
    "collapsed": false,
    "ExecuteTime": {
     "end_time": "2024-01-15T03:17:18.579650600Z",
     "start_time": "2024-01-15T03:17:18.541120600Z"
    }
   },
   "id": "aa0f37bcefe34c38",
   "execution_count": 9
  },
  {
   "cell_type": "code",
   "execution_count": 13,
   "outputs": [
    {
     "name": "stdout",
     "output_type": "stream",
     "text": [
      "\n",
      "SELECT \n",
      "\tCategories.CategoryName,\n",
      "\tSuppliers.CompanyName,\n",
      "\tSUM(Products.UnitPrice * \"Order Details\".Quantity) AS TotalSales\n",
      "FROM Categories\n",
      "INNER JOIN Products ON Categories.CategoryId = Products.CategoryId\n",
      "INNER JOIN Suppliers ON Products.CategoryId = Suppliers.SupplierId\n",
      "INNER JOIN \"Order Details\" ON Suppliers.SupplierId = \"Order Details\".ProductId\n",
      "Group By Categories.CategoryName, Suppliers.CompanyName\n"
     ]
    },
    {
     "data": {
      "text/plain": "     CategoryName                         CompanyName   TotalSales\n0       Beverages                      Exotic Liquids  92018203.75\n1      Condiments          New Orleans Cajun Delights  55848703.50\n2     Confections           Grandma Kelly's Homestead  66130996.88\n3  Dairy Products                       Tokyo Traders  57093979.80\n4  Grains/Cereals  Cooperativa de Quesos 'Las Cabras'  28297127.25\n5    Meat/Poultry                            Mayumi's  65298920.60\n6         Produce                       Pavlova, Ltd.  33012544.50\n7         Seafood            Specialty Biscuits, Ltd.  50108071.86",
      "text/html": "<div>\n<style scoped>\n    .dataframe tbody tr th:only-of-type {\n        vertical-align: middle;\n    }\n\n    .dataframe tbody tr th {\n        vertical-align: top;\n    }\n\n    .dataframe thead th {\n        text-align: right;\n    }\n</style>\n<table border=\"1\" class=\"dataframe\">\n  <thead>\n    <tr style=\"text-align: right;\">\n      <th></th>\n      <th>CategoryName</th>\n      <th>CompanyName</th>\n      <th>TotalSales</th>\n    </tr>\n  </thead>\n  <tbody>\n    <tr>\n      <th>0</th>\n      <td>Beverages</td>\n      <td>Exotic Liquids</td>\n      <td>92018203.75</td>\n    </tr>\n    <tr>\n      <th>1</th>\n      <td>Condiments</td>\n      <td>New Orleans Cajun Delights</td>\n      <td>55848703.50</td>\n    </tr>\n    <tr>\n      <th>2</th>\n      <td>Confections</td>\n      <td>Grandma Kelly's Homestead</td>\n      <td>66130996.88</td>\n    </tr>\n    <tr>\n      <th>3</th>\n      <td>Dairy Products</td>\n      <td>Tokyo Traders</td>\n      <td>57093979.80</td>\n    </tr>\n    <tr>\n      <th>4</th>\n      <td>Grains/Cereals</td>\n      <td>Cooperativa de Quesos 'Las Cabras'</td>\n      <td>28297127.25</td>\n    </tr>\n    <tr>\n      <th>5</th>\n      <td>Meat/Poultry</td>\n      <td>Mayumi's</td>\n      <td>65298920.60</td>\n    </tr>\n    <tr>\n      <th>6</th>\n      <td>Produce</td>\n      <td>Pavlova, Ltd.</td>\n      <td>33012544.50</td>\n    </tr>\n    <tr>\n      <th>7</th>\n      <td>Seafood</td>\n      <td>Specialty Biscuits, Ltd.</td>\n      <td>50108071.86</td>\n    </tr>\n  </tbody>\n</table>\n</div>"
     },
     "execution_count": 13,
     "metadata": {},
     "output_type": "execute_result"
    }
   ],
   "source": [
    " # find the total sales amount for each category and supplier\n",
    "nc.multi_join(\n",
    "    tables=[{NAME: 'Categories', SHARED: 'CategoryId', COLS: ['CategoryName']},\n",
    "            {NAME: 'Products', SHARED: 'CategoryId', JOIN: INNER},\n",
    "            {NAME: 'Suppliers', SHARED: 'SupplierId', COLS: ['CompanyName'], JOIN: INNER},\n",
    "            {NAME: 'Order Details', SHARED: 'ProductId', COLS: [], JOIN: INNER}],\n",
    "\n",
    "    col_agg={AGG_FUNC: 'sum:TotalSales',\n",
    "             COLS: ['Products.UnitPrice', 'Order Details.Quantity'],\n",
    "             COLS_OP: '*'},\n",
    "\n",
    "    group_by=['Categories.CategoryName', 'Suppliers.CompanyName']\n",
    ")"
   ],
   "metadata": {
    "collapsed": false,
    "ExecuteTime": {
     "end_time": "2024-01-15T03:20:57.104057100Z",
     "start_time": "2024-01-15T03:20:54.238832400Z"
    }
   },
   "id": "4059fea9c215e2d"
  },
  {
   "cell_type": "code",
   "outputs": [
    {
     "name": "stdout",
     "output_type": "stream",
     "text": [
      "\n",
      "SELECT \n",
      "\tConfirmed,\n",
      "\tDate\n",
      "FROM IndiaCases \n",
      "ORDER BY confirmed DESC\n",
      "LIMIT 5\n"
     ]
    },
    {
     "data": {
      "text/plain": "   Confirmed        Date\n0      94041  2020-06-11\n1      90787  2020-06-10\n2      88528  2020-06-09\n3      85975  2020-06-08\n4      82968  2020-06-07",
      "text/html": "<div>\n<style scoped>\n    .dataframe tbody tr th:only-of-type {\n        vertical-align: middle;\n    }\n\n    .dataframe tbody tr th {\n        vertical-align: top;\n    }\n\n    .dataframe thead th {\n        text-align: right;\n    }\n</style>\n<table border=\"1\" class=\"dataframe\">\n  <thead>\n    <tr style=\"text-align: right;\">\n      <th></th>\n      <th>Confirmed</th>\n      <th>Date</th>\n    </tr>\n  </thead>\n  <tbody>\n    <tr>\n      <th>0</th>\n      <td>94041</td>\n      <td>2020-06-11</td>\n    </tr>\n    <tr>\n      <th>1</th>\n      <td>90787</td>\n      <td>2020-06-10</td>\n    </tr>\n    <tr>\n      <th>2</th>\n      <td>88528</td>\n      <td>2020-06-09</td>\n    </tr>\n    <tr>\n      <th>3</th>\n      <td>85975</td>\n      <td>2020-06-08</td>\n    </tr>\n    <tr>\n      <th>4</th>\n      <td>82968</td>\n      <td>2020-06-07</td>\n    </tr>\n  </tbody>\n</table>\n</div>"
     },
     "execution_count": 11,
     "metadata": {},
     "output_type": "execute_result"
    }
   ],
   "source": [
    "cct(name='IndiaCases',\n",
    "    cols=['Confirmed', 'Date'],\n",
    "    order_by=['confirmed', -1],\n",
    "    limit=5)"
   ],
   "metadata": {
    "collapsed": false,
    "ExecuteTime": {
     "end_time": "2024-01-15T03:17:18.772471300Z",
     "start_time": "2024-01-15T03:17:18.701705800Z"
    }
   },
   "id": "18a944a646356c32",
   "execution_count": 11
  }
 ],
 "metadata": {
  "kernelspec": {
   "display_name": "Python 3",
   "language": "python",
   "name": "python3"
  },
  "language_info": {
   "codemirror_mode": {
    "name": "ipython",
    "version": 2
   },
   "file_extension": ".py",
   "mimetype": "text/x-python",
   "name": "python",
   "nbconvert_exporter": "python",
   "pygments_lexer": "ipython2",
   "version": "2.7.6"
  }
 },
 "nbformat": 4,
 "nbformat_minor": 5
}
