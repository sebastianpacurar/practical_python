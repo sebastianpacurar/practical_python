{
 "cells": [
  {
   "cell_type": "code",
   "execution_count": 26,
   "id": "initial_id",
   "metadata": {
    "collapsed": true,
    "ExecuteTime": {
     "end_time": "2024-01-14T16:24:08.755451500Z",
     "start_time": "2024-01-14T16:24:08.739176700Z"
    }
   },
   "outputs": [],
   "source": [
    "import scripts.sql_parser.sqlite_parser as sql\n",
    "from scripts.sql_parser.constants import *\n",
    "from scripts.sql_parser.table_operations import get_table\n",
    "\n",
    "NC_PATH = '../../data_sets/db/northwind.db'\n",
    "SC_PATH = '../../data_sets/db/sakila.db'\n",
    "CC_PATH = '../../data_sets/db/covid19.db'\n",
    "\n",
    "# instantiate parser objects based on the db path\n",
    "nc, sc, cc = sql.SqlParser(NC_PATH), sql.SqlParser(SC_PATH), sql.SqlParser(CC_PATH)\n",
    "\n",
    "# create a table reference for each db for faster querying\n",
    "nct, sct, cct = nc.table, sc.table, cc.table"
   ]
  },
  {
   "cell_type": "code",
   "execution_count": 27,
   "outputs": [
    {
     "data": {
      "text/plain": "                    name\n0             Categories\n1        sqlite_sequence\n2   CustomerCustomerDemo\n3   CustomerDemographics\n4              Customers\n5              Employees\n6    EmployeeTerritories\n7          Order Details\n8                 Orders\n9               Products\n10               Regions\n11              Shippers\n12             Suppliers\n13           Territories",
      "text/html": "<div>\n<style scoped>\n    .dataframe tbody tr th:only-of-type {\n        vertical-align: middle;\n    }\n\n    .dataframe tbody tr th {\n        vertical-align: top;\n    }\n\n    .dataframe thead th {\n        text-align: right;\n    }\n</style>\n<table border=\"1\" class=\"dataframe\">\n  <thead>\n    <tr style=\"text-align: right;\">\n      <th></th>\n      <th>name</th>\n    </tr>\n  </thead>\n  <tbody>\n    <tr>\n      <th>0</th>\n      <td>Categories</td>\n    </tr>\n    <tr>\n      <th>1</th>\n      <td>sqlite_sequence</td>\n    </tr>\n    <tr>\n      <th>2</th>\n      <td>CustomerCustomerDemo</td>\n    </tr>\n    <tr>\n      <th>3</th>\n      <td>CustomerDemographics</td>\n    </tr>\n    <tr>\n      <th>4</th>\n      <td>Customers</td>\n    </tr>\n    <tr>\n      <th>5</th>\n      <td>Employees</td>\n    </tr>\n    <tr>\n      <th>6</th>\n      <td>EmployeeTerritories</td>\n    </tr>\n    <tr>\n      <th>7</th>\n      <td>Order Details</td>\n    </tr>\n    <tr>\n      <th>8</th>\n      <td>Orders</td>\n    </tr>\n    <tr>\n      <th>9</th>\n      <td>Products</td>\n    </tr>\n    <tr>\n      <th>10</th>\n      <td>Regions</td>\n    </tr>\n    <tr>\n      <th>11</th>\n      <td>Shippers</td>\n    </tr>\n    <tr>\n      <th>12</th>\n      <td>Suppliers</td>\n    </tr>\n    <tr>\n      <th>13</th>\n      <td>Territories</td>\n    </tr>\n  </tbody>\n</table>\n</div>"
     },
     "execution_count": 27,
     "metadata": {},
     "output_type": "execute_result"
    }
   ],
   "source": [
    "# Get all Northwind tables\n",
    "nc.q(sql.ALL_TABLES)"
   ],
   "metadata": {
    "collapsed": false,
    "ExecuteTime": {
     "end_time": "2024-01-14T16:24:08.789807300Z",
     "start_time": "2024-01-14T16:24:08.760446800Z"
    }
   },
   "id": "1c9f57717c4f6bdd"
  },
  {
   "cell_type": "code",
   "execution_count": 28,
   "outputs": [
    {
     "name": "stdout",
     "output_type": "stream",
     "text": [
      "\n",
      "SELECT \n",
      "\tAVG(UnitPrice) AS \"UP Avg\",\n",
      "\tMAX(UnitPrice) AS \"UP Max\",\n",
      "\tMIN(UnitPrice) AS \"UP Min\",\n",
      "\tCOUNT(UnitPrice) AS \"UP Count\"\n",
      "FROM \"Order Details\" \n"
     ]
    },
    {
     "data": {
      "text/plain": "      UP Avg  UP Max  UP Min  UP Count\n0  28.850379   263.5       2    609283",
      "text/html": "<div>\n<style scoped>\n    .dataframe tbody tr th:only-of-type {\n        vertical-align: middle;\n    }\n\n    .dataframe tbody tr th {\n        vertical-align: top;\n    }\n\n    .dataframe thead th {\n        text-align: right;\n    }\n</style>\n<table border=\"1\" class=\"dataframe\">\n  <thead>\n    <tr style=\"text-align: right;\">\n      <th></th>\n      <th>UP Avg</th>\n      <th>UP Max</th>\n      <th>UP Min</th>\n      <th>UP Count</th>\n    </tr>\n  </thead>\n  <tbody>\n    <tr>\n      <th>0</th>\n      <td>28.850379</td>\n      <td>263.5</td>\n      <td>2</td>\n      <td>609283</td>\n    </tr>\n  </tbody>\n</table>\n</div>"
     },
     "execution_count": 28,
     "metadata": {},
     "output_type": "execute_result"
    }
   ],
   "source": [
    "# handle Aggregation functions\n",
    "\n",
    "nct(name='Order Details',\n",
    "    cols=['avg=UnitPrice:UP Avg',\n",
    "          'max=UnitPrice:UP Max',\n",
    "          'min=UnitPrice:UP Min',\n",
    "          'count=UnitPrice:UP Count'])"
   ],
   "metadata": {
    "collapsed": false,
    "ExecuteTime": {
     "end_time": "2024-01-14T16:24:08.900870200Z",
     "start_time": "2024-01-14T16:24:08.793805500Z"
    }
   },
   "id": "dd7aa3ea4b38b923"
  },
  {
   "cell_type": "code",
   "outputs": [
    {
     "name": "stdout",
     "output_type": "stream",
     "text": [
      "\n",
      "SELECT DISTINCT \n",
      "\tUnitPrice\n",
      "FROM \"Order Details\" \n",
      "WHERE UnitPrice BETWEEN 20.0 and 70.0\n",
      "\tOR UnitPrice > 20\n",
      "ORDER BY UnitPrice DESC\n",
      "LIMIT 5 OFFSET 2\n"
     ]
    },
    {
     "data": {
      "text/plain": "   UnitPrice\n0     123.79\n1      99.00\n2      97.00\n3      81.00\n4      77.60",
      "text/html": "<div>\n<style scoped>\n    .dataframe tbody tr th:only-of-type {\n        vertical-align: middle;\n    }\n\n    .dataframe tbody tr th {\n        vertical-align: top;\n    }\n\n    .dataframe thead th {\n        text-align: right;\n    }\n</style>\n<table border=\"1\" class=\"dataframe\">\n  <thead>\n    <tr style=\"text-align: right;\">\n      <th></th>\n      <th>UnitPrice</th>\n    </tr>\n  </thead>\n  <tbody>\n    <tr>\n      <th>0</th>\n      <td>123.79</td>\n    </tr>\n    <tr>\n      <th>1</th>\n      <td>99.00</td>\n    </tr>\n    <tr>\n      <th>2</th>\n      <td>97.00</td>\n    </tr>\n    <tr>\n      <th>3</th>\n      <td>81.00</td>\n    </tr>\n    <tr>\n      <th>4</th>\n      <td>77.60</td>\n    </tr>\n  </tbody>\n</table>\n</div>"
     },
     "execution_count": 29,
     "metadata": {},
     "output_type": "execute_result"
    }
   ],
   "source": [
    "# supports most of the clauses (except GROUP BY)\n",
    "\n",
    "nct(name='Order Details',\n",
    "    cols=['UnitPrice'], distinct=True,\n",
    "    where=['&20.0 >= UnitPrice <= 70.0', '|UnitPrice > 20'],\n",
    "    order_by=('UnitPrice', -1),\n",
    "    limit=5, offset=2)"
   ],
   "metadata": {
    "collapsed": false,
    "ExecuteTime": {
     "end_time": "2024-01-14T16:24:08.968427Z",
     "start_time": "2024-01-14T16:24:08.864862800Z"
    }
   },
   "id": "13fe7315263e097c",
   "execution_count": 29
  },
  {
   "cell_type": "code",
   "outputs": [
    {
     "name": "stdout",
     "output_type": "stream",
     "text": [
      "\n",
      "SELECT \n",
      "\tCustomers.CompanyName,\n",
      "\tCustomers.Phone,\n",
      "\tCustomers.Fax,\n",
      "\to.ShipRegion,\n",
      "\to.ShipCountry\n",
      "FROM Customers\n",
      "INNER JOIN Orders o\n",
      "ON Customers.CustomerID = o.CustomerID\n",
      "LIMIT 5\n"
     ]
    },
    {
     "data": {
      "text/plain": "                 CompanyName              Phone                Fax  \\\n0  Vins et alcools Chevalier        26.47.15.10        26.47.15.11   \n1         Toms Spezialitäten        0251-031259        0251-035695   \n2              Hanari Carnes      (21) 555-0091      (21) 555-8765   \n3       Victuailles en stock        78.32.54.86        78.32.54.87   \n4           Suprêmes délices  (071) 23 67 22 20  (071) 23 67 22 21   \n\n       ShipRegion ShipCountry  \n0  Western Europe      France  \n1  Western Europe     Germany  \n2   South America      Brazil  \n3  Western Europe      France  \n4  Western Europe     Belgium  ",
      "text/html": "<div>\n<style scoped>\n    .dataframe tbody tr th:only-of-type {\n        vertical-align: middle;\n    }\n\n    .dataframe tbody tr th {\n        vertical-align: top;\n    }\n\n    .dataframe thead th {\n        text-align: right;\n    }\n</style>\n<table border=\"1\" class=\"dataframe\">\n  <thead>\n    <tr style=\"text-align: right;\">\n      <th></th>\n      <th>CompanyName</th>\n      <th>Phone</th>\n      <th>Fax</th>\n      <th>ShipRegion</th>\n      <th>ShipCountry</th>\n    </tr>\n  </thead>\n  <tbody>\n    <tr>\n      <th>0</th>\n      <td>Vins et alcools Chevalier</td>\n      <td>26.47.15.10</td>\n      <td>26.47.15.11</td>\n      <td>Western Europe</td>\n      <td>France</td>\n    </tr>\n    <tr>\n      <th>1</th>\n      <td>Toms Spezialitäten</td>\n      <td>0251-031259</td>\n      <td>0251-035695</td>\n      <td>Western Europe</td>\n      <td>Germany</td>\n    </tr>\n    <tr>\n      <th>2</th>\n      <td>Hanari Carnes</td>\n      <td>(21) 555-0091</td>\n      <td>(21) 555-8765</td>\n      <td>South America</td>\n      <td>Brazil</td>\n    </tr>\n    <tr>\n      <th>3</th>\n      <td>Victuailles en stock</td>\n      <td>78.32.54.86</td>\n      <td>78.32.54.87</td>\n      <td>Western Europe</td>\n      <td>France</td>\n    </tr>\n    <tr>\n      <th>4</th>\n      <td>Suprêmes délices</td>\n      <td>(071) 23 67 22 20</td>\n      <td>(071) 23 67 22 21</td>\n      <td>Western Europe</td>\n      <td>Belgium</td>\n    </tr>\n  </tbody>\n</table>\n</div>"
     },
     "execution_count": 30,
     "metadata": {},
     "output_type": "execute_result"
    }
   ],
   "source": [
    "# simple join (between 2 tables)\n",
    "\n",
    "nc.join(table_left={NAME: 'Customers', COLS: ['CompanyName', 'Phone', 'Fax']},\n",
    "        table_right={NAME: 'Orders:o', COLS: ['ShipRegion', 'ShipCountry']},\n",
    "        shared_col='CustomerID',\n",
    "        join=INNER,\n",
    "        limit=5)"
   ],
   "metadata": {
    "collapsed": false,
    "ExecuteTime": {
     "end_time": "2024-01-14T16:24:08.970751100Z",
     "start_time": "2024-01-14T16:24:08.942439200Z"
    }
   },
   "id": "bc24a436a30e20e",
   "execution_count": 30
  },
  {
   "cell_type": "code",
   "execution_count": 31,
   "outputs": [
    {
     "name": "stdout",
     "output_type": "stream",
     "text": [
      "\n",
      "SELECT DISTINCT \n",
      "\tC.CompanyName AS MyCompany,\n",
      "\tC.Phone AS MyPhone,\n",
      "\tC.Fax AS MyFax,\n",
      "\tO.ShipRegion,\n",
      "\tO.ShipCountry,\n",
      "\tOD.ProductId,\n",
      "\tOD.Quantity,\n",
      "\tOD.UnitPrice\n",
      "FROM Customers C\n",
      "INNER JOIN Orders O ON C.CustomerID = O.CustomerID\n",
      "LEFT JOIN \"Order Details\" OD ON O.CustomerID = OD.OrderId\n",
      "WHERE Phone LIKE '3%'\n",
      "ORDER BY ShipRegion ASC\n",
      "LIMIT 5\n",
      "\n",
      "              MyCompany      MyPhone        MyFax       ShipRegion  \\\n",
      "0         Simons bistro  31 12 34 56  31 13 35 57    British Isles   \n",
      "1  La corne d'abondance  30.59.84.10  30.59.85.11    British Isles   \n",
      "2  La corne d'abondance  30.59.84.10  30.59.85.11    British Isles   \n",
      "3  La corne d'abondance  30.59.84.10  30.59.85.11  Central America   \n",
      "4         Simons bistro  31 12 34 56  31 13 35 57  Central America   \n",
      "\n",
      "  ShipCountry ProductID Quantity UnitPrice  \n",
      "0          UK      None     None      None  \n",
      "1          UK      None     None      None  \n",
      "2     Ireland      None     None      None  \n",
      "3      Mexico      None     None      None  \n",
      "4      Mexico      None     None      None  \n"
     ]
    }
   ],
   "source": [
    "# multi join (between more than 2 tables, based on different join types)\n",
    "\n",
    "customers_table = get_table(name='Customers:C',\n",
    "                            shared='CustomerID',\n",
    "                            cols=['CompanyName:MyCompany', 'Phone:                 MyPhone', 'Fax:MyFax'])\n",
    "orders_table = get_table(name='Orders:O',\n",
    "                         shared='CustomerID',\n",
    "                         cols=['ShipRegion', 'ShipCountry'],\n",
    "                         join=INNER)\n",
    "order_details_table = get_table(name='Order Details:OD',\n",
    "                                shared='OrderId',\n",
    "                                cols=['ProductId', 'Quantity', 'UnitPrice'],\n",
    "                                join=LEFT)\n",
    "\n",
    "print(nc.multi_join(tables=([customers_table, orders_table, order_details_table]),\n",
    "                    starts_with=('Phone', '3'),\n",
    "                    order_by=('ShipRegion', 1),\n",
    "                    limit=5,\n",
    "                    distinct=True))"
   ],
   "metadata": {
    "collapsed": false,
    "ExecuteTime": {
     "end_time": "2024-01-14T16:24:08.998171300Z",
     "start_time": "2024-01-14T16:24:08.950850400Z"
    }
   },
   "id": "3e7d9fd552269b8a"
  },
  {
   "cell_type": "code",
   "outputs": [
    {
     "name": "stdout",
     "output_type": "stream",
     "text": [
      "\n",
      "SELECT \n",
      "\tC.CompanyName AS \"Company Name\",\n",
      "\tC.Phone AS \"Land Phone\",\n",
      "\tO.ShipCountry,\n",
      "\tOD.ProductId,\n",
      "\tOD.Quantity,\n",
      "\tOD.UnitPrice AS Price\n",
      "FROM Customers C\n",
      "INNER JOIN Orders O ON C.CustomerID = O.CustomerID\n",
      "LEFT JOIN \"Order Details\" OD ON O.CustomerID = OD.OrderId\n",
      "LIMIT 5\n"
     ]
    },
    {
     "data": {
      "text/plain": "                Company Name         Land Phone ShipCountry ProductID  \\\n0  Vins et alcools Chevalier        26.47.15.10      France      None   \n1         Toms Spezialitäten        0251-031259     Germany      None   \n2              Hanari Carnes      (21) 555-0091      Brazil      None   \n3       Victuailles en stock        78.32.54.86      France      None   \n4           Suprêmes délices  (071) 23 67 22 20     Belgium      None   \n\n  Quantity Price  \n0     None  None  \n1     None  None  \n2     None  None  \n3     None  None  \n4     None  None  ",
      "text/html": "<div>\n<style scoped>\n    .dataframe tbody tr th:only-of-type {\n        vertical-align: middle;\n    }\n\n    .dataframe tbody tr th {\n        vertical-align: top;\n    }\n\n    .dataframe thead th {\n        text-align: right;\n    }\n</style>\n<table border=\"1\" class=\"dataframe\">\n  <thead>\n    <tr style=\"text-align: right;\">\n      <th></th>\n      <th>Company Name</th>\n      <th>Land Phone</th>\n      <th>ShipCountry</th>\n      <th>ProductID</th>\n      <th>Quantity</th>\n      <th>Price</th>\n    </tr>\n  </thead>\n  <tbody>\n    <tr>\n      <th>0</th>\n      <td>Vins et alcools Chevalier</td>\n      <td>26.47.15.10</td>\n      <td>France</td>\n      <td>None</td>\n      <td>None</td>\n      <td>None</td>\n    </tr>\n    <tr>\n      <th>1</th>\n      <td>Toms Spezialitäten</td>\n      <td>0251-031259</td>\n      <td>Germany</td>\n      <td>None</td>\n      <td>None</td>\n      <td>None</td>\n    </tr>\n    <tr>\n      <th>2</th>\n      <td>Hanari Carnes</td>\n      <td>(21) 555-0091</td>\n      <td>Brazil</td>\n      <td>None</td>\n      <td>None</td>\n      <td>None</td>\n    </tr>\n    <tr>\n      <th>3</th>\n      <td>Victuailles en stock</td>\n      <td>78.32.54.86</td>\n      <td>France</td>\n      <td>None</td>\n      <td>None</td>\n      <td>None</td>\n    </tr>\n    <tr>\n      <th>4</th>\n      <td>Suprêmes délices</td>\n      <td>(071) 23 67 22 20</td>\n      <td>Belgium</td>\n      <td>None</td>\n      <td>None</td>\n      <td>None</td>\n    </tr>\n  </tbody>\n</table>\n</div>"
     },
     "execution_count": 32,
     "metadata": {},
     "output_type": "execute_result"
    }
   ],
   "source": [
    "# the same multi join as above, but by using direct dictionaries, without calling get_table()\n",
    "\n",
    "nc.multi_join(\n",
    "    tables=([{NAME: 'Customers:C', SHARED: 'CustomerID', COLS: ['CompanyName:Company Name', 'Phone:Land Phone']},\n",
    "             {NAME: 'Orders:O', SHARED: 'CustomerID', COLS: ['ShipCountry'], JOIN: INNER},\n",
    "             {NAME: 'Order Details:OD', SHARED: 'OrderId', COLS: ['ProductId', 'Quantity', 'UnitPrice: Price'],\n",
    "              JOIN: LEFT}]),\n",
    "    limit=5)"
   ],
   "metadata": {
    "collapsed": false,
    "ExecuteTime": {
     "end_time": "2024-01-14T16:24:09.037485Z",
     "start_time": "2024-01-14T16:24:08.964145800Z"
    }
   },
   "id": "d1446da18e6c7a31",
   "execution_count": 32
  },
  {
   "cell_type": "code",
   "outputs": [
    {
     "name": "stdout",
     "output_type": "stream",
     "text": [
      "\n",
      "SELECT \n",
      "\tShipCountry,\n",
      "\tCOUNT(\"*\") AS OrderCount\n",
      "FROM Orders \n",
      "GROUP BY ShipCountry\n",
      "ORDER BY OrderCount DESC\n",
      "\n"
     ]
    },
    {
     "data": {
      "text/plain": "    ShipCountry  OrderCount\n0           USA        2328\n1       Germany        2193\n2        France        1778\n3        Brazil        1683\n4            UK        1280\n5        Mexico         899\n6     Venezuela         707\n7         Spain         691\n8        Canada         547\n9         Italy         538\n10    Argentina         535\n11       Sweden         391\n12      Austria         380\n13      Finland         369\n14  Switzerland         367\n15     Portugal         357\n16      Denmark         352\n17      Belgium         338\n18       Poland         213\n19      Ireland         172\n20       Norway         164",
      "text/html": "<div>\n<style scoped>\n    .dataframe tbody tr th:only-of-type {\n        vertical-align: middle;\n    }\n\n    .dataframe tbody tr th {\n        vertical-align: top;\n    }\n\n    .dataframe thead th {\n        text-align: right;\n    }\n</style>\n<table border=\"1\" class=\"dataframe\">\n  <thead>\n    <tr style=\"text-align: right;\">\n      <th></th>\n      <th>ShipCountry</th>\n      <th>OrderCount</th>\n    </tr>\n  </thead>\n  <tbody>\n    <tr>\n      <th>0</th>\n      <td>USA</td>\n      <td>2328</td>\n    </tr>\n    <tr>\n      <th>1</th>\n      <td>Germany</td>\n      <td>2193</td>\n    </tr>\n    <tr>\n      <th>2</th>\n      <td>France</td>\n      <td>1778</td>\n    </tr>\n    <tr>\n      <th>3</th>\n      <td>Brazil</td>\n      <td>1683</td>\n    </tr>\n    <tr>\n      <th>4</th>\n      <td>UK</td>\n      <td>1280</td>\n    </tr>\n    <tr>\n      <th>5</th>\n      <td>Mexico</td>\n      <td>899</td>\n    </tr>\n    <tr>\n      <th>6</th>\n      <td>Venezuela</td>\n      <td>707</td>\n    </tr>\n    <tr>\n      <th>7</th>\n      <td>Spain</td>\n      <td>691</td>\n    </tr>\n    <tr>\n      <th>8</th>\n      <td>Canada</td>\n      <td>547</td>\n    </tr>\n    <tr>\n      <th>9</th>\n      <td>Italy</td>\n      <td>538</td>\n    </tr>\n    <tr>\n      <th>10</th>\n      <td>Argentina</td>\n      <td>535</td>\n    </tr>\n    <tr>\n      <th>11</th>\n      <td>Sweden</td>\n      <td>391</td>\n    </tr>\n    <tr>\n      <th>12</th>\n      <td>Austria</td>\n      <td>380</td>\n    </tr>\n    <tr>\n      <th>13</th>\n      <td>Finland</td>\n      <td>369</td>\n    </tr>\n    <tr>\n      <th>14</th>\n      <td>Switzerland</td>\n      <td>367</td>\n    </tr>\n    <tr>\n      <th>15</th>\n      <td>Portugal</td>\n      <td>357</td>\n    </tr>\n    <tr>\n      <th>16</th>\n      <td>Denmark</td>\n      <td>352</td>\n    </tr>\n    <tr>\n      <th>17</th>\n      <td>Belgium</td>\n      <td>338</td>\n    </tr>\n    <tr>\n      <th>18</th>\n      <td>Poland</td>\n      <td>213</td>\n    </tr>\n    <tr>\n      <th>19</th>\n      <td>Ireland</td>\n      <td>172</td>\n    </tr>\n    <tr>\n      <th>20</th>\n      <td>Norway</td>\n      <td>164</td>\n    </tr>\n  </tbody>\n</table>\n</div>"
     },
     "execution_count": 33,
     "metadata": {},
     "output_type": "execute_result"
    }
   ],
   "source": [
    "nct(name='Orders',\n",
    "    cols=['ShipCountry', 'count=*:OrderCount'],\n",
    "    group_by='ShipCountry',\n",
    "    order_by=('OrderCount', -1))"
   ],
   "metadata": {
    "collapsed": false,
    "ExecuteTime": {
     "end_time": "2024-01-14T16:24:09.037485Z",
     "start_time": "2024-01-14T16:24:08.973750400Z"
    }
   },
   "id": "aa0f37bcefe34c38",
   "execution_count": 33
  },
  {
   "cell_type": "code",
   "execution_count": 34,
   "outputs": [
    {
     "data": {
      "text/plain": "               name\n0  android_metadata\n1         csvImport\n2           Country\n3             !Info\n4             Cases\n5     CasesPrevious\n6   CountryPrevious\n7             India\n8    csvImportIndia\n9        IndiaCases",
      "text/html": "<div>\n<style scoped>\n    .dataframe tbody tr th:only-of-type {\n        vertical-align: middle;\n    }\n\n    .dataframe tbody tr th {\n        vertical-align: top;\n    }\n\n    .dataframe thead th {\n        text-align: right;\n    }\n</style>\n<table border=\"1\" class=\"dataframe\">\n  <thead>\n    <tr style=\"text-align: right;\">\n      <th></th>\n      <th>name</th>\n    </tr>\n  </thead>\n  <tbody>\n    <tr>\n      <th>0</th>\n      <td>android_metadata</td>\n    </tr>\n    <tr>\n      <th>1</th>\n      <td>csvImport</td>\n    </tr>\n    <tr>\n      <th>2</th>\n      <td>Country</td>\n    </tr>\n    <tr>\n      <th>3</th>\n      <td>!Info</td>\n    </tr>\n    <tr>\n      <th>4</th>\n      <td>Cases</td>\n    </tr>\n    <tr>\n      <th>5</th>\n      <td>CasesPrevious</td>\n    </tr>\n    <tr>\n      <th>6</th>\n      <td>CountryPrevious</td>\n    </tr>\n    <tr>\n      <th>7</th>\n      <td>India</td>\n    </tr>\n    <tr>\n      <th>8</th>\n      <td>csvImportIndia</td>\n    </tr>\n    <tr>\n      <th>9</th>\n      <td>IndiaCases</td>\n    </tr>\n  </tbody>\n</table>\n</div>"
     },
     "execution_count": 34,
     "metadata": {},
     "output_type": "execute_result"
    }
   ],
   "source": [
    "# Get all covid19 tables\n",
    "\n",
    "cc.q(sql.ALL_TABLES)"
   ],
   "metadata": {
    "collapsed": false,
    "ExecuteTime": {
     "end_time": "2024-01-14T16:24:09.124037600Z",
     "start_time": "2024-01-14T16:24:09.040492400Z"
    }
   },
   "id": "4059fea9c215e2d"
  },
  {
   "cell_type": "code",
   "outputs": [
    {
     "name": "stdout",
     "output_type": "stream",
     "text": [
      "\n",
      "SELECT \n",
      "\tConfirmed,\n",
      "\tDate\n",
      "FROM IndiaCases \n",
      "ORDER BY confirmed DESC\n",
      "LIMIT 5\n",
      "\n"
     ]
    },
    {
     "data": {
      "text/plain": "   Confirmed        Date\n0      94041  2020-06-11\n1      90787  2020-06-10\n2      88528  2020-06-09\n3      85975  2020-06-08\n4      82968  2020-06-07",
      "text/html": "<div>\n<style scoped>\n    .dataframe tbody tr th:only-of-type {\n        vertical-align: middle;\n    }\n\n    .dataframe tbody tr th {\n        vertical-align: top;\n    }\n\n    .dataframe thead th {\n        text-align: right;\n    }\n</style>\n<table border=\"1\" class=\"dataframe\">\n  <thead>\n    <tr style=\"text-align: right;\">\n      <th></th>\n      <th>Confirmed</th>\n      <th>Date</th>\n    </tr>\n  </thead>\n  <tbody>\n    <tr>\n      <th>0</th>\n      <td>94041</td>\n      <td>2020-06-11</td>\n    </tr>\n    <tr>\n      <th>1</th>\n      <td>90787</td>\n      <td>2020-06-10</td>\n    </tr>\n    <tr>\n      <th>2</th>\n      <td>88528</td>\n      <td>2020-06-09</td>\n    </tr>\n    <tr>\n      <th>3</th>\n      <td>85975</td>\n      <td>2020-06-08</td>\n    </tr>\n    <tr>\n      <th>4</th>\n      <td>82968</td>\n      <td>2020-06-07</td>\n    </tr>\n  </tbody>\n</table>\n</div>"
     },
     "execution_count": 35,
     "metadata": {},
     "output_type": "execute_result"
    }
   ],
   "source": [
    "cct(name='IndiaCases',\n",
    "    cols=['Confirmed', 'Date'],\n",
    "    order_by=['confirmed', -1],\n",
    "    limit=5)"
   ],
   "metadata": {
    "collapsed": false,
    "ExecuteTime": {
     "end_time": "2024-01-14T16:24:09.187552500Z",
     "start_time": "2024-01-14T16:24:09.102329200Z"
    }
   },
   "id": "18a944a646356c32",
   "execution_count": 35
  }
 ],
 "metadata": {
  "kernelspec": {
   "display_name": "Python 3",
   "language": "python",
   "name": "python3"
  },
  "language_info": {
   "codemirror_mode": {
    "name": "ipython",
    "version": 2
   },
   "file_extension": ".py",
   "mimetype": "text/x-python",
   "name": "python",
   "nbconvert_exporter": "python",
   "pygments_lexer": "ipython2",
   "version": "2.7.6"
  }
 },
 "nbformat": 4,
 "nbformat_minor": 5
}
