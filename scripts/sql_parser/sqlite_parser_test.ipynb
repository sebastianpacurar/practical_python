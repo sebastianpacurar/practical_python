{
 "cells": [
  {
   "cell_type": "code",
   "execution_count": 15,
   "id": "initial_id",
   "metadata": {
    "collapsed": true,
    "ExecuteTime": {
     "end_time": "2024-01-11T01:57:48.601586100Z",
     "start_time": "2024-01-11T01:57:48.593136100Z"
    }
   },
   "outputs": [],
   "source": [
    "import scripts.sql_parser.sqlite_parser as sql\n",
    "from scripts.sql_parser.table_operations import get_table\n",
    "\n",
    "NC_PATH = '../../data_sets/db/northwind.db'\n",
    "SC_PATH = '../../data_sets/db/sakila.db'\n",
    "CC_PATH = '../../data_sets/db/covid19.db'\n",
    "\n",
    "# instantiate parser objects based on the db path\n",
    "nc, sc, cc = sql.SqlParser(NC_PATH), sql.SqlParser(SC_PATH), sql.SqlParser(CC_PATH)\n",
    "\n",
    "# create a table reference for each db for faster querying\n",
    "nct, sct, cct = nc.table, sc.table, cc.table"
   ]
  },
  {
   "cell_type": "code",
   "execution_count": 16,
   "outputs": [
    {
     "data": {
      "text/plain": "                    name\n0             Categories\n1        sqlite_sequence\n2   CustomerCustomerDemo\n3   CustomerDemographics\n4              Customers\n5              Employees\n6    EmployeeTerritories\n7          Order Details\n8                 Orders\n9               Products\n10               Regions\n11              Shippers\n12             Suppliers\n13           Territories",
      "text/html": "<div>\n<style scoped>\n    .dataframe tbody tr th:only-of-type {\n        vertical-align: middle;\n    }\n\n    .dataframe tbody tr th {\n        vertical-align: top;\n    }\n\n    .dataframe thead th {\n        text-align: right;\n    }\n</style>\n<table border=\"1\" class=\"dataframe\">\n  <thead>\n    <tr style=\"text-align: right;\">\n      <th></th>\n      <th>name</th>\n    </tr>\n  </thead>\n  <tbody>\n    <tr>\n      <th>0</th>\n      <td>Categories</td>\n    </tr>\n    <tr>\n      <th>1</th>\n      <td>sqlite_sequence</td>\n    </tr>\n    <tr>\n      <th>2</th>\n      <td>CustomerCustomerDemo</td>\n    </tr>\n    <tr>\n      <th>3</th>\n      <td>CustomerDemographics</td>\n    </tr>\n    <tr>\n      <th>4</th>\n      <td>Customers</td>\n    </tr>\n    <tr>\n      <th>5</th>\n      <td>Employees</td>\n    </tr>\n    <tr>\n      <th>6</th>\n      <td>EmployeeTerritories</td>\n    </tr>\n    <tr>\n      <th>7</th>\n      <td>Order Details</td>\n    </tr>\n    <tr>\n      <th>8</th>\n      <td>Orders</td>\n    </tr>\n    <tr>\n      <th>9</th>\n      <td>Products</td>\n    </tr>\n    <tr>\n      <th>10</th>\n      <td>Regions</td>\n    </tr>\n    <tr>\n      <th>11</th>\n      <td>Shippers</td>\n    </tr>\n    <tr>\n      <th>12</th>\n      <td>Suppliers</td>\n    </tr>\n    <tr>\n      <th>13</th>\n      <td>Territories</td>\n    </tr>\n  </tbody>\n</table>\n</div>"
     },
     "execution_count": 16,
     "metadata": {},
     "output_type": "execute_result"
    }
   ],
   "source": [
    "# Get all Northwind tables\n",
    "nc.q(sql.ALL_TABLES)"
   ],
   "metadata": {
    "collapsed": false,
    "ExecuteTime": {
     "end_time": "2024-01-11T01:57:48.651588300Z",
     "start_time": "2024-01-11T01:57:48.603850700Z"
    }
   },
   "id": "1c9f57717c4f6bdd"
  },
  {
   "cell_type": "code",
   "execution_count": 17,
   "outputs": [
    {
     "name": "stdout",
     "output_type": "stream",
     "text": [
      "\n",
      "SELECT DISTINCT UnitPrice\n",
      "FROM \"Order Details\" \n",
      "WHERE UnitPrice BETWEEN 20.0 and 70.0\n",
      "ORDER BY UnitPrice DESC\n",
      "LIMIT 5 OFFSET 2\n"
     ]
    },
    {
     "data": {
      "text/plain": "   UnitPrice\n0       55.0\n1       53.0\n2       50.0\n3       49.3\n4       46.0",
      "text/html": "<div>\n<style scoped>\n    .dataframe tbody tr th:only-of-type {\n        vertical-align: middle;\n    }\n\n    .dataframe tbody tr th {\n        vertical-align: top;\n    }\n\n    .dataframe thead th {\n        text-align: right;\n    }\n</style>\n<table border=\"1\" class=\"dataframe\">\n  <thead>\n    <tr style=\"text-align: right;\">\n      <th></th>\n      <th>UnitPrice</th>\n    </tr>\n  </thead>\n  <tbody>\n    <tr>\n      <th>0</th>\n      <td>55.0</td>\n    </tr>\n    <tr>\n      <th>1</th>\n      <td>53.0</td>\n    </tr>\n    <tr>\n      <th>2</th>\n      <td>50.0</td>\n    </tr>\n    <tr>\n      <th>3</th>\n      <td>49.3</td>\n    </tr>\n    <tr>\n      <th>4</th>\n      <td>46.0</td>\n    </tr>\n  </tbody>\n</table>\n</div>"
     },
     "execution_count": 17,
     "metadata": {},
     "output_type": "execute_result"
    }
   ],
   "source": [
    "nct(name='Order Details',\n",
    "    cols=['UnitPrice'],\n",
    "    distinct=True,\n",
    "    where=['&20.0 >= UnitPrice <= 70.0'],\n",
    "    order_by=['UnitPrice', -1],\n",
    "    limit=5, offset=2)"
   ],
   "metadata": {
    "collapsed": false,
    "ExecuteTime": {
     "end_time": "2024-01-11T01:57:48.705543200Z",
     "start_time": "2024-01-11T01:57:48.612809900Z"
    }
   },
   "id": "e55d828600f124d5"
  },
  {
   "cell_type": "code",
   "execution_count": 18,
   "outputs": [
    {
     "name": "stdout",
     "output_type": "stream",
     "text": [
      "\n",
      "SELECT AVG(UnitPrice) AS \"UP Avg\",\n",
      "\tMAX(UnitPrice) AS \"UP Max\",\n",
      "\tMIN(UnitPrice) AS \"UP Min\",\n",
      "\tCOUNT(UnitPrice) AS \"UP Count\"\n",
      "FROM \"Order Details\" \n"
     ]
    },
    {
     "data": {
      "text/plain": "      UP Avg  UP Max  UP Min  UP Count\n0  28.850379   263.5       2    609283",
      "text/html": "<div>\n<style scoped>\n    .dataframe tbody tr th:only-of-type {\n        vertical-align: middle;\n    }\n\n    .dataframe tbody tr th {\n        vertical-align: top;\n    }\n\n    .dataframe thead th {\n        text-align: right;\n    }\n</style>\n<table border=\"1\" class=\"dataframe\">\n  <thead>\n    <tr style=\"text-align: right;\">\n      <th></th>\n      <th>UP Avg</th>\n      <th>UP Max</th>\n      <th>UP Min</th>\n      <th>UP Count</th>\n    </tr>\n  </thead>\n  <tbody>\n    <tr>\n      <th>0</th>\n      <td>28.850379</td>\n      <td>263.5</td>\n      <td>2</td>\n      <td>609283</td>\n    </tr>\n  </tbody>\n</table>\n</div>"
     },
     "execution_count": 18,
     "metadata": {},
     "output_type": "execute_result"
    }
   ],
   "source": [
    "nct(name='Order Details',\n",
    "    cols=['avg=UnitPrice:UP Avg',\n",
    "          'max=UnitPrice:UP Max',\n",
    "          'min=UnitPrice:UP Min',\n",
    "          'count=UnitPrice:UP Count'])"
   ],
   "metadata": {
    "collapsed": false,
    "ExecuteTime": {
     "end_time": "2024-01-11T01:57:48.743318800Z",
     "start_time": "2024-01-11T01:57:48.671392200Z"
    }
   },
   "id": "dd7aa3ea4b38b923"
  },
  {
   "cell_type": "code",
   "execution_count": 25,
   "outputs": [
    {
     "name": "stdout",
     "output_type": "stream",
     "text": [
      "\n",
      "SELECT DISTINCT \n",
      "\tC.CompanyName,\n",
      "\tC.Phone,\n",
      "\tO.ShipCountry,\n",
      "\tOD.ProductId,\n",
      "\tOD.Quantity,\n",
      "\tOD.UnitPrice\n",
      "FROM Customers C\n",
      "INNER JOIN Orders O ON C.CustomerID = O.CustomerID\n",
      "LEFT JOIN \"Order Details\" OD ON O.OrderId = OD.OrderId\n",
      "WHERE Phone LIKE \"3%\"\n",
      "ORDER BY ShipRegion ASC\n",
      "LIMIT 5\n",
      "\n",
      "     CompanyName        Phone ShipCountry  ProductID  Quantity  UnitPrice\n",
      "0  Simons bistro  31 12 34 56          UK          3        10      10.00\n",
      "1  Simons bistro  31 12 34 56          UK          5        35      21.35\n",
      "2  Simons bistro  31 12 34 56          UK          6         8      25.00\n",
      "3  Simons bistro  31 12 34 56          UK          8        20      40.00\n",
      "4  Simons bistro  31 12 34 56          UK          9        20      97.00\n"
     ]
    }
   ],
   "source": [
    "# multi join (join more than 2 tables, based on different join types)\n",
    "\n",
    "customers_table = get_table(name='Customers:C',\n",
    "                            shared='CustomerID',\n",
    "                            cols=['CompanyName', 'Phone'])\n",
    "orders_table = get_table(name='Orders:O',\n",
    "                         shared='CustomerID',\n",
    "                         cols=['ShipCountry'],\n",
    "                         join='i')\n",
    "order_details_table = get_table(name='Order Details:OD',\n",
    "                                shared='OrderId',\n",
    "                                cols=['ProductId', 'Quantity', 'UnitPrice'],\n",
    "                                join='l')\n",
    "\n",
    "print(nc.multi_join(tables=([customers_table, orders_table, order_details_table]),\n",
    "              starts_with=('Phone', '3'),\n",
    "              order_by=('ShipRegion', 1),\n",
    "              limit=5,\n",
    "              distinct=True))"
   ],
   "metadata": {
    "collapsed": false,
    "ExecuteTime": {
     "end_time": "2024-01-11T01:59:13.423914300Z",
     "start_time": "2024-01-11T01:59:13.394524900Z"
    }
   },
   "id": "3e7d9fd552269b8a"
  },
  {
   "cell_type": "code",
   "execution_count": 20,
   "outputs": [
    {
     "data": {
      "text/plain": "               name\n0  android_metadata\n1         csvImport\n2           Country\n3             !Info\n4             Cases\n5     CasesPrevious\n6   CountryPrevious\n7             India\n8    csvImportIndia\n9        IndiaCases",
      "text/html": "<div>\n<style scoped>\n    .dataframe tbody tr th:only-of-type {\n        vertical-align: middle;\n    }\n\n    .dataframe tbody tr th {\n        vertical-align: top;\n    }\n\n    .dataframe thead th {\n        text-align: right;\n    }\n</style>\n<table border=\"1\" class=\"dataframe\">\n  <thead>\n    <tr style=\"text-align: right;\">\n      <th></th>\n      <th>name</th>\n    </tr>\n  </thead>\n  <tbody>\n    <tr>\n      <th>0</th>\n      <td>android_metadata</td>\n    </tr>\n    <tr>\n      <th>1</th>\n      <td>csvImport</td>\n    </tr>\n    <tr>\n      <th>2</th>\n      <td>Country</td>\n    </tr>\n    <tr>\n      <th>3</th>\n      <td>!Info</td>\n    </tr>\n    <tr>\n      <th>4</th>\n      <td>Cases</td>\n    </tr>\n    <tr>\n      <th>5</th>\n      <td>CasesPrevious</td>\n    </tr>\n    <tr>\n      <th>6</th>\n      <td>CountryPrevious</td>\n    </tr>\n    <tr>\n      <th>7</th>\n      <td>India</td>\n    </tr>\n    <tr>\n      <th>8</th>\n      <td>csvImportIndia</td>\n    </tr>\n    <tr>\n      <th>9</th>\n      <td>IndiaCases</td>\n    </tr>\n  </tbody>\n</table>\n</div>"
     },
     "execution_count": 20,
     "metadata": {},
     "output_type": "execute_result"
    }
   ],
   "source": [
    "# Get all covid19 tables\n",
    "cc.q(sql.ALL_TABLES)"
   ],
   "metadata": {
    "collapsed": false,
    "ExecuteTime": {
     "end_time": "2024-01-11T01:57:48.788304700Z",
     "start_time": "2024-01-11T01:57:48.762066700Z"
    }
   },
   "id": "4059fea9c215e2d"
  },
  {
   "cell_type": "code",
   "execution_count": 21,
   "outputs": [
    {
     "name": "stdout",
     "output_type": "stream",
     "text": [
      "\n",
      "SELECT Confirmed,\n",
      "\tDate\n",
      "FROM IndiaCases \n",
      "ORDER BY confirmed DESC\n",
      "LIMIT 5\n"
     ]
    },
    {
     "data": {
      "text/plain": "   Confirmed        Date\n0      94041  2020-06-11\n1      90787  2020-06-10\n2      88528  2020-06-09\n3      85975  2020-06-08\n4      82968  2020-06-07",
      "text/html": "<div>\n<style scoped>\n    .dataframe tbody tr th:only-of-type {\n        vertical-align: middle;\n    }\n\n    .dataframe tbody tr th {\n        vertical-align: top;\n    }\n\n    .dataframe thead th {\n        text-align: right;\n    }\n</style>\n<table border=\"1\" class=\"dataframe\">\n  <thead>\n    <tr style=\"text-align: right;\">\n      <th></th>\n      <th>Confirmed</th>\n      <th>Date</th>\n    </tr>\n  </thead>\n  <tbody>\n    <tr>\n      <th>0</th>\n      <td>94041</td>\n      <td>2020-06-11</td>\n    </tr>\n    <tr>\n      <th>1</th>\n      <td>90787</td>\n      <td>2020-06-10</td>\n    </tr>\n    <tr>\n      <th>2</th>\n      <td>88528</td>\n      <td>2020-06-09</td>\n    </tr>\n    <tr>\n      <th>3</th>\n      <td>85975</td>\n      <td>2020-06-08</td>\n    </tr>\n    <tr>\n      <th>4</th>\n      <td>82968</td>\n      <td>2020-06-07</td>\n    </tr>\n  </tbody>\n</table>\n</div>"
     },
     "execution_count": 21,
     "metadata": {},
     "output_type": "execute_result"
    }
   ],
   "source": [
    "cct(name='IndiaCases',\n",
    "    cols=['Confirmed', 'Date'],\n",
    "    order_by=['confirmed', -1],\n",
    "    limit=5)"
   ],
   "metadata": {
    "collapsed": false,
    "ExecuteTime": {
     "end_time": "2024-01-11T01:57:48.803217Z",
     "start_time": "2024-01-11T01:57:48.768707100Z"
    }
   },
   "id": "18a944a646356c32"
  },
  {
   "cell_type": "code",
   "execution_count": 22,
   "outputs": [
    {
     "name": "stdout",
     "output_type": "stream",
     "text": [
      "\n",
      "SELECT *\n",
      "FROM \"!Info\" \n"
     ]
    },
    {
     "data": {
      "text/plain": "     id         IST                      Title  \\\n0    10  2020-05-18       International Source   \n1    20  2020-05-18                 csv Import   \n2    25  2020-05-23    Track Changes for Cases   \n3    26  2020-05-23      Track Population Data   \n4    27  2020-05-23               Fresh Import   \n5    30  2020-05-18               Country data   \n6    40  2020-05-18                      Cases   \n7    50  2020-05-18            Empty csvImport   \n8    60  2020-05-26  Selective Country Example   \n9    70  2020-05-29    Rank on particular date   \n10   80  2020-05-29     Manual India Rank Fill   \n11   90  2020-06-02                  Temporary   \n12  100  2020-06-09                 IndiaCases   \n13  110  2020-06-09      Empty\\ncsvImportIndia   \n14  120  2020-06-09          India Data Source   \n\n                                                Query  \\\n0                                                None   \n1                 delete from csvImport where 1 is 1;   \n2   insert into CasesPrevious (dateRep, casesOld, ...   \n3   insert into CountryPrevious\\n(CountriesAndTerr...   \n4                                                None   \n5   insert or ignore into Country\\n(CountriesAndTe...   \n6   insert or ignore into Cases\\n( dateRep\\n, case...   \n7                  delete from csvImport where 1=1\\n;   \n8   select * from\\n\"Covid19 - ecdc.europa.eu - Sun...   \n9   Select\\n\\n-- insert into India (Date, Pos , Ca...   \n10  insert into India (Date, Pos , Cases , Deaths ...   \n11  select * from csvImport where geoID is 'UG' an...   \n12  Insert or Ignore into IndiaCases\\n( id\\n, \"Dat...   \n13           delete from csvImportIndia where 1 is 1;   \n14                                               None   \n\n                                               Detail  \n0   https://www.ecdc.europa.eu/en/publications-dat...  \n1   Check table csvImport. Make it empty if not. N...  \n2   CAUTION! This query must be executed only once...  \n3                                Executes in seconds.  \n4   Both cases and country tables be emptied for f...  \n5   Check total country record before and after ex...  \n6   Check total records in csvImport table and Cas...  \n7                         Empty csvImport after work.  \n8                                                None  \n9   Change date at 3 different places in the query...  \n10  First by hit and trial find Position (Rank) ch...  \n11                 To check error in UG on 2020-05-21  \n12                                               None  \n13                                 vacate\\ncsv import  \n14  https://www.kaggle.com/pritamguha31/covid-19-i...  ",
      "text/html": "<div>\n<style scoped>\n    .dataframe tbody tr th:only-of-type {\n        vertical-align: middle;\n    }\n\n    .dataframe tbody tr th {\n        vertical-align: top;\n    }\n\n    .dataframe thead th {\n        text-align: right;\n    }\n</style>\n<table border=\"1\" class=\"dataframe\">\n  <thead>\n    <tr style=\"text-align: right;\">\n      <th></th>\n      <th>id</th>\n      <th>IST</th>\n      <th>Title</th>\n      <th>Query</th>\n      <th>Detail</th>\n    </tr>\n  </thead>\n  <tbody>\n    <tr>\n      <th>0</th>\n      <td>10</td>\n      <td>2020-05-18</td>\n      <td>International Source</td>\n      <td>None</td>\n      <td>https://www.ecdc.europa.eu/en/publications-dat...</td>\n    </tr>\n    <tr>\n      <th>1</th>\n      <td>20</td>\n      <td>2020-05-18</td>\n      <td>csv Import</td>\n      <td>delete from csvImport where 1 is 1;</td>\n      <td>Check table csvImport. Make it empty if not. N...</td>\n    </tr>\n    <tr>\n      <th>2</th>\n      <td>25</td>\n      <td>2020-05-23</td>\n      <td>Track Changes for Cases</td>\n      <td>insert into CasesPrevious (dateRep, casesOld, ...</td>\n      <td>CAUTION! This query must be executed only once...</td>\n    </tr>\n    <tr>\n      <th>3</th>\n      <td>26</td>\n      <td>2020-05-23</td>\n      <td>Track Population Data</td>\n      <td>insert into CountryPrevious\\n(CountriesAndTerr...</td>\n      <td>Executes in seconds.</td>\n    </tr>\n    <tr>\n      <th>4</th>\n      <td>27</td>\n      <td>2020-05-23</td>\n      <td>Fresh Import</td>\n      <td>None</td>\n      <td>Both cases and country tables be emptied for f...</td>\n    </tr>\n    <tr>\n      <th>5</th>\n      <td>30</td>\n      <td>2020-05-18</td>\n      <td>Country data</td>\n      <td>insert or ignore into Country\\n(CountriesAndTe...</td>\n      <td>Check total country record before and after ex...</td>\n    </tr>\n    <tr>\n      <th>6</th>\n      <td>40</td>\n      <td>2020-05-18</td>\n      <td>Cases</td>\n      <td>insert or ignore into Cases\\n( dateRep\\n, case...</td>\n      <td>Check total records in csvImport table and Cas...</td>\n    </tr>\n    <tr>\n      <th>7</th>\n      <td>50</td>\n      <td>2020-05-18</td>\n      <td>Empty csvImport</td>\n      <td>delete from csvImport where 1=1\\n;</td>\n      <td>Empty csvImport after work.</td>\n    </tr>\n    <tr>\n      <th>8</th>\n      <td>60</td>\n      <td>2020-05-26</td>\n      <td>Selective Country Example</td>\n      <td>select * from\\n\"Covid19 - ecdc.europa.eu - Sun...</td>\n      <td>None</td>\n    </tr>\n    <tr>\n      <th>9</th>\n      <td>70</td>\n      <td>2020-05-29</td>\n      <td>Rank on particular date</td>\n      <td>Select\\n\\n-- insert into India (Date, Pos , Ca...</td>\n      <td>Change date at 3 different places in the query...</td>\n    </tr>\n    <tr>\n      <th>10</th>\n      <td>80</td>\n      <td>2020-05-29</td>\n      <td>Manual India Rank Fill</td>\n      <td>insert into India (Date, Pos , Cases , Deaths ...</td>\n      <td>First by hit and trial find Position (Rank) ch...</td>\n    </tr>\n    <tr>\n      <th>11</th>\n      <td>90</td>\n      <td>2020-06-02</td>\n      <td>Temporary</td>\n      <td>select * from csvImport where geoID is 'UG' an...</td>\n      <td>To check error in UG on 2020-05-21</td>\n    </tr>\n    <tr>\n      <th>12</th>\n      <td>100</td>\n      <td>2020-06-09</td>\n      <td>IndiaCases</td>\n      <td>Insert or Ignore into IndiaCases\\n( id\\n, \"Dat...</td>\n      <td>None</td>\n    </tr>\n    <tr>\n      <th>13</th>\n      <td>110</td>\n      <td>2020-06-09</td>\n      <td>Empty\\ncsvImportIndia</td>\n      <td>delete from csvImportIndia where 1 is 1;</td>\n      <td>vacate\\ncsv import</td>\n    </tr>\n    <tr>\n      <th>14</th>\n      <td>120</td>\n      <td>2020-06-09</td>\n      <td>India Data Source</td>\n      <td>None</td>\n      <td>https://www.kaggle.com/pritamguha31/covid-19-i...</td>\n    </tr>\n  </tbody>\n</table>\n</div>"
     },
     "execution_count": 22,
     "metadata": {},
     "output_type": "execute_result"
    }
   ],
   "source": [
    "cct(name='!Info')"
   ],
   "metadata": {
    "collapsed": false,
    "ExecuteTime": {
     "end_time": "2024-01-11T01:57:48.804228700Z",
     "start_time": "2024-01-11T01:57:48.780928800Z"
    }
   },
   "id": "8eabea7249eaea3"
  }
 ],
 "metadata": {
  "kernelspec": {
   "display_name": "Python 3",
   "language": "python",
   "name": "python3"
  },
  "language_info": {
   "codemirror_mode": {
    "name": "ipython",
    "version": 2
   },
   "file_extension": ".py",
   "mimetype": "text/x-python",
   "name": "python",
   "nbconvert_exporter": "python",
   "pygments_lexer": "ipython2",
   "version": "2.7.6"
  }
 },
 "nbformat": 4,
 "nbformat_minor": 5
}
