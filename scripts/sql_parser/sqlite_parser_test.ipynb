{
 "cells": [
  {
   "cell_type": "code",
   "execution_count": 18,
   "id": "initial_id",
   "metadata": {
    "collapsed": true,
    "ExecuteTime": {
     "end_time": "2024-01-17T00:19:13.716385500Z",
     "start_time": "2024-01-17T00:19:13.700263900Z"
    }
   },
   "outputs": [],
   "source": [
    "import scripts.sql_parser.sqlite_parser as sql\n",
    "from scripts.sql_parser.constants import *\n",
    "\n",
    "NC_PATH = '../../data_sets/db/northwind.db'\n",
    "\n",
    "# instantiate parser objects based on the db path\n",
    "nc = sql.SqlParser(NC_PATH)\n",
    "\n",
    "# create a table reference for faster querying\n",
    "nct = nc.table"
   ]
  },
  {
   "cell_type": "code",
   "execution_count": 19,
   "outputs": [
    {
     "data": {
      "text/plain": "                    name\n0             Categories\n1        sqlite_sequence\n2   CustomerCustomerDemo\n3   CustomerDemographics\n4              Customers\n5              Employees\n6    EmployeeTerritories\n7          Order Details\n8                 Orders\n9               Products\n10               Regions\n11              Shippers\n12             Suppliers\n13           Territories",
      "text/html": "<div>\n<style scoped>\n    .dataframe tbody tr th:only-of-type {\n        vertical-align: middle;\n    }\n\n    .dataframe tbody tr th {\n        vertical-align: top;\n    }\n\n    .dataframe thead th {\n        text-align: right;\n    }\n</style>\n<table border=\"1\" class=\"dataframe\">\n  <thead>\n    <tr style=\"text-align: right;\">\n      <th></th>\n      <th>name</th>\n    </tr>\n  </thead>\n  <tbody>\n    <tr>\n      <th>0</th>\n      <td>Categories</td>\n    </tr>\n    <tr>\n      <th>1</th>\n      <td>sqlite_sequence</td>\n    </tr>\n    <tr>\n      <th>2</th>\n      <td>CustomerCustomerDemo</td>\n    </tr>\n    <tr>\n      <th>3</th>\n      <td>CustomerDemographics</td>\n    </tr>\n    <tr>\n      <th>4</th>\n      <td>Customers</td>\n    </tr>\n    <tr>\n      <th>5</th>\n      <td>Employees</td>\n    </tr>\n    <tr>\n      <th>6</th>\n      <td>EmployeeTerritories</td>\n    </tr>\n    <tr>\n      <th>7</th>\n      <td>Order Details</td>\n    </tr>\n    <tr>\n      <th>8</th>\n      <td>Orders</td>\n    </tr>\n    <tr>\n      <th>9</th>\n      <td>Products</td>\n    </tr>\n    <tr>\n      <th>10</th>\n      <td>Regions</td>\n    </tr>\n    <tr>\n      <th>11</th>\n      <td>Shippers</td>\n    </tr>\n    <tr>\n      <th>12</th>\n      <td>Suppliers</td>\n    </tr>\n    <tr>\n      <th>13</th>\n      <td>Territories</td>\n    </tr>\n  </tbody>\n</table>\n</div>"
     },
     "execution_count": 19,
     "metadata": {},
     "output_type": "execute_result"
    }
   ],
   "source": [
    "# Get all Northwind tables\n",
    "nc.q(sql.ALL_TABLES)"
   ],
   "metadata": {
    "collapsed": false,
    "ExecuteTime": {
     "end_time": "2024-01-17T00:19:13.716385500Z",
     "start_time": "2024-01-17T00:19:13.703777400Z"
    }
   },
   "id": "1c9f57717c4f6bdd"
  },
  {
   "cell_type": "code",
   "execution_count": 20,
   "outputs": [
    {
     "name": "stdout",
     "output_type": "stream",
     "text": [
      "\n",
      "SELECT \n",
      "\tAVG(UnitPrice) AS \"UP Avg\",\n",
      "\tMAX(UnitPrice) AS \"UP Max\",\n",
      "\tMIN(UnitPrice) AS \"UP Min\",\n",
      "\tCOUNT(UnitPrice) AS \"UP Count\"\n",
      "FROM \"Order Details\" \n"
     ]
    },
    {
     "data": {
      "text/plain": "      UP Avg  UP Max  UP Min  UP Count\n0  28.850379   263.5       2    609283",
      "text/html": "<div>\n<style scoped>\n    .dataframe tbody tr th:only-of-type {\n        vertical-align: middle;\n    }\n\n    .dataframe tbody tr th {\n        vertical-align: top;\n    }\n\n    .dataframe thead th {\n        text-align: right;\n    }\n</style>\n<table border=\"1\" class=\"dataframe\">\n  <thead>\n    <tr style=\"text-align: right;\">\n      <th></th>\n      <th>UP Avg</th>\n      <th>UP Max</th>\n      <th>UP Min</th>\n      <th>UP Count</th>\n    </tr>\n  </thead>\n  <tbody>\n    <tr>\n      <th>0</th>\n      <td>28.850379</td>\n      <td>263.5</td>\n      <td>2</td>\n      <td>609283</td>\n    </tr>\n  </tbody>\n</table>\n</div>"
     },
     "execution_count": 20,
     "metadata": {},
     "output_type": "execute_result"
    }
   ],
   "source": [
    "# handle Aggregation functions\n",
    "\n",
    "nct(name='Order Details',\n",
    "    cols=['avg=UnitPrice:UP Avg',\n",
    "          'max=UnitPrice:UP Max',\n",
    "          'min=UnitPrice:UP Min',\n",
    "          'count=UnitPrice:UP Count'])"
   ],
   "metadata": {
    "collapsed": false,
    "ExecuteTime": {
     "end_time": "2024-01-17T00:19:13.768095700Z",
     "start_time": "2024-01-17T00:19:13.711384200Z"
    }
   },
   "id": "dd7aa3ea4b38b923"
  },
  {
   "cell_type": "code",
   "outputs": [
    {
     "name": "stdout",
     "output_type": "stream",
     "text": [
      "\n",
      "SELECT DISTINCT \n",
      "\tUnitPrice\n",
      "FROM \"Order Details\" \n",
      "WHERE UnitPrice BETWEEN 20.0 and 70.0\n",
      "\tOR UnitPrice > 20\n",
      "ORDER BY UnitPrice DESC\n",
      "LIMIT 5 OFFSET 2\n"
     ]
    },
    {
     "data": {
      "text/plain": "   UnitPrice\n0     123.79\n1      99.00\n2      97.00\n3      81.00\n4      77.60",
      "text/html": "<div>\n<style scoped>\n    .dataframe tbody tr th:only-of-type {\n        vertical-align: middle;\n    }\n\n    .dataframe tbody tr th {\n        vertical-align: top;\n    }\n\n    .dataframe thead th {\n        text-align: right;\n    }\n</style>\n<table border=\"1\" class=\"dataframe\">\n  <thead>\n    <tr style=\"text-align: right;\">\n      <th></th>\n      <th>UnitPrice</th>\n    </tr>\n  </thead>\n  <tbody>\n    <tr>\n      <th>0</th>\n      <td>123.79</td>\n    </tr>\n    <tr>\n      <th>1</th>\n      <td>99.00</td>\n    </tr>\n    <tr>\n      <th>2</th>\n      <td>97.00</td>\n    </tr>\n    <tr>\n      <th>3</th>\n      <td>81.00</td>\n    </tr>\n    <tr>\n      <th>4</th>\n      <td>77.60</td>\n    </tr>\n  </tbody>\n</table>\n</div>"
     },
     "execution_count": 21,
     "metadata": {},
     "output_type": "execute_result"
    }
   ],
   "source": [
    "# supports most of the clauses (except GROUP BY)\n",
    "\n",
    "nct(name='Order Details',\n",
    "    cols=['UnitPrice'], distinct=True,\n",
    "    where=['&20.0 >= UnitPrice <= 70.0', '|UnitPrice > 20'],\n",
    "    order_by=('UnitPrice', -1),\n",
    "    limit=5, offset=2)"
   ],
   "metadata": {
    "collapsed": false,
    "ExecuteTime": {
     "end_time": "2024-01-17T00:19:13.839692100Z",
     "start_time": "2024-01-17T00:19:13.767591300Z"
    }
   },
   "id": "13fe7315263e097c",
   "execution_count": 21
  },
  {
   "cell_type": "code",
   "outputs": [
    {
     "name": "stdout",
     "output_type": "stream",
     "text": [
      "\n",
      "SELECT \n",
      "\tShipCountry,\n",
      "\tCOUNT(\"*\") AS OrderCount\n",
      "FROM Orders \n",
      "GROUP BY ShipCountry\n",
      "ORDER BY OrderCount DESC\n",
      "LIMIT 5\n"
     ]
    },
    {
     "data": {
      "text/plain": "  ShipCountry  OrderCount\n0         USA        2328\n1     Germany        2193\n2      France        1778\n3      Brazil        1683\n4          UK        1280",
      "text/html": "<div>\n<style scoped>\n    .dataframe tbody tr th:only-of-type {\n        vertical-align: middle;\n    }\n\n    .dataframe tbody tr th {\n        vertical-align: top;\n    }\n\n    .dataframe thead th {\n        text-align: right;\n    }\n</style>\n<table border=\"1\" class=\"dataframe\">\n  <thead>\n    <tr style=\"text-align: right;\">\n      <th></th>\n      <th>ShipCountry</th>\n      <th>OrderCount</th>\n    </tr>\n  </thead>\n  <tbody>\n    <tr>\n      <th>0</th>\n      <td>USA</td>\n      <td>2328</td>\n    </tr>\n    <tr>\n      <th>1</th>\n      <td>Germany</td>\n      <td>2193</td>\n    </tr>\n    <tr>\n      <th>2</th>\n      <td>France</td>\n      <td>1778</td>\n    </tr>\n    <tr>\n      <th>3</th>\n      <td>Brazil</td>\n      <td>1683</td>\n    </tr>\n    <tr>\n      <th>4</th>\n      <td>UK</td>\n      <td>1280</td>\n    </tr>\n  </tbody>\n</table>\n</div>"
     },
     "execution_count": 22,
     "metadata": {},
     "output_type": "execute_result"
    }
   ],
   "source": [
    "nct(name='Orders',\n",
    "    cols=['ShipCountry', 'count=*:OrderCount'],\n",
    "    group_by='ShipCountry',\n",
    "    order_by=('OrderCount', -1),\n",
    "    limit=-5)"
   ],
   "metadata": {
    "collapsed": false,
    "ExecuteTime": {
     "end_time": "2024-01-17T00:19:13.856633700Z",
     "start_time": "2024-01-17T00:19:13.833693600Z"
    }
   },
   "id": "d94321eedaf8d909",
   "execution_count": 22
  },
  {
   "cell_type": "code",
   "outputs": [
    {
     "name": "stdout",
     "output_type": "stream",
     "text": [
      "\n",
      "SELECT \n",
      "\tCustomers.CompanyName,\n",
      "\tCustomers.Phone,\n",
      "\tCustomers.Fax,\n",
      "\to.ShipRegion,\n",
      "\to.ShipCountry\n",
      "FROM Customers\n",
      "INNER JOIN Orders o\n",
      "ON Customers.CustomerID = o.CustomerID\n",
      "LIMIT 5\n"
     ]
    },
    {
     "data": {
      "text/plain": "                 CompanyName              Phone                Fax  \\\n0  Vins et alcools Chevalier        26.47.15.10        26.47.15.11   \n1         Toms Spezialitäten        0251-031259        0251-035695   \n2              Hanari Carnes      (21) 555-0091      (21) 555-8765   \n3       Victuailles en stock        78.32.54.86        78.32.54.87   \n4           Suprêmes délices  (071) 23 67 22 20  (071) 23 67 22 21   \n\n       ShipRegion ShipCountry  \n0  Western Europe      France  \n1  Western Europe     Germany  \n2   South America      Brazil  \n3  Western Europe      France  \n4  Western Europe     Belgium  ",
      "text/html": "<div>\n<style scoped>\n    .dataframe tbody tr th:only-of-type {\n        vertical-align: middle;\n    }\n\n    .dataframe tbody tr th {\n        vertical-align: top;\n    }\n\n    .dataframe thead th {\n        text-align: right;\n    }\n</style>\n<table border=\"1\" class=\"dataframe\">\n  <thead>\n    <tr style=\"text-align: right;\">\n      <th></th>\n      <th>CompanyName</th>\n      <th>Phone</th>\n      <th>Fax</th>\n      <th>ShipRegion</th>\n      <th>ShipCountry</th>\n    </tr>\n  </thead>\n  <tbody>\n    <tr>\n      <th>0</th>\n      <td>Vins et alcools Chevalier</td>\n      <td>26.47.15.10</td>\n      <td>26.47.15.11</td>\n      <td>Western Europe</td>\n      <td>France</td>\n    </tr>\n    <tr>\n      <th>1</th>\n      <td>Toms Spezialitäten</td>\n      <td>0251-031259</td>\n      <td>0251-035695</td>\n      <td>Western Europe</td>\n      <td>Germany</td>\n    </tr>\n    <tr>\n      <th>2</th>\n      <td>Hanari Carnes</td>\n      <td>(21) 555-0091</td>\n      <td>(21) 555-8765</td>\n      <td>South America</td>\n      <td>Brazil</td>\n    </tr>\n    <tr>\n      <th>3</th>\n      <td>Victuailles en stock</td>\n      <td>78.32.54.86</td>\n      <td>78.32.54.87</td>\n      <td>Western Europe</td>\n      <td>France</td>\n    </tr>\n    <tr>\n      <th>4</th>\n      <td>Suprêmes délices</td>\n      <td>(071) 23 67 22 20</td>\n      <td>(071) 23 67 22 21</td>\n      <td>Western Europe</td>\n      <td>Belgium</td>\n    </tr>\n  </tbody>\n</table>\n</div>"
     },
     "execution_count": 23,
     "metadata": {},
     "output_type": "execute_result"
    }
   ],
   "source": [
    "# simple join (between 2 tables)\n",
    "nc.join(table_left={NAME: 'Customers', COLS: ['CompanyName', 'Phone', 'Fax']},\n",
    "        table_right={NAME: 'Orders:o', COLS: ['ShipRegion', 'ShipCountry']},\n",
    "        shared_col='CustomerID',\n",
    "        join=INNER,\n",
    "        limit=5)"
   ],
   "metadata": {
    "collapsed": false,
    "ExecuteTime": {
     "end_time": "2024-01-17T00:19:13.857634600Z",
     "start_time": "2024-01-17T00:19:13.846926800Z"
    }
   },
   "id": "bc24a436a30e20e",
   "execution_count": 23
  },
  {
   "cell_type": "code",
   "execution_count": 24,
   "outputs": [
    {
     "name": "stdout",
     "output_type": "stream",
     "text": [
      "\n",
      "SELECT \n",
      "\tC.CategoryName,\n",
      "\tS.CompanyName,\n",
      "\tSUM(P.UnitPrice * OD.Quantity) AS TotalSales\n",
      "FROM Categories C\n",
      "INNER JOIN Products P ON C.CategoryId = P.CategoryId\n",
      "INNER JOIN Suppliers S ON P.SupplierID = S.SupplierID\n",
      "INNER JOIN \"Order Details\" OD ON P.ProductID = OD.ProductID\n",
      "Group By C.CategoryName, S.CompanyName\n",
      "LIMIT 5\n"
     ]
    },
    {
     "data": {
      "text/plain": "  CategoryName                 CompanyName  TotalSales\n0    Beverages  Aux joyeux ecclésiastiques  56924965.0\n1    Beverages           Bigfoot Breweries   9315500.0\n2    Beverages              Exotic Liquids   7468528.0\n3    Beverages                   Karkki Oy   3626604.0\n4    Beverages                Leka Trading   9336528.0",
      "text/html": "<div>\n<style scoped>\n    .dataframe tbody tr th:only-of-type {\n        vertical-align: middle;\n    }\n\n    .dataframe tbody tr th {\n        vertical-align: top;\n    }\n\n    .dataframe thead th {\n        text-align: right;\n    }\n</style>\n<table border=\"1\" class=\"dataframe\">\n  <thead>\n    <tr style=\"text-align: right;\">\n      <th></th>\n      <th>CategoryName</th>\n      <th>CompanyName</th>\n      <th>TotalSales</th>\n    </tr>\n  </thead>\n  <tbody>\n    <tr>\n      <th>0</th>\n      <td>Beverages</td>\n      <td>Aux joyeux ecclésiastiques</td>\n      <td>56924965.0</td>\n    </tr>\n    <tr>\n      <th>1</th>\n      <td>Beverages</td>\n      <td>Bigfoot Breweries</td>\n      <td>9315500.0</td>\n    </tr>\n    <tr>\n      <th>2</th>\n      <td>Beverages</td>\n      <td>Exotic Liquids</td>\n      <td>7468528.0</td>\n    </tr>\n    <tr>\n      <th>3</th>\n      <td>Beverages</td>\n      <td>Karkki Oy</td>\n      <td>3626604.0</td>\n    </tr>\n    <tr>\n      <th>4</th>\n      <td>Beverages</td>\n      <td>Leka Trading</td>\n      <td>9336528.0</td>\n    </tr>\n  </tbody>\n</table>\n</div>"
     },
     "execution_count": 24,
     "metadata": {},
     "output_type": "execute_result"
    }
   ],
   "source": [
    " # find the total sales amount for each category and supplier\n",
    "nc.multi_join(\n",
    "    tables=[{NAME: 'Categories:C', COLS: ['CategoryName']},\n",
    "            {NAME: 'Products:P', SHARED: 'Categories.CategoryId = Products.CategoryId', JOIN: INNER},\n",
    "            {NAME: 'Suppliers:S', SHARED: 'Products.SupplierID = Suppliers.SupplierID', COLS: ['CompanyName'],\n",
    "             JOIN: INNER},\n",
    "            {NAME: 'Order Details:OD', SHARED: 'Products.ProductID = Order Details.ProductID', COLS: [],\n",
    "             JOIN: INNER}],\n",
    "\n",
    "    col_agg={AGG_FUNC: 'sum:TotalSales',\n",
    "             COLS: ['Products.UnitPrice', 'Order Details.Quantity'],\n",
    "             COLS_OP: '*'},\n",
    "\n",
    "    group_by=['Categories.CategoryName', 'Suppliers.CompanyName'],\n",
    "    limit=5\n",
    ")"
   ],
   "metadata": {
    "collapsed": false,
    "ExecuteTime": {
     "end_time": "2024-01-17T00:19:14.346585800Z",
     "start_time": "2024-01-17T00:19:13.857634600Z"
    }
   },
   "id": "4059fea9c215e2d"
  },
  {
   "cell_type": "code",
   "outputs": [
    {
     "name": "stdout",
     "output_type": "stream",
     "text": [
      "\n",
      "SELECT \n",
      "\tEmployees.LastName,\n",
      "\tAVG(\"Order Details\".UnitPrice * \"Order Details\".Quantity) AS AvgOrderAmount\n",
      "FROM Employees\n",
      "LEFT JOIN Orders ON Employees.EmployeeID = Orders.EmployeeID\n",
      "LEFT JOIN \"Order Details\" ON Orders.OrderID = \"Order Details\".OrderID\n",
      "Group By Employees.LastName\n",
      "ORDER BY AvgOrderAmount DESC\n",
      "\n"
     ]
    },
    {
     "data": {
      "text/plain": "    LastName  AvgOrderAmount\n0     Suyama      742.472451\n1  Leverling      739.322630\n2  Dodsworth      738.756131\n3       King      737.349907\n4    Peacock      737.154067\n5   Buchanan      735.576152\n6    Davolio      734.548860\n7   Callahan      731.258818\n8     Fuller      728.174674",
      "text/html": "<div>\n<style scoped>\n    .dataframe tbody tr th:only-of-type {\n        vertical-align: middle;\n    }\n\n    .dataframe tbody tr th {\n        vertical-align: top;\n    }\n\n    .dataframe thead th {\n        text-align: right;\n    }\n</style>\n<table border=\"1\" class=\"dataframe\">\n  <thead>\n    <tr style=\"text-align: right;\">\n      <th></th>\n      <th>LastName</th>\n      <th>AvgOrderAmount</th>\n    </tr>\n  </thead>\n  <tbody>\n    <tr>\n      <th>0</th>\n      <td>Suyama</td>\n      <td>742.472451</td>\n    </tr>\n    <tr>\n      <th>1</th>\n      <td>Leverling</td>\n      <td>739.322630</td>\n    </tr>\n    <tr>\n      <th>2</th>\n      <td>Dodsworth</td>\n      <td>738.756131</td>\n    </tr>\n    <tr>\n      <th>3</th>\n      <td>King</td>\n      <td>737.349907</td>\n    </tr>\n    <tr>\n      <th>4</th>\n      <td>Peacock</td>\n      <td>737.154067</td>\n    </tr>\n    <tr>\n      <th>5</th>\n      <td>Buchanan</td>\n      <td>735.576152</td>\n    </tr>\n    <tr>\n      <th>6</th>\n      <td>Davolio</td>\n      <td>734.548860</td>\n    </tr>\n    <tr>\n      <th>7</th>\n      <td>Callahan</td>\n      <td>731.258818</td>\n    </tr>\n    <tr>\n      <th>8</th>\n      <td>Fuller</td>\n      <td>728.174674</td>\n    </tr>\n  </tbody>\n</table>\n</div>"
     },
     "execution_count": 25,
     "metadata": {},
     "output_type": "execute_result"
    }
   ],
   "source": [
    "# Average Order Amount by Employee\n",
    "nc.multi_join(\n",
    "    tables=[{NAME: 'Employees', COLS: ['LastName']},\n",
    "            {NAME: 'Orders', COLS: [], SHARED: 'Employees.EmployeeID = Orders.EmployeeID', JOIN: LEFT},\n",
    "            {NAME: 'Order Details', COLS: [], SHARED: 'Orders.OrderID = Order Details.OrderID', JOIN: LEFT}],\n",
    "    col_agg={AGG_FUNC: 'avg:AvgOrderAmount',\n",
    "             COLS: ['Order Details.UnitPrice', 'Order Details.Quantity'],\n",
    "             COLS_OP: '*'},\n",
    "    group_by=['Employees.LastName'],\n",
    "    order_by=('AvgOrderAmount', -1)\n",
    ")"
   ],
   "metadata": {
    "collapsed": false,
    "ExecuteTime": {
     "end_time": "2024-01-17T00:19:14.700719400Z",
     "start_time": "2024-01-17T00:19:14.341589500Z"
    }
   },
   "id": "18a944a646356c32",
   "execution_count": 25
  }
 ],
 "metadata": {
  "kernelspec": {
   "display_name": "Python 3",
   "language": "python",
   "name": "python3"
  },
  "language_info": {
   "codemirror_mode": {
    "name": "ipython",
    "version": 2
   },
   "file_extension": ".py",
   "mimetype": "text/x-python",
   "name": "python",
   "nbconvert_exporter": "python",
   "pygments_lexer": "ipython2",
   "version": "2.7.6"
  }
 },
 "nbformat": 4,
 "nbformat_minor": 5
}
