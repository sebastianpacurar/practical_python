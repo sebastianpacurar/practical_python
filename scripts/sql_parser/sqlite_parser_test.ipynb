{
 "cells": [
  {
   "cell_type": "code",
   "execution_count": 25,
   "id": "initial_id",
   "metadata": {
    "collapsed": true,
    "ExecuteTime": {
     "end_time": "2024-01-12T00:50:00.562687400Z",
     "start_time": "2024-01-12T00:50:00.552034200Z"
    }
   },
   "outputs": [],
   "source": [
    "import scripts.sql_parser.sqlite_parser as sql\n",
    "from scripts.sql_parser.constants import *\n",
    "from scripts.sql_parser.table_operations import get_table\n",
    "\n",
    "NC_PATH = '../../data_sets/db/northwind.db'\n",
    "SC_PATH = '../../data_sets/db/sakila.db'\n",
    "CC_PATH = '../../data_sets/db/covid19.db'\n",
    "\n",
    "# instantiate parser objects based on the db path\n",
    "nc, sc, cc = sql.SqlParser(NC_PATH), sql.SqlParser(SC_PATH), sql.SqlParser(CC_PATH)\n",
    "\n",
    "# create a table reference for each db for faster querying\n",
    "nct, sct, cct = nc.table, sc.table, cc.table"
   ]
  },
  {
   "cell_type": "code",
   "execution_count": 26,
   "outputs": [
    {
     "data": {
      "text/plain": "                    name\n0             Categories\n1        sqlite_sequence\n2   CustomerCustomerDemo\n3   CustomerDemographics\n4              Customers\n5              Employees\n6    EmployeeTerritories\n7          Order Details\n8                 Orders\n9               Products\n10               Regions\n11              Shippers\n12             Suppliers\n13           Territories",
      "text/html": "<div>\n<style scoped>\n    .dataframe tbody tr th:only-of-type {\n        vertical-align: middle;\n    }\n\n    .dataframe tbody tr th {\n        vertical-align: top;\n    }\n\n    .dataframe thead th {\n        text-align: right;\n    }\n</style>\n<table border=\"1\" class=\"dataframe\">\n  <thead>\n    <tr style=\"text-align: right;\">\n      <th></th>\n      <th>name</th>\n    </tr>\n  </thead>\n  <tbody>\n    <tr>\n      <th>0</th>\n      <td>Categories</td>\n    </tr>\n    <tr>\n      <th>1</th>\n      <td>sqlite_sequence</td>\n    </tr>\n    <tr>\n      <th>2</th>\n      <td>CustomerCustomerDemo</td>\n    </tr>\n    <tr>\n      <th>3</th>\n      <td>CustomerDemographics</td>\n    </tr>\n    <tr>\n      <th>4</th>\n      <td>Customers</td>\n    </tr>\n    <tr>\n      <th>5</th>\n      <td>Employees</td>\n    </tr>\n    <tr>\n      <th>6</th>\n      <td>EmployeeTerritories</td>\n    </tr>\n    <tr>\n      <th>7</th>\n      <td>Order Details</td>\n    </tr>\n    <tr>\n      <th>8</th>\n      <td>Orders</td>\n    </tr>\n    <tr>\n      <th>9</th>\n      <td>Products</td>\n    </tr>\n    <tr>\n      <th>10</th>\n      <td>Regions</td>\n    </tr>\n    <tr>\n      <th>11</th>\n      <td>Shippers</td>\n    </tr>\n    <tr>\n      <th>12</th>\n      <td>Suppliers</td>\n    </tr>\n    <tr>\n      <th>13</th>\n      <td>Territories</td>\n    </tr>\n  </tbody>\n</table>\n</div>"
     },
     "execution_count": 26,
     "metadata": {},
     "output_type": "execute_result"
    }
   ],
   "source": [
    "# Get all Northwind tables\n",
    "nc.q(sql.ALL_TABLES)"
   ],
   "metadata": {
    "collapsed": false,
    "ExecuteTime": {
     "end_time": "2024-01-12T00:50:00.566604900Z",
     "start_time": "2024-01-12T00:50:00.556689300Z"
    }
   },
   "id": "1c9f57717c4f6bdd"
  },
  {
   "cell_type": "code",
   "execution_count": 27,
   "outputs": [
    {
     "name": "stdout",
     "output_type": "stream",
     "text": [
      "\n",
      "SELECT AVG(UnitPrice) AS \"UP Avg\",\n",
      "\tMAX(UnitPrice) AS \"UP Max\",\n",
      "\tMIN(UnitPrice) AS \"UP Min\",\n",
      "\tCOUNT(UnitPrice) AS \"UP Count\"\n",
      "FROM \"Order Details\" \n"
     ]
    },
    {
     "data": {
      "text/plain": "      UP Avg  UP Max  UP Min  UP Count\n0  28.850379   263.5       2    609283",
      "text/html": "<div>\n<style scoped>\n    .dataframe tbody tr th:only-of-type {\n        vertical-align: middle;\n    }\n\n    .dataframe tbody tr th {\n        vertical-align: top;\n    }\n\n    .dataframe thead th {\n        text-align: right;\n    }\n</style>\n<table border=\"1\" class=\"dataframe\">\n  <thead>\n    <tr style=\"text-align: right;\">\n      <th></th>\n      <th>UP Avg</th>\n      <th>UP Max</th>\n      <th>UP Min</th>\n      <th>UP Count</th>\n    </tr>\n  </thead>\n  <tbody>\n    <tr>\n      <th>0</th>\n      <td>28.850379</td>\n      <td>263.5</td>\n      <td>2</td>\n      <td>609283</td>\n    </tr>\n  </tbody>\n</table>\n</div>"
     },
     "execution_count": 27,
     "metadata": {},
     "output_type": "execute_result"
    }
   ],
   "source": [
    "# handle Aggregation functions\n",
    "\n",
    "nct(name='Order Details',\n",
    "    cols=['avg=UnitPrice:UP Avg',\n",
    "          'max=UnitPrice:UP Max',\n",
    "          'min=UnitPrice:UP Min',\n",
    "          'count=UnitPrice:UP Count'])"
   ],
   "metadata": {
    "collapsed": false,
    "ExecuteTime": {
     "end_time": "2024-01-12T00:50:00.627827900Z",
     "start_time": "2024-01-12T00:50:00.567605900Z"
    }
   },
   "id": "dd7aa3ea4b38b923"
  },
  {
   "cell_type": "code",
   "outputs": [
    {
     "name": "stdout",
     "output_type": "stream",
     "text": [
      "\n",
      "SELECT DISTINCT UnitPrice\n",
      "FROM \"Order Details\" \n",
      "WHERE UnitPrice BETWEEN 20.0 and 70.0\n",
      "\tOR UnitPrice > 20\n",
      "ORDER BY UnitPrice DESC\n",
      "LIMIT 5 OFFSET 2\n"
     ]
    },
    {
     "data": {
      "text/plain": "   UnitPrice\n0     123.79\n1      99.00\n2      97.00\n3      81.00\n4      77.60",
      "text/html": "<div>\n<style scoped>\n    .dataframe tbody tr th:only-of-type {\n        vertical-align: middle;\n    }\n\n    .dataframe tbody tr th {\n        vertical-align: top;\n    }\n\n    .dataframe thead th {\n        text-align: right;\n    }\n</style>\n<table border=\"1\" class=\"dataframe\">\n  <thead>\n    <tr style=\"text-align: right;\">\n      <th></th>\n      <th>UnitPrice</th>\n    </tr>\n  </thead>\n  <tbody>\n    <tr>\n      <th>0</th>\n      <td>123.79</td>\n    </tr>\n    <tr>\n      <th>1</th>\n      <td>99.00</td>\n    </tr>\n    <tr>\n      <th>2</th>\n      <td>97.00</td>\n    </tr>\n    <tr>\n      <th>3</th>\n      <td>81.00</td>\n    </tr>\n    <tr>\n      <th>4</th>\n      <td>77.60</td>\n    </tr>\n  </tbody>\n</table>\n</div>"
     },
     "execution_count": 28,
     "metadata": {},
     "output_type": "execute_result"
    }
   ],
   "source": [
    "# supports most of the clauses (except GROUP BY)\n",
    "\n",
    "nct(name='Order Details',\n",
    "              cols=['UnitPrice'], distinct=True,\n",
    "              where=['&20.0 >= UnitPrice <= 70.0', '|UnitPrice > 20'],\n",
    "              order_by=('UnitPrice', -1),\n",
    "              limit=5, offset=2)"
   ],
   "metadata": {
    "collapsed": false,
    "ExecuteTime": {
     "end_time": "2024-01-12T00:50:00.705349900Z",
     "start_time": "2024-01-12T00:50:00.621827200Z"
    }
   },
   "id": "13fe7315263e097c",
   "execution_count": 28
  },
  {
   "cell_type": "code",
   "outputs": [
    {
     "name": "stdout",
     "output_type": "stream",
     "text": [
      "\n",
      "SELECT \n",
      "\tCustomers.CompanyName,\n",
      "\tCustomers.Phone,\n",
      "\tCustomers.Fax,\n",
      "\to.ShipRegion,\n",
      "\to.ShipCountry\n",
      "FROM Customers\n",
      "INNER JOIN Orders o\n",
      "ON Customers.CustomerID = o.CustomerID\n",
      "LIMIT 5\n"
     ]
    },
    {
     "data": {
      "text/plain": "                 CompanyName              Phone                Fax  \\\n0  Vins et alcools Chevalier        26.47.15.10        26.47.15.11   \n1         Toms Spezialitäten        0251-031259        0251-035695   \n2              Hanari Carnes      (21) 555-0091      (21) 555-8765   \n3       Victuailles en stock        78.32.54.86        78.32.54.87   \n4           Suprêmes délices  (071) 23 67 22 20  (071) 23 67 22 21   \n\n       ShipRegion ShipCountry  \n0  Western Europe      France  \n1  Western Europe     Germany  \n2   South America      Brazil  \n3  Western Europe      France  \n4  Western Europe     Belgium  ",
      "text/html": "<div>\n<style scoped>\n    .dataframe tbody tr th:only-of-type {\n        vertical-align: middle;\n    }\n\n    .dataframe tbody tr th {\n        vertical-align: top;\n    }\n\n    .dataframe thead th {\n        text-align: right;\n    }\n</style>\n<table border=\"1\" class=\"dataframe\">\n  <thead>\n    <tr style=\"text-align: right;\">\n      <th></th>\n      <th>CompanyName</th>\n      <th>Phone</th>\n      <th>Fax</th>\n      <th>ShipRegion</th>\n      <th>ShipCountry</th>\n    </tr>\n  </thead>\n  <tbody>\n    <tr>\n      <th>0</th>\n      <td>Vins et alcools Chevalier</td>\n      <td>26.47.15.10</td>\n      <td>26.47.15.11</td>\n      <td>Western Europe</td>\n      <td>France</td>\n    </tr>\n    <tr>\n      <th>1</th>\n      <td>Toms Spezialitäten</td>\n      <td>0251-031259</td>\n      <td>0251-035695</td>\n      <td>Western Europe</td>\n      <td>Germany</td>\n    </tr>\n    <tr>\n      <th>2</th>\n      <td>Hanari Carnes</td>\n      <td>(21) 555-0091</td>\n      <td>(21) 555-8765</td>\n      <td>South America</td>\n      <td>Brazil</td>\n    </tr>\n    <tr>\n      <th>3</th>\n      <td>Victuailles en stock</td>\n      <td>78.32.54.86</td>\n      <td>78.32.54.87</td>\n      <td>Western Europe</td>\n      <td>France</td>\n    </tr>\n    <tr>\n      <th>4</th>\n      <td>Suprêmes délices</td>\n      <td>(071) 23 67 22 20</td>\n      <td>(071) 23 67 22 21</td>\n      <td>Western Europe</td>\n      <td>Belgium</td>\n    </tr>\n  </tbody>\n</table>\n</div>"
     },
     "execution_count": 29,
     "metadata": {},
     "output_type": "execute_result"
    }
   ],
   "source": [
    "# simple join (between 2 tables)\n",
    "\n",
    "nc.join(table_left=('Customers', ['CompanyName', 'Phone', 'Fax']),\n",
    "        table_right=('Orders:o', ['ShipRegion', 'ShipCountry']),\n",
    "        shared_col='CustomerID',\n",
    "        join=INNER,\n",
    "        limit=5)"
   ],
   "metadata": {
    "collapsed": false,
    "ExecuteTime": {
     "end_time": "2024-01-12T00:50:00.706350300Z",
     "start_time": "2024-01-12T00:50:00.681978200Z"
    }
   },
   "id": "bc24a436a30e20e",
   "execution_count": 29
  },
  {
   "cell_type": "code",
   "execution_count": 30,
   "outputs": [
    {
     "name": "stdout",
     "output_type": "stream",
     "text": [
      "\n",
      "SELECT \n",
      "\tC.CompanyName,\n",
      "\tC.Phone,\n",
      "\tO.ShipCountry,\n",
      "\tOD.ProductId,\n",
      "\tOD.Quantity,\n",
      "\tOD.UnitPrice\n",
      "FROM Customers C\n",
      "INNER JOIN Orders O ON C.CustomerID = O.CustomerID\n",
      "LEFT JOIN \"Order Details\" OD ON O.OrderId = OD.OrderId\n",
      "LIMIT 5\n"
     ]
    },
    {
     "data": {
      "text/plain": "                 CompanyName        Phone ShipCountry  ProductID  Quantity  \\\n0  Vins et alcools Chevalier  26.47.15.10      France         11        12   \n1  Vins et alcools Chevalier  26.47.15.10      France         42        10   \n2  Vins et alcools Chevalier  26.47.15.10      France         72         5   \n3         Toms Spezialitäten  0251-031259     Germany         14         9   \n4         Toms Spezialitäten  0251-031259     Germany         51        40   \n\n   UnitPrice  \n0       14.0  \n1        9.8  \n2       34.8  \n3       18.6  \n4       42.4  ",
      "text/html": "<div>\n<style scoped>\n    .dataframe tbody tr th:only-of-type {\n        vertical-align: middle;\n    }\n\n    .dataframe tbody tr th {\n        vertical-align: top;\n    }\n\n    .dataframe thead th {\n        text-align: right;\n    }\n</style>\n<table border=\"1\" class=\"dataframe\">\n  <thead>\n    <tr style=\"text-align: right;\">\n      <th></th>\n      <th>CompanyName</th>\n      <th>Phone</th>\n      <th>ShipCountry</th>\n      <th>ProductID</th>\n      <th>Quantity</th>\n      <th>UnitPrice</th>\n    </tr>\n  </thead>\n  <tbody>\n    <tr>\n      <th>0</th>\n      <td>Vins et alcools Chevalier</td>\n      <td>26.47.15.10</td>\n      <td>France</td>\n      <td>11</td>\n      <td>12</td>\n      <td>14.0</td>\n    </tr>\n    <tr>\n      <th>1</th>\n      <td>Vins et alcools Chevalier</td>\n      <td>26.47.15.10</td>\n      <td>France</td>\n      <td>42</td>\n      <td>10</td>\n      <td>9.8</td>\n    </tr>\n    <tr>\n      <th>2</th>\n      <td>Vins et alcools Chevalier</td>\n      <td>26.47.15.10</td>\n      <td>France</td>\n      <td>72</td>\n      <td>5</td>\n      <td>34.8</td>\n    </tr>\n    <tr>\n      <th>3</th>\n      <td>Toms Spezialitäten</td>\n      <td>0251-031259</td>\n      <td>Germany</td>\n      <td>14</td>\n      <td>9</td>\n      <td>18.6</td>\n    </tr>\n    <tr>\n      <th>4</th>\n      <td>Toms Spezialitäten</td>\n      <td>0251-031259</td>\n      <td>Germany</td>\n      <td>51</td>\n      <td>40</td>\n      <td>42.4</td>\n    </tr>\n  </tbody>\n</table>\n</div>"
     },
     "execution_count": 30,
     "metadata": {},
     "output_type": "execute_result"
    }
   ],
   "source": [
    "# multi join (between more than 2 tables, based on different join types)\n",
    "\n",
    "customers_table = get_table(name='Customers:C',\n",
    "                            shared='CustomerID',\n",
    "                            cols=['CompanyName', 'Phone'])\n",
    "orders_table = get_table(name='Orders:O',\n",
    "                         shared='CustomerID',\n",
    "                         cols=['ShipCountry'],\n",
    "                         join=INNER)\n",
    "order_details_table = get_table(name='Order Details:OD',\n",
    "                                shared='OrderId',\n",
    "                                cols=['ProductId', 'Quantity', 'UnitPrice'],\n",
    "                                join=LEFT)\n",
    "\n",
    "nc.multi_join(tables=([customers_table, orders_table, order_details_table]),\n",
    "              limit=5)"
   ],
   "metadata": {
    "collapsed": false,
    "ExecuteTime": {
     "end_time": "2024-01-12T00:50:00.708303Z",
     "start_time": "2024-01-12T00:50:00.689175700Z"
    }
   },
   "id": "3e7d9fd552269b8a"
  },
  {
   "cell_type": "code",
   "outputs": [
    {
     "name": "stdout",
     "output_type": "stream",
     "text": [
      "\n",
      "SELECT \n",
      "\tC.CompanyName,\n",
      "\tC.Phone,\n",
      "\tO.ShipCountry,\n",
      "\tOD.ProductId,\n",
      "\tOD.Quantity,\n",
      "\tOD.UnitPrice\n",
      "FROM Customers C\n",
      "INNER JOIN Orders O ON C.CustomerID = O.CustomerID\n",
      "LEFT JOIN \"Order Details\" OD ON O.OrderId = OD.OrderId\n",
      "LIMIT 5\n"
     ]
    },
    {
     "data": {
      "text/plain": "                 CompanyName        Phone ShipCountry  ProductID  Quantity  \\\n0  Vins et alcools Chevalier  26.47.15.10      France         11        12   \n1  Vins et alcools Chevalier  26.47.15.10      France         42        10   \n2  Vins et alcools Chevalier  26.47.15.10      France         72         5   \n3         Toms Spezialitäten  0251-031259     Germany         14         9   \n4         Toms Spezialitäten  0251-031259     Germany         51        40   \n\n   UnitPrice  \n0       14.0  \n1        9.8  \n2       34.8  \n3       18.6  \n4       42.4  ",
      "text/html": "<div>\n<style scoped>\n    .dataframe tbody tr th:only-of-type {\n        vertical-align: middle;\n    }\n\n    .dataframe tbody tr th {\n        vertical-align: top;\n    }\n\n    .dataframe thead th {\n        text-align: right;\n    }\n</style>\n<table border=\"1\" class=\"dataframe\">\n  <thead>\n    <tr style=\"text-align: right;\">\n      <th></th>\n      <th>CompanyName</th>\n      <th>Phone</th>\n      <th>ShipCountry</th>\n      <th>ProductID</th>\n      <th>Quantity</th>\n      <th>UnitPrice</th>\n    </tr>\n  </thead>\n  <tbody>\n    <tr>\n      <th>0</th>\n      <td>Vins et alcools Chevalier</td>\n      <td>26.47.15.10</td>\n      <td>France</td>\n      <td>11</td>\n      <td>12</td>\n      <td>14.0</td>\n    </tr>\n    <tr>\n      <th>1</th>\n      <td>Vins et alcools Chevalier</td>\n      <td>26.47.15.10</td>\n      <td>France</td>\n      <td>42</td>\n      <td>10</td>\n      <td>9.8</td>\n    </tr>\n    <tr>\n      <th>2</th>\n      <td>Vins et alcools Chevalier</td>\n      <td>26.47.15.10</td>\n      <td>France</td>\n      <td>72</td>\n      <td>5</td>\n      <td>34.8</td>\n    </tr>\n    <tr>\n      <th>3</th>\n      <td>Toms Spezialitäten</td>\n      <td>0251-031259</td>\n      <td>Germany</td>\n      <td>14</td>\n      <td>9</td>\n      <td>18.6</td>\n    </tr>\n    <tr>\n      <th>4</th>\n      <td>Toms Spezialitäten</td>\n      <td>0251-031259</td>\n      <td>Germany</td>\n      <td>51</td>\n      <td>40</td>\n      <td>42.4</td>\n    </tr>\n  </tbody>\n</table>\n</div>"
     },
     "execution_count": 31,
     "metadata": {},
     "output_type": "execute_result"
    }
   ],
   "source": [
    "# the same multi join as above, but by using direct dictionaries, without calling get_table()\n",
    "\n",
    "nc.multi_join(tables=([{NAME: 'Customers:C', SHARED: 'CustomerID', COLS: ['CompanyName', 'Phone']},\n",
    "                       {NAME: 'Orders:O', SHARED: 'CustomerID', COLS: ['ShipCountry'], JOIN: INNER},\n",
    "                       {NAME: 'Order Details:OD', SHARED: 'OrderId', COLS: ['ProductId', 'Quantity', 'UnitPrice'], JOIN: LEFT}]),\n",
    "              limit=5)"
   ],
   "metadata": {
    "collapsed": false,
    "ExecuteTime": {
     "end_time": "2024-01-12T00:50:00.712307700Z",
     "start_time": "2024-01-12T00:50:00.697672100Z"
    }
   },
   "id": "d1446da18e6c7a31",
   "execution_count": 31
  },
  {
   "cell_type": "code",
   "execution_count": 32,
   "outputs": [
    {
     "data": {
      "text/plain": "               name\n0  android_metadata\n1         csvImport\n2           Country\n3             !Info\n4             Cases\n5     CasesPrevious\n6   CountryPrevious\n7             India\n8    csvImportIndia\n9        IndiaCases",
      "text/html": "<div>\n<style scoped>\n    .dataframe tbody tr th:only-of-type {\n        vertical-align: middle;\n    }\n\n    .dataframe tbody tr th {\n        vertical-align: top;\n    }\n\n    .dataframe thead th {\n        text-align: right;\n    }\n</style>\n<table border=\"1\" class=\"dataframe\">\n  <thead>\n    <tr style=\"text-align: right;\">\n      <th></th>\n      <th>name</th>\n    </tr>\n  </thead>\n  <tbody>\n    <tr>\n      <th>0</th>\n      <td>android_metadata</td>\n    </tr>\n    <tr>\n      <th>1</th>\n      <td>csvImport</td>\n    </tr>\n    <tr>\n      <th>2</th>\n      <td>Country</td>\n    </tr>\n    <tr>\n      <th>3</th>\n      <td>!Info</td>\n    </tr>\n    <tr>\n      <th>4</th>\n      <td>Cases</td>\n    </tr>\n    <tr>\n      <th>5</th>\n      <td>CasesPrevious</td>\n    </tr>\n    <tr>\n      <th>6</th>\n      <td>CountryPrevious</td>\n    </tr>\n    <tr>\n      <th>7</th>\n      <td>India</td>\n    </tr>\n    <tr>\n      <th>8</th>\n      <td>csvImportIndia</td>\n    </tr>\n    <tr>\n      <th>9</th>\n      <td>IndiaCases</td>\n    </tr>\n  </tbody>\n</table>\n</div>"
     },
     "execution_count": 32,
     "metadata": {},
     "output_type": "execute_result"
    }
   ],
   "source": [
    "# Get all covid19 tables\n",
    "\n",
    "cc.q(sql.ALL_TABLES)"
   ],
   "metadata": {
    "collapsed": false,
    "ExecuteTime": {
     "end_time": "2024-01-12T00:50:00.749824200Z",
     "start_time": "2024-01-12T00:50:00.704349600Z"
    }
   },
   "id": "4059fea9c215e2d"
  },
  {
   "cell_type": "code",
   "outputs": [
    {
     "name": "stdout",
     "output_type": "stream",
     "text": [
      "\n",
      "SELECT Confirmed,\n",
      "\tDate\n",
      "FROM IndiaCases \n",
      "ORDER BY confirmed DESC\n",
      "LIMIT 5\n",
      "\n"
     ]
    },
    {
     "data": {
      "text/plain": "   Confirmed        Date\n0      94041  2020-06-11\n1      90787  2020-06-10\n2      88528  2020-06-09\n3      85975  2020-06-08\n4      82968  2020-06-07",
      "text/html": "<div>\n<style scoped>\n    .dataframe tbody tr th:only-of-type {\n        vertical-align: middle;\n    }\n\n    .dataframe tbody tr th {\n        vertical-align: top;\n    }\n\n    .dataframe thead th {\n        text-align: right;\n    }\n</style>\n<table border=\"1\" class=\"dataframe\">\n  <thead>\n    <tr style=\"text-align: right;\">\n      <th></th>\n      <th>Confirmed</th>\n      <th>Date</th>\n    </tr>\n  </thead>\n  <tbody>\n    <tr>\n      <th>0</th>\n      <td>94041</td>\n      <td>2020-06-11</td>\n    </tr>\n    <tr>\n      <th>1</th>\n      <td>90787</td>\n      <td>2020-06-10</td>\n    </tr>\n    <tr>\n      <th>2</th>\n      <td>88528</td>\n      <td>2020-06-09</td>\n    </tr>\n    <tr>\n      <th>3</th>\n      <td>85975</td>\n      <td>2020-06-08</td>\n    </tr>\n    <tr>\n      <th>4</th>\n      <td>82968</td>\n      <td>2020-06-07</td>\n    </tr>\n  </tbody>\n</table>\n</div>"
     },
     "execution_count": 33,
     "metadata": {},
     "output_type": "execute_result"
    }
   ],
   "source": [
    "cct(name='IndiaCases',\n",
    "    cols=['Confirmed', 'Date'],\n",
    "    order_by=['confirmed', -1],\n",
    "    limit=5)"
   ],
   "metadata": {
    "collapsed": false,
    "ExecuteTime": {
     "end_time": "2024-01-12T00:50:00.750823200Z",
     "start_time": "2024-01-12T00:50:00.710307700Z"
    }
   },
   "id": "18a944a646356c32",
   "execution_count": 33
  }
 ],
 "metadata": {
  "kernelspec": {
   "display_name": "Python 3",
   "language": "python",
   "name": "python3"
  },
  "language_info": {
   "codemirror_mode": {
    "name": "ipython",
    "version": 2
   },
   "file_extension": ".py",
   "mimetype": "text/x-python",
   "name": "python",
   "nbconvert_exporter": "python",
   "pygments_lexer": "ipython2",
   "version": "2.7.6"
  }
 },
 "nbformat": 4,
 "nbformat_minor": 5
}
