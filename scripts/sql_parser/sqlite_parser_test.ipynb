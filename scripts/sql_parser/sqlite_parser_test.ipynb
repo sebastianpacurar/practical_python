{
 "cells": [
  {
   "cell_type": "code",
   "execution_count": 2,
   "id": "initial_id",
   "metadata": {
    "collapsed": true,
    "ExecuteTime": {
     "end_time": "2024-01-09T00:54:16.353803800Z",
     "start_time": "2024-01-09T00:54:15.785797400Z"
    }
   },
   "outputs": [],
   "source": [
    "import scripts.sql_parser.sqlite_parser as sql\n",
    "\n",
    "NC_PATH = '../../data_sets/db/northwind.db'\n",
    "SC_PATH = '../../data_sets/db/sakila.db'\n",
    "CC_PATH = '../../data_sets/db/covid19.db'\n",
    "\n",
    "# instantiate parser objects based on the db path\n",
    "nc, sc, cc = sql.SqlParser(NC_PATH), sql.SqlParser(SC_PATH), sql.SqlParser(CC_PATH)\n",
    "\n",
    "# create a table reference for each db for faster querying\n",
    "nct, sct, cct = nc.table, sc.table, cc.table"
   ]
  },
  {
   "cell_type": "code",
   "execution_count": 3,
   "outputs": [
    {
     "data": {
      "text/plain": "                    name\n0             Categories\n1        sqlite_sequence\n2   CustomerCustomerDemo\n3   CustomerDemographics\n4              Customers\n5              Employees\n6    EmployeeTerritories\n7          Order Details\n8                 Orders\n9               Products\n10               Regions\n11              Shippers\n12             Suppliers\n13           Territories",
      "text/html": "<div>\n<style scoped>\n    .dataframe tbody tr th:only-of-type {\n        vertical-align: middle;\n    }\n\n    .dataframe tbody tr th {\n        vertical-align: top;\n    }\n\n    .dataframe thead th {\n        text-align: right;\n    }\n</style>\n<table border=\"1\" class=\"dataframe\">\n  <thead>\n    <tr style=\"text-align: right;\">\n      <th></th>\n      <th>name</th>\n    </tr>\n  </thead>\n  <tbody>\n    <tr>\n      <th>0</th>\n      <td>Categories</td>\n    </tr>\n    <tr>\n      <th>1</th>\n      <td>sqlite_sequence</td>\n    </tr>\n    <tr>\n      <th>2</th>\n      <td>CustomerCustomerDemo</td>\n    </tr>\n    <tr>\n      <th>3</th>\n      <td>CustomerDemographics</td>\n    </tr>\n    <tr>\n      <th>4</th>\n      <td>Customers</td>\n    </tr>\n    <tr>\n      <th>5</th>\n      <td>Employees</td>\n    </tr>\n    <tr>\n      <th>6</th>\n      <td>EmployeeTerritories</td>\n    </tr>\n    <tr>\n      <th>7</th>\n      <td>Order Details</td>\n    </tr>\n    <tr>\n      <th>8</th>\n      <td>Orders</td>\n    </tr>\n    <tr>\n      <th>9</th>\n      <td>Products</td>\n    </tr>\n    <tr>\n      <th>10</th>\n      <td>Regions</td>\n    </tr>\n    <tr>\n      <th>11</th>\n      <td>Shippers</td>\n    </tr>\n    <tr>\n      <th>12</th>\n      <td>Suppliers</td>\n    </tr>\n    <tr>\n      <th>13</th>\n      <td>Territories</td>\n    </tr>\n  </tbody>\n</table>\n</div>"
     },
     "execution_count": 3,
     "metadata": {},
     "output_type": "execute_result"
    }
   ],
   "source": [
    "# Get all Northwind tables\n",
    "nc.q(sql.ALL_TABLES)"
   ],
   "metadata": {
    "collapsed": false,
    "ExecuteTime": {
     "end_time": "2024-01-09T00:54:16.366965900Z",
     "start_time": "2024-01-09T00:54:16.355803300Z"
    }
   },
   "id": "1c9f57717c4f6bdd"
  },
  {
   "cell_type": "code",
   "execution_count": 4,
   "outputs": [
    {
     "name": "stdout",
     "output_type": "stream",
     "text": [
      "\n",
      "SELECT DISTINCT UnitPrice\n",
      "FROM \"Order Details\" \n",
      "WHERE UnitPrice BETWEEN 20.0 and 70.0\n",
      "ORDER BY UnitPrice DESC\n",
      "LIMIT 5 OFFSET 2\n"
     ]
    },
    {
     "data": {
      "text/plain": "   UnitPrice\n0       55.0\n1       53.0\n2       50.0\n3       49.3\n4       46.0",
      "text/html": "<div>\n<style scoped>\n    .dataframe tbody tr th:only-of-type {\n        vertical-align: middle;\n    }\n\n    .dataframe tbody tr th {\n        vertical-align: top;\n    }\n\n    .dataframe thead th {\n        text-align: right;\n    }\n</style>\n<table border=\"1\" class=\"dataframe\">\n  <thead>\n    <tr style=\"text-align: right;\">\n      <th></th>\n      <th>UnitPrice</th>\n    </tr>\n  </thead>\n  <tbody>\n    <tr>\n      <th>0</th>\n      <td>55.0</td>\n    </tr>\n    <tr>\n      <th>1</th>\n      <td>53.0</td>\n    </tr>\n    <tr>\n      <th>2</th>\n      <td>50.0</td>\n    </tr>\n    <tr>\n      <th>3</th>\n      <td>49.3</td>\n    </tr>\n    <tr>\n      <th>4</th>\n      <td>46.0</td>\n    </tr>\n  </tbody>\n</table>\n</div>"
     },
     "execution_count": 4,
     "metadata": {},
     "output_type": "execute_result"
    }
   ],
   "source": [
    "nct(name='Order Details',\n",
    "    cols=['UnitPrice'],\n",
    "    distinct=True,\n",
    "    where=['&20.0 >= UnitPrice <= 70.0'],\n",
    "    order_by=['UnitPrice', -1],\n",
    "    limit=5, offset=2)"
   ],
   "metadata": {
    "collapsed": false,
    "ExecuteTime": {
     "end_time": "2024-01-09T00:54:16.440696800Z",
     "start_time": "2024-01-09T00:54:16.368878300Z"
    }
   },
   "id": "e55d828600f124d5"
  },
  {
   "cell_type": "code",
   "execution_count": 5,
   "outputs": [
    {
     "name": "stdout",
     "output_type": "stream",
     "text": [
      "\n",
      "SELECT AVG(UnitPrice) AS \"UP Avg\",\n",
      "\tMAX(UnitPrice) AS \"UP Max\",\n",
      "\tMIN(UnitPrice) AS \"UP Min\",\n",
      "\tCOUNT(UnitPrice) AS \"UP Count\"\n",
      "FROM \"Order Details\" \n",
      "\n"
     ]
    },
    {
     "data": {
      "text/plain": "      UP Avg  UP Max  UP Min  UP Count\n0  28.850379   263.5       2    609283",
      "text/html": "<div>\n<style scoped>\n    .dataframe tbody tr th:only-of-type {\n        vertical-align: middle;\n    }\n\n    .dataframe tbody tr th {\n        vertical-align: top;\n    }\n\n    .dataframe thead th {\n        text-align: right;\n    }\n</style>\n<table border=\"1\" class=\"dataframe\">\n  <thead>\n    <tr style=\"text-align: right;\">\n      <th></th>\n      <th>UP Avg</th>\n      <th>UP Max</th>\n      <th>UP Min</th>\n      <th>UP Count</th>\n    </tr>\n  </thead>\n  <tbody>\n    <tr>\n      <th>0</th>\n      <td>28.850379</td>\n      <td>263.5</td>\n      <td>2</td>\n      <td>609283</td>\n    </tr>\n  </tbody>\n</table>\n</div>"
     },
     "execution_count": 5,
     "metadata": {},
     "output_type": "execute_result"
    }
   ],
   "source": [
    "nct(name='Order Details',\n",
    "    cols=['avg=UnitPrice:UP Avg',\n",
    "          'max=UnitPrice:UP Max',\n",
    "          'min=UnitPrice:UP Min',\n",
    "          'count=UnitPrice:UP Count'])"
   ],
   "metadata": {
    "collapsed": false,
    "ExecuteTime": {
     "end_time": "2024-01-09T00:54:16.497344200Z",
     "start_time": "2024-01-09T00:54:16.432697Z"
    }
   },
   "id": "dd7aa3ea4b38b923"
  },
  {
   "cell_type": "code",
   "execution_count": 6,
   "outputs": [
    {
     "name": "stdout",
     "output_type": "stream",
     "text": [
      "\n",
      "SELECT DISTINCT \n",
      "\tc.CompanyName,\n",
      "\tc.Phone,\n",
      "\tc.Fax,\n",
      "\to.ShipRegion,\n",
      "\to.ShipCountry\n",
      "FROM Customers c\n",
      "INNER JOIN Orders o\n",
      "ON c.CustomerID = o.CustomerID\n",
      "WHERE Phone LIKE \"3%\"\n",
      "ORDER BY ShipRegion ASC\n",
      "\n"
     ]
    },
    {
     "data": {
      "text/plain": "             CompanyName        Phone          Fax       ShipRegion  \\\n0          Simons bistro  31 12 34 56  31 13 35 57    British Isles   \n1   La corne d'abondance  30.59.84.10  30.59.85.11    British Isles   \n2   La corne d'abondance  30.59.84.10  30.59.85.11    British Isles   \n3   La corne d'abondance  30.59.84.10  30.59.85.11  Central America   \n4          Simons bistro  31 12 34 56  31 13 35 57  Central America   \n5   La corne d'abondance  30.59.84.10  30.59.85.11   Eastern Europe   \n6          Simons bistro  31 12 34 56  31 13 35 57   Eastern Europe   \n7          Simons bistro  31 12 34 56  31 13 35 57    North America   \n8   La corne d'abondance  30.59.84.10  30.59.85.11    North America   \n9   La corne d'abondance  30.59.84.10  30.59.85.11    North America   \n10         Simons bistro  31 12 34 56  31 13 35 57    North America   \n11         Simons bistro  31 12 34 56  31 13 35 57  Northern Europe   \n12  La corne d'abondance  30.59.84.10  30.59.85.11  Northern Europe   \n13         Simons bistro  31 12 34 56  31 13 35 57  Northern Europe   \n14  La corne d'abondance  30.59.84.10  30.59.85.11  Northern Europe   \n15  La corne d'abondance  30.59.84.10  30.59.85.11      Scandinavia   \n16         Simons bistro  31 12 34 56  31 13 35 57      Scandinavia   \n17         Simons bistro  31 12 34 56  31 13 35 57      Scandinavia   \n18         Simons bistro  31 12 34 56  31 13 35 57    South America   \n19  La corne d'abondance  30.59.84.10  30.59.85.11    South America   \n20  La corne d'abondance  30.59.84.10  30.59.85.11    South America   \n21         Simons bistro  31 12 34 56  31 13 35 57    South America   \n22         Simons bistro  31 12 34 56  31 13 35 57    South America   \n23  La corne d'abondance  30.59.84.10  30.59.85.11    South America   \n24  La corne d'abondance  30.59.84.10  30.59.85.11  Southern Europe   \n25  La corne d'abondance  30.59.84.10  30.59.85.11  Southern Europe   \n26         Simons bistro  31 12 34 56  31 13 35 57  Southern Europe   \n27         Simons bistro  31 12 34 56  31 13 35 57  Southern Europe   \n28  La corne d'abondance  30.59.84.10  30.59.85.11  Southern Europe   \n29         Simons bistro  31 12 34 56  31 13 35 57  Southern Europe   \n30  La corne d'abondance  30.59.84.10  30.59.85.11   Western Europe   \n31         Simons bistro  31 12 34 56  31 13 35 57   Western Europe   \n32         Simons bistro  31 12 34 56  31 13 35 57   Western Europe   \n33  La corne d'abondance  30.59.84.10  30.59.85.11   Western Europe   \n34         Simons bistro  31 12 34 56  31 13 35 57   Western Europe   \n35  La corne d'abondance  30.59.84.10  30.59.85.11   Western Europe   \n36  La corne d'abondance  30.59.84.10  30.59.85.11   Western Europe   \n37         Simons bistro  31 12 34 56  31 13 35 57   Western Europe   \n38         Simons bistro  31 12 34 56  31 13 35 57   Western Europe   \n39  La corne d'abondance  30.59.84.10  30.59.85.11   Western Europe   \n\n    ShipCountry  \n0            UK  \n1            UK  \n2       Ireland  \n3        Mexico  \n4        Mexico  \n5        Poland  \n6        Poland  \n7           USA  \n8        Canada  \n9           USA  \n10       Canada  \n11      Denmark  \n12       Sweden  \n13       Sweden  \n14      Denmark  \n15      Finland  \n16       Norway  \n17      Finland  \n18       Brazil  \n19       Brazil  \n20    Argentina  \n21    Venezuela  \n22    Argentina  \n23    Venezuela  \n24        Spain  \n25     Portugal  \n26     Portugal  \n27        Spain  \n28        Italy  \n29        Italy  \n30       France  \n31       France  \n32      Germany  \n33      Germany  \n34      Belgium  \n35      Belgium  \n36      Austria  \n37  Switzerland  \n38      Austria  \n39  Switzerland  ",
      "text/html": "<div>\n<style scoped>\n    .dataframe tbody tr th:only-of-type {\n        vertical-align: middle;\n    }\n\n    .dataframe tbody tr th {\n        vertical-align: top;\n    }\n\n    .dataframe thead th {\n        text-align: right;\n    }\n</style>\n<table border=\"1\" class=\"dataframe\">\n  <thead>\n    <tr style=\"text-align: right;\">\n      <th></th>\n      <th>CompanyName</th>\n      <th>Phone</th>\n      <th>Fax</th>\n      <th>ShipRegion</th>\n      <th>ShipCountry</th>\n    </tr>\n  </thead>\n  <tbody>\n    <tr>\n      <th>0</th>\n      <td>Simons bistro</td>\n      <td>31 12 34 56</td>\n      <td>31 13 35 57</td>\n      <td>British Isles</td>\n      <td>UK</td>\n    </tr>\n    <tr>\n      <th>1</th>\n      <td>La corne d'abondance</td>\n      <td>30.59.84.10</td>\n      <td>30.59.85.11</td>\n      <td>British Isles</td>\n      <td>UK</td>\n    </tr>\n    <tr>\n      <th>2</th>\n      <td>La corne d'abondance</td>\n      <td>30.59.84.10</td>\n      <td>30.59.85.11</td>\n      <td>British Isles</td>\n      <td>Ireland</td>\n    </tr>\n    <tr>\n      <th>3</th>\n      <td>La corne d'abondance</td>\n      <td>30.59.84.10</td>\n      <td>30.59.85.11</td>\n      <td>Central America</td>\n      <td>Mexico</td>\n    </tr>\n    <tr>\n      <th>4</th>\n      <td>Simons bistro</td>\n      <td>31 12 34 56</td>\n      <td>31 13 35 57</td>\n      <td>Central America</td>\n      <td>Mexico</td>\n    </tr>\n    <tr>\n      <th>5</th>\n      <td>La corne d'abondance</td>\n      <td>30.59.84.10</td>\n      <td>30.59.85.11</td>\n      <td>Eastern Europe</td>\n      <td>Poland</td>\n    </tr>\n    <tr>\n      <th>6</th>\n      <td>Simons bistro</td>\n      <td>31 12 34 56</td>\n      <td>31 13 35 57</td>\n      <td>Eastern Europe</td>\n      <td>Poland</td>\n    </tr>\n    <tr>\n      <th>7</th>\n      <td>Simons bistro</td>\n      <td>31 12 34 56</td>\n      <td>31 13 35 57</td>\n      <td>North America</td>\n      <td>USA</td>\n    </tr>\n    <tr>\n      <th>8</th>\n      <td>La corne d'abondance</td>\n      <td>30.59.84.10</td>\n      <td>30.59.85.11</td>\n      <td>North America</td>\n      <td>Canada</td>\n    </tr>\n    <tr>\n      <th>9</th>\n      <td>La corne d'abondance</td>\n      <td>30.59.84.10</td>\n      <td>30.59.85.11</td>\n      <td>North America</td>\n      <td>USA</td>\n    </tr>\n    <tr>\n      <th>10</th>\n      <td>Simons bistro</td>\n      <td>31 12 34 56</td>\n      <td>31 13 35 57</td>\n      <td>North America</td>\n      <td>Canada</td>\n    </tr>\n    <tr>\n      <th>11</th>\n      <td>Simons bistro</td>\n      <td>31 12 34 56</td>\n      <td>31 13 35 57</td>\n      <td>Northern Europe</td>\n      <td>Denmark</td>\n    </tr>\n    <tr>\n      <th>12</th>\n      <td>La corne d'abondance</td>\n      <td>30.59.84.10</td>\n      <td>30.59.85.11</td>\n      <td>Northern Europe</td>\n      <td>Sweden</td>\n    </tr>\n    <tr>\n      <th>13</th>\n      <td>Simons bistro</td>\n      <td>31 12 34 56</td>\n      <td>31 13 35 57</td>\n      <td>Northern Europe</td>\n      <td>Sweden</td>\n    </tr>\n    <tr>\n      <th>14</th>\n      <td>La corne d'abondance</td>\n      <td>30.59.84.10</td>\n      <td>30.59.85.11</td>\n      <td>Northern Europe</td>\n      <td>Denmark</td>\n    </tr>\n    <tr>\n      <th>15</th>\n      <td>La corne d'abondance</td>\n      <td>30.59.84.10</td>\n      <td>30.59.85.11</td>\n      <td>Scandinavia</td>\n      <td>Finland</td>\n    </tr>\n    <tr>\n      <th>16</th>\n      <td>Simons bistro</td>\n      <td>31 12 34 56</td>\n      <td>31 13 35 57</td>\n      <td>Scandinavia</td>\n      <td>Norway</td>\n    </tr>\n    <tr>\n      <th>17</th>\n      <td>Simons bistro</td>\n      <td>31 12 34 56</td>\n      <td>31 13 35 57</td>\n      <td>Scandinavia</td>\n      <td>Finland</td>\n    </tr>\n    <tr>\n      <th>18</th>\n      <td>Simons bistro</td>\n      <td>31 12 34 56</td>\n      <td>31 13 35 57</td>\n      <td>South America</td>\n      <td>Brazil</td>\n    </tr>\n    <tr>\n      <th>19</th>\n      <td>La corne d'abondance</td>\n      <td>30.59.84.10</td>\n      <td>30.59.85.11</td>\n      <td>South America</td>\n      <td>Brazil</td>\n    </tr>\n    <tr>\n      <th>20</th>\n      <td>La corne d'abondance</td>\n      <td>30.59.84.10</td>\n      <td>30.59.85.11</td>\n      <td>South America</td>\n      <td>Argentina</td>\n    </tr>\n    <tr>\n      <th>21</th>\n      <td>Simons bistro</td>\n      <td>31 12 34 56</td>\n      <td>31 13 35 57</td>\n      <td>South America</td>\n      <td>Venezuela</td>\n    </tr>\n    <tr>\n      <th>22</th>\n      <td>Simons bistro</td>\n      <td>31 12 34 56</td>\n      <td>31 13 35 57</td>\n      <td>South America</td>\n      <td>Argentina</td>\n    </tr>\n    <tr>\n      <th>23</th>\n      <td>La corne d'abondance</td>\n      <td>30.59.84.10</td>\n      <td>30.59.85.11</td>\n      <td>South America</td>\n      <td>Venezuela</td>\n    </tr>\n    <tr>\n      <th>24</th>\n      <td>La corne d'abondance</td>\n      <td>30.59.84.10</td>\n      <td>30.59.85.11</td>\n      <td>Southern Europe</td>\n      <td>Spain</td>\n    </tr>\n    <tr>\n      <th>25</th>\n      <td>La corne d'abondance</td>\n      <td>30.59.84.10</td>\n      <td>30.59.85.11</td>\n      <td>Southern Europe</td>\n      <td>Portugal</td>\n    </tr>\n    <tr>\n      <th>26</th>\n      <td>Simons bistro</td>\n      <td>31 12 34 56</td>\n      <td>31 13 35 57</td>\n      <td>Southern Europe</td>\n      <td>Portugal</td>\n    </tr>\n    <tr>\n      <th>27</th>\n      <td>Simons bistro</td>\n      <td>31 12 34 56</td>\n      <td>31 13 35 57</td>\n      <td>Southern Europe</td>\n      <td>Spain</td>\n    </tr>\n    <tr>\n      <th>28</th>\n      <td>La corne d'abondance</td>\n      <td>30.59.84.10</td>\n      <td>30.59.85.11</td>\n      <td>Southern Europe</td>\n      <td>Italy</td>\n    </tr>\n    <tr>\n      <th>29</th>\n      <td>Simons bistro</td>\n      <td>31 12 34 56</td>\n      <td>31 13 35 57</td>\n      <td>Southern Europe</td>\n      <td>Italy</td>\n    </tr>\n    <tr>\n      <th>30</th>\n      <td>La corne d'abondance</td>\n      <td>30.59.84.10</td>\n      <td>30.59.85.11</td>\n      <td>Western Europe</td>\n      <td>France</td>\n    </tr>\n    <tr>\n      <th>31</th>\n      <td>Simons bistro</td>\n      <td>31 12 34 56</td>\n      <td>31 13 35 57</td>\n      <td>Western Europe</td>\n      <td>France</td>\n    </tr>\n    <tr>\n      <th>32</th>\n      <td>Simons bistro</td>\n      <td>31 12 34 56</td>\n      <td>31 13 35 57</td>\n      <td>Western Europe</td>\n      <td>Germany</td>\n    </tr>\n    <tr>\n      <th>33</th>\n      <td>La corne d'abondance</td>\n      <td>30.59.84.10</td>\n      <td>30.59.85.11</td>\n      <td>Western Europe</td>\n      <td>Germany</td>\n    </tr>\n    <tr>\n      <th>34</th>\n      <td>Simons bistro</td>\n      <td>31 12 34 56</td>\n      <td>31 13 35 57</td>\n      <td>Western Europe</td>\n      <td>Belgium</td>\n    </tr>\n    <tr>\n      <th>35</th>\n      <td>La corne d'abondance</td>\n      <td>30.59.84.10</td>\n      <td>30.59.85.11</td>\n      <td>Western Europe</td>\n      <td>Belgium</td>\n    </tr>\n    <tr>\n      <th>36</th>\n      <td>La corne d'abondance</td>\n      <td>30.59.84.10</td>\n      <td>30.59.85.11</td>\n      <td>Western Europe</td>\n      <td>Austria</td>\n    </tr>\n    <tr>\n      <th>37</th>\n      <td>Simons bistro</td>\n      <td>31 12 34 56</td>\n      <td>31 13 35 57</td>\n      <td>Western Europe</td>\n      <td>Switzerland</td>\n    </tr>\n    <tr>\n      <th>38</th>\n      <td>Simons bistro</td>\n      <td>31 12 34 56</td>\n      <td>31 13 35 57</td>\n      <td>Western Europe</td>\n      <td>Austria</td>\n    </tr>\n    <tr>\n      <th>39</th>\n      <td>La corne d'abondance</td>\n      <td>30.59.84.10</td>\n      <td>30.59.85.11</td>\n      <td>Western Europe</td>\n      <td>Switzerland</td>\n    </tr>\n  </tbody>\n</table>\n</div>"
     },
     "execution_count": 6,
     "metadata": {},
     "output_type": "execute_result"
    }
   ],
   "source": [
    "nc.join(table_left=('Customers:c', ['CompanyName', 'Phone', 'Fax']),\n",
    "        table_right=('Orders:o', ['ShipRegion', 'ShipCountry']),\n",
    "        shared_col='CustomerID',\n",
    "        starts_with=('Phone', '3'),\n",
    "        order_by=('ShipRegion', 1),\n",
    "        distinct=True,\n",
    "        j_type='i')"
   ],
   "metadata": {
    "collapsed": false,
    "ExecuteTime": {
     "end_time": "2024-01-09T00:54:16.506962800Z",
     "start_time": "2024-01-09T00:54:16.492344800Z"
    }
   },
   "id": "3e7d9fd552269b8a"
  },
  {
   "cell_type": "code",
   "execution_count": 7,
   "outputs": [
    {
     "data": {
      "text/plain": "               name\n0  android_metadata\n1         csvImport\n2           Country\n3             !Info\n4             Cases\n5     CasesPrevious\n6   CountryPrevious\n7             India\n8    csvImportIndia\n9        IndiaCases",
      "text/html": "<div>\n<style scoped>\n    .dataframe tbody tr th:only-of-type {\n        vertical-align: middle;\n    }\n\n    .dataframe tbody tr th {\n        vertical-align: top;\n    }\n\n    .dataframe thead th {\n        text-align: right;\n    }\n</style>\n<table border=\"1\" class=\"dataframe\">\n  <thead>\n    <tr style=\"text-align: right;\">\n      <th></th>\n      <th>name</th>\n    </tr>\n  </thead>\n  <tbody>\n    <tr>\n      <th>0</th>\n      <td>android_metadata</td>\n    </tr>\n    <tr>\n      <th>1</th>\n      <td>csvImport</td>\n    </tr>\n    <tr>\n      <th>2</th>\n      <td>Country</td>\n    </tr>\n    <tr>\n      <th>3</th>\n      <td>!Info</td>\n    </tr>\n    <tr>\n      <th>4</th>\n      <td>Cases</td>\n    </tr>\n    <tr>\n      <th>5</th>\n      <td>CasesPrevious</td>\n    </tr>\n    <tr>\n      <th>6</th>\n      <td>CountryPrevious</td>\n    </tr>\n    <tr>\n      <th>7</th>\n      <td>India</td>\n    </tr>\n    <tr>\n      <th>8</th>\n      <td>csvImportIndia</td>\n    </tr>\n    <tr>\n      <th>9</th>\n      <td>IndiaCases</td>\n    </tr>\n  </tbody>\n</table>\n</div>"
     },
     "execution_count": 7,
     "metadata": {},
     "output_type": "execute_result"
    }
   ],
   "source": [
    "# Get all covid19 tables\n",
    "cc.q(sql.ALL_TABLES)"
   ],
   "metadata": {
    "collapsed": false,
    "ExecuteTime": {
     "end_time": "2024-01-09T00:54:16.522170800Z",
     "start_time": "2024-01-09T00:54:16.505962600Z"
    }
   },
   "id": "4059fea9c215e2d"
  },
  {
   "cell_type": "code",
   "execution_count": 8,
   "outputs": [
    {
     "name": "stdout",
     "output_type": "stream",
     "text": [
      "\n",
      "SELECT Confirmed,\n",
      "\tDate\n",
      "FROM IndiaCases \n",
      "ORDER BY confirmed DESC\n",
      "LIMIT 10\n",
      "\n"
     ]
    },
    {
     "data": {
      "text/plain": "   Confirmed        Date\n0      94041  2020-06-11\n1      90787  2020-06-10\n2      88528  2020-06-09\n3      85975  2020-06-08\n4      82968  2020-06-07\n5      80229  2020-06-06\n6      77793  2020-06-05\n7      74860  2020-06-04\n8      72300  2020-06-03\n9      70013  2020-06-02",
      "text/html": "<div>\n<style scoped>\n    .dataframe tbody tr th:only-of-type {\n        vertical-align: middle;\n    }\n\n    .dataframe tbody tr th {\n        vertical-align: top;\n    }\n\n    .dataframe thead th {\n        text-align: right;\n    }\n</style>\n<table border=\"1\" class=\"dataframe\">\n  <thead>\n    <tr style=\"text-align: right;\">\n      <th></th>\n      <th>Confirmed</th>\n      <th>Date</th>\n    </tr>\n  </thead>\n  <tbody>\n    <tr>\n      <th>0</th>\n      <td>94041</td>\n      <td>2020-06-11</td>\n    </tr>\n    <tr>\n      <th>1</th>\n      <td>90787</td>\n      <td>2020-06-10</td>\n    </tr>\n    <tr>\n      <th>2</th>\n      <td>88528</td>\n      <td>2020-06-09</td>\n    </tr>\n    <tr>\n      <th>3</th>\n      <td>85975</td>\n      <td>2020-06-08</td>\n    </tr>\n    <tr>\n      <th>4</th>\n      <td>82968</td>\n      <td>2020-06-07</td>\n    </tr>\n    <tr>\n      <th>5</th>\n      <td>80229</td>\n      <td>2020-06-06</td>\n    </tr>\n    <tr>\n      <th>6</th>\n      <td>77793</td>\n      <td>2020-06-05</td>\n    </tr>\n    <tr>\n      <th>7</th>\n      <td>74860</td>\n      <td>2020-06-04</td>\n    </tr>\n    <tr>\n      <th>8</th>\n      <td>72300</td>\n      <td>2020-06-03</td>\n    </tr>\n    <tr>\n      <th>9</th>\n      <td>70013</td>\n      <td>2020-06-02</td>\n    </tr>\n  </tbody>\n</table>\n</div>"
     },
     "execution_count": 8,
     "metadata": {},
     "output_type": "execute_result"
    }
   ],
   "source": [
    "cct(name='IndiaCases', \n",
    "    cols=['Confirmed', 'Date'],\n",
    "    order_by=['confirmed', -1],\n",
    "    limit=10)"
   ],
   "metadata": {
    "collapsed": false,
    "ExecuteTime": {
     "end_time": "2024-01-09T00:54:16.547735100Z",
     "start_time": "2024-01-09T00:54:16.513406500Z"
    }
   },
   "id": "18a944a646356c32"
  },
  {
   "cell_type": "code",
   "execution_count": 9,
   "outputs": [
    {
     "name": "stdout",
     "output_type": "stream",
     "text": [
      "\n",
      "SELECT *\n",
      "FROM \"!Info\" \n",
      "\n",
      "\n"
     ]
    },
    {
     "data": {
      "text/plain": "     id         IST                      Title  \\\n0    10  2020-05-18       International Source   \n1    20  2020-05-18                 csv Import   \n2    25  2020-05-23    Track Changes for Cases   \n3    26  2020-05-23      Track Population Data   \n4    27  2020-05-23               Fresh Import   \n5    30  2020-05-18               Country data   \n6    40  2020-05-18                      Cases   \n7    50  2020-05-18            Empty csvImport   \n8    60  2020-05-26  Selective Country Example   \n9    70  2020-05-29    Rank on particular date   \n10   80  2020-05-29     Manual India Rank Fill   \n11   90  2020-06-02                  Temporary   \n12  100  2020-06-09                 IndiaCases   \n13  110  2020-06-09      Empty\\ncsvImportIndia   \n14  120  2020-06-09          India Data Source   \n\n                                                Query  \\\n0                                                None   \n1                 delete from csvImport where 1 is 1;   \n2   insert into CasesPrevious (dateRep, casesOld, ...   \n3   insert into CountryPrevious\\n(CountriesAndTerr...   \n4                                                None   \n5   insert or ignore into Country\\n(CountriesAndTe...   \n6   insert or ignore into Cases\\n( dateRep\\n, case...   \n7                  delete from csvImport where 1=1\\n;   \n8   select * from\\n\"Covid19 - ecdc.europa.eu - Sun...   \n9   Select\\n\\n-- insert into India (Date, Pos , Ca...   \n10  insert into India (Date, Pos , Cases , Deaths ...   \n11  select * from csvImport where geoID is 'UG' an...   \n12  Insert or Ignore into IndiaCases\\n( id\\n, \"Dat...   \n13           delete from csvImportIndia where 1 is 1;   \n14                                               None   \n\n                                               Detail  \n0   https://www.ecdc.europa.eu/en/publications-dat...  \n1   Check table csvImport. Make it empty if not. N...  \n2   CAUTION! This query must be executed only once...  \n3                                Executes in seconds.  \n4   Both cases and country tables be emptied for f...  \n5   Check total country record before and after ex...  \n6   Check total records in csvImport table and Cas...  \n7                         Empty csvImport after work.  \n8                                                None  \n9   Change date at 3 different places in the query...  \n10  First by hit and trial find Position (Rank) ch...  \n11                 To check error in UG on 2020-05-21  \n12                                               None  \n13                                 vacate\\ncsv import  \n14  https://www.kaggle.com/pritamguha31/covid-19-i...  ",
      "text/html": "<div>\n<style scoped>\n    .dataframe tbody tr th:only-of-type {\n        vertical-align: middle;\n    }\n\n    .dataframe tbody tr th {\n        vertical-align: top;\n    }\n\n    .dataframe thead th {\n        text-align: right;\n    }\n</style>\n<table border=\"1\" class=\"dataframe\">\n  <thead>\n    <tr style=\"text-align: right;\">\n      <th></th>\n      <th>id</th>\n      <th>IST</th>\n      <th>Title</th>\n      <th>Query</th>\n      <th>Detail</th>\n    </tr>\n  </thead>\n  <tbody>\n    <tr>\n      <th>0</th>\n      <td>10</td>\n      <td>2020-05-18</td>\n      <td>International Source</td>\n      <td>None</td>\n      <td>https://www.ecdc.europa.eu/en/publications-dat...</td>\n    </tr>\n    <tr>\n      <th>1</th>\n      <td>20</td>\n      <td>2020-05-18</td>\n      <td>csv Import</td>\n      <td>delete from csvImport where 1 is 1;</td>\n      <td>Check table csvImport. Make it empty if not. N...</td>\n    </tr>\n    <tr>\n      <th>2</th>\n      <td>25</td>\n      <td>2020-05-23</td>\n      <td>Track Changes for Cases</td>\n      <td>insert into CasesPrevious (dateRep, casesOld, ...</td>\n      <td>CAUTION! This query must be executed only once...</td>\n    </tr>\n    <tr>\n      <th>3</th>\n      <td>26</td>\n      <td>2020-05-23</td>\n      <td>Track Population Data</td>\n      <td>insert into CountryPrevious\\n(CountriesAndTerr...</td>\n      <td>Executes in seconds.</td>\n    </tr>\n    <tr>\n      <th>4</th>\n      <td>27</td>\n      <td>2020-05-23</td>\n      <td>Fresh Import</td>\n      <td>None</td>\n      <td>Both cases and country tables be emptied for f...</td>\n    </tr>\n    <tr>\n      <th>5</th>\n      <td>30</td>\n      <td>2020-05-18</td>\n      <td>Country data</td>\n      <td>insert or ignore into Country\\n(CountriesAndTe...</td>\n      <td>Check total country record before and after ex...</td>\n    </tr>\n    <tr>\n      <th>6</th>\n      <td>40</td>\n      <td>2020-05-18</td>\n      <td>Cases</td>\n      <td>insert or ignore into Cases\\n( dateRep\\n, case...</td>\n      <td>Check total records in csvImport table and Cas...</td>\n    </tr>\n    <tr>\n      <th>7</th>\n      <td>50</td>\n      <td>2020-05-18</td>\n      <td>Empty csvImport</td>\n      <td>delete from csvImport where 1=1\\n;</td>\n      <td>Empty csvImport after work.</td>\n    </tr>\n    <tr>\n      <th>8</th>\n      <td>60</td>\n      <td>2020-05-26</td>\n      <td>Selective Country Example</td>\n      <td>select * from\\n\"Covid19 - ecdc.europa.eu - Sun...</td>\n      <td>None</td>\n    </tr>\n    <tr>\n      <th>9</th>\n      <td>70</td>\n      <td>2020-05-29</td>\n      <td>Rank on particular date</td>\n      <td>Select\\n\\n-- insert into India (Date, Pos , Ca...</td>\n      <td>Change date at 3 different places in the query...</td>\n    </tr>\n    <tr>\n      <th>10</th>\n      <td>80</td>\n      <td>2020-05-29</td>\n      <td>Manual India Rank Fill</td>\n      <td>insert into India (Date, Pos , Cases , Deaths ...</td>\n      <td>First by hit and trial find Position (Rank) ch...</td>\n    </tr>\n    <tr>\n      <th>11</th>\n      <td>90</td>\n      <td>2020-06-02</td>\n      <td>Temporary</td>\n      <td>select * from csvImport where geoID is 'UG' an...</td>\n      <td>To check error in UG on 2020-05-21</td>\n    </tr>\n    <tr>\n      <th>12</th>\n      <td>100</td>\n      <td>2020-06-09</td>\n      <td>IndiaCases</td>\n      <td>Insert or Ignore into IndiaCases\\n( id\\n, \"Dat...</td>\n      <td>None</td>\n    </tr>\n    <tr>\n      <th>13</th>\n      <td>110</td>\n      <td>2020-06-09</td>\n      <td>Empty\\ncsvImportIndia</td>\n      <td>delete from csvImportIndia where 1 is 1;</td>\n      <td>vacate\\ncsv import</td>\n    </tr>\n    <tr>\n      <th>14</th>\n      <td>120</td>\n      <td>2020-06-09</td>\n      <td>India Data Source</td>\n      <td>None</td>\n      <td>https://www.kaggle.com/pritamguha31/covid-19-i...</td>\n    </tr>\n  </tbody>\n</table>\n</div>"
     },
     "execution_count": 9,
     "metadata": {},
     "output_type": "execute_result"
    }
   ],
   "source": [
    "cct(name='!Info')"
   ],
   "metadata": {
    "collapsed": false,
    "ExecuteTime": {
     "end_time": "2024-01-09T00:54:16.563250100Z",
     "start_time": "2024-01-09T00:54:16.521170100Z"
    }
   },
   "id": "8eabea7249eaea3"
  }
 ],
 "metadata": {
  "kernelspec": {
   "display_name": "Python 3",
   "language": "python",
   "name": "python3"
  },
  "language_info": {
   "codemirror_mode": {
    "name": "ipython",
    "version": 2
   },
   "file_extension": ".py",
   "mimetype": "text/x-python",
   "name": "python",
   "nbconvert_exporter": "python",
   "pygments_lexer": "ipython2",
   "version": "2.7.6"
  }
 },
 "nbformat": 4,
 "nbformat_minor": 5
}
