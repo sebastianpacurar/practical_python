{
 "cells": [
  {
   "cell_type": "code",
   "execution_count": 12,
   "id": "initial_id",
   "metadata": {
    "collapsed": true,
    "ExecuteTime": {
     "end_time": "2024-01-16T01:42:49.728874200Z",
     "start_time": "2024-01-16T01:42:49.721356600Z"
    }
   },
   "outputs": [],
   "source": [
    "import scripts.sql_parser.sqlite_parser as sql\n",
    "from scripts.sql_parser.constants import *\n",
    "\n",
    "NC_PATH = '../../data_sets/db/northwind.db'\n",
    "\n",
    "# instantiate parser objects based on the db path\n",
    "nc = sql.SqlParser(NC_PATH)\n",
    "\n",
    "# create a table reference for faster querying\n",
    "nct = nc.table"
   ]
  },
  {
   "cell_type": "code",
   "execution_count": 13,
   "outputs": [
    {
     "data": {
      "text/plain": "                    name\n0             Categories\n1        sqlite_sequence\n2   CustomerCustomerDemo\n3   CustomerDemographics\n4              Customers\n5              Employees\n6    EmployeeTerritories\n7          Order Details\n8                 Orders\n9               Products\n10               Regions\n11              Shippers\n12             Suppliers\n13           Territories",
      "text/html": "<div>\n<style scoped>\n    .dataframe tbody tr th:only-of-type {\n        vertical-align: middle;\n    }\n\n    .dataframe tbody tr th {\n        vertical-align: top;\n    }\n\n    .dataframe thead th {\n        text-align: right;\n    }\n</style>\n<table border=\"1\" class=\"dataframe\">\n  <thead>\n    <tr style=\"text-align: right;\">\n      <th></th>\n      <th>name</th>\n    </tr>\n  </thead>\n  <tbody>\n    <tr>\n      <th>0</th>\n      <td>Categories</td>\n    </tr>\n    <tr>\n      <th>1</th>\n      <td>sqlite_sequence</td>\n    </tr>\n    <tr>\n      <th>2</th>\n      <td>CustomerCustomerDemo</td>\n    </tr>\n    <tr>\n      <th>3</th>\n      <td>CustomerDemographics</td>\n    </tr>\n    <tr>\n      <th>4</th>\n      <td>Customers</td>\n    </tr>\n    <tr>\n      <th>5</th>\n      <td>Employees</td>\n    </tr>\n    <tr>\n      <th>6</th>\n      <td>EmployeeTerritories</td>\n    </tr>\n    <tr>\n      <th>7</th>\n      <td>Order Details</td>\n    </tr>\n    <tr>\n      <th>8</th>\n      <td>Orders</td>\n    </tr>\n    <tr>\n      <th>9</th>\n      <td>Products</td>\n    </tr>\n    <tr>\n      <th>10</th>\n      <td>Regions</td>\n    </tr>\n    <tr>\n      <th>11</th>\n      <td>Shippers</td>\n    </tr>\n    <tr>\n      <th>12</th>\n      <td>Suppliers</td>\n    </tr>\n    <tr>\n      <th>13</th>\n      <td>Territories</td>\n    </tr>\n  </tbody>\n</table>\n</div>"
     },
     "execution_count": 13,
     "metadata": {},
     "output_type": "execute_result"
    }
   ],
   "source": [
    "# Get all Northwind tables\n",
    "nc.q(sql.ALL_TABLES)"
   ],
   "metadata": {
    "collapsed": false,
    "ExecuteTime": {
     "end_time": "2024-01-16T01:42:49.741136400Z",
     "start_time": "2024-01-16T01:42:49.728874200Z"
    }
   },
   "id": "1c9f57717c4f6bdd"
  },
  {
   "cell_type": "code",
   "execution_count": 14,
   "outputs": [
    {
     "name": "stdout",
     "output_type": "stream",
     "text": [
      "\n",
      "SELECT \n",
      "\tAVG(UnitPrice) AS \"UP Avg\",\n",
      "\tMAX(UnitPrice) AS \"UP Max\",\n",
      "\tMIN(UnitPrice) AS \"UP Min\",\n",
      "\tCOUNT(UnitPrice) AS \"UP Count\"\n",
      "FROM \"Order Details\" \n"
     ]
    },
    {
     "data": {
      "text/plain": "      UP Avg  UP Max  UP Min  UP Count\n0  28.850379   263.5       2    609283",
      "text/html": "<div>\n<style scoped>\n    .dataframe tbody tr th:only-of-type {\n        vertical-align: middle;\n    }\n\n    .dataframe tbody tr th {\n        vertical-align: top;\n    }\n\n    .dataframe thead th {\n        text-align: right;\n    }\n</style>\n<table border=\"1\" class=\"dataframe\">\n  <thead>\n    <tr style=\"text-align: right;\">\n      <th></th>\n      <th>UP Avg</th>\n      <th>UP Max</th>\n      <th>UP Min</th>\n      <th>UP Count</th>\n    </tr>\n  </thead>\n  <tbody>\n    <tr>\n      <th>0</th>\n      <td>28.850379</td>\n      <td>263.5</td>\n      <td>2</td>\n      <td>609283</td>\n    </tr>\n  </tbody>\n</table>\n</div>"
     },
     "execution_count": 14,
     "metadata": {},
     "output_type": "execute_result"
    }
   ],
   "source": [
    "# handle Aggregation functions\n",
    "\n",
    "nct(name='Order Details',\n",
    "    cols=['avg=UnitPrice:UP Avg',\n",
    "          'max=UnitPrice:UP Max',\n",
    "          'min=UnitPrice:UP Min',\n",
    "          'count=UnitPrice:UP Count'])"
   ],
   "metadata": {
    "collapsed": false,
    "ExecuteTime": {
     "end_time": "2024-01-16T01:42:49.800136700Z",
     "start_time": "2024-01-16T01:42:49.739998900Z"
    }
   },
   "id": "dd7aa3ea4b38b923"
  },
  {
   "cell_type": "code",
   "outputs": [
    {
     "name": "stdout",
     "output_type": "stream",
     "text": [
      "\n",
      "SELECT DISTINCT \n",
      "\tUnitPrice\n",
      "FROM \"Order Details\" \n",
      "WHERE UnitPrice BETWEEN 20.0 and 70.0\n",
      "\tOR UnitPrice > 20\n",
      "ORDER BY UnitPrice DESC\n",
      "LIMIT 5 OFFSET 2\n"
     ]
    },
    {
     "data": {
      "text/plain": "   UnitPrice\n0     123.79\n1      99.00\n2      97.00\n3      81.00\n4      77.60",
      "text/html": "<div>\n<style scoped>\n    .dataframe tbody tr th:only-of-type {\n        vertical-align: middle;\n    }\n\n    .dataframe tbody tr th {\n        vertical-align: top;\n    }\n\n    .dataframe thead th {\n        text-align: right;\n    }\n</style>\n<table border=\"1\" class=\"dataframe\">\n  <thead>\n    <tr style=\"text-align: right;\">\n      <th></th>\n      <th>UnitPrice</th>\n    </tr>\n  </thead>\n  <tbody>\n    <tr>\n      <th>0</th>\n      <td>123.79</td>\n    </tr>\n    <tr>\n      <th>1</th>\n      <td>99.00</td>\n    </tr>\n    <tr>\n      <th>2</th>\n      <td>97.00</td>\n    </tr>\n    <tr>\n      <th>3</th>\n      <td>81.00</td>\n    </tr>\n    <tr>\n      <th>4</th>\n      <td>77.60</td>\n    </tr>\n  </tbody>\n</table>\n</div>"
     },
     "execution_count": 15,
     "metadata": {},
     "output_type": "execute_result"
    }
   ],
   "source": [
    "# supports most of the clauses (except GROUP BY)\n",
    "\n",
    "nct(name='Order Details',\n",
    "    cols=['UnitPrice'], distinct=True,\n",
    "    where=['&20.0 >= UnitPrice <= 70.0', '|UnitPrice > 20'],\n",
    "    order_by=('UnitPrice', -1),\n",
    "    limit=5, offset=2)"
   ],
   "metadata": {
    "collapsed": false,
    "ExecuteTime": {
     "end_time": "2024-01-16T01:42:49.865172400Z",
     "start_time": "2024-01-16T01:42:49.795134800Z"
    }
   },
   "id": "13fe7315263e097c",
   "execution_count": 15
  },
  {
   "cell_type": "code",
   "outputs": [
    {
     "name": "stdout",
     "output_type": "stream",
     "text": [
      "\n",
      "SELECT \n",
      "\tShipCountry,\n",
      "\tCOUNT(\"*\") AS OrderCount\n",
      "FROM Orders \n",
      "GROUP BY ShipCountry\n",
      "ORDER BY OrderCount DESC\n",
      "LIMIT 5\n"
     ]
    },
    {
     "data": {
      "text/plain": "  ShipCountry  OrderCount\n0         USA        2328\n1     Germany        2193\n2      France        1778\n3      Brazil        1683\n4          UK        1280",
      "text/html": "<div>\n<style scoped>\n    .dataframe tbody tr th:only-of-type {\n        vertical-align: middle;\n    }\n\n    .dataframe tbody tr th {\n        vertical-align: top;\n    }\n\n    .dataframe thead th {\n        text-align: right;\n    }\n</style>\n<table border=\"1\" class=\"dataframe\">\n  <thead>\n    <tr style=\"text-align: right;\">\n      <th></th>\n      <th>ShipCountry</th>\n      <th>OrderCount</th>\n    </tr>\n  </thead>\n  <tbody>\n    <tr>\n      <th>0</th>\n      <td>USA</td>\n      <td>2328</td>\n    </tr>\n    <tr>\n      <th>1</th>\n      <td>Germany</td>\n      <td>2193</td>\n    </tr>\n    <tr>\n      <th>2</th>\n      <td>France</td>\n      <td>1778</td>\n    </tr>\n    <tr>\n      <th>3</th>\n      <td>Brazil</td>\n      <td>1683</td>\n    </tr>\n    <tr>\n      <th>4</th>\n      <td>UK</td>\n      <td>1280</td>\n    </tr>\n  </tbody>\n</table>\n</div>"
     },
     "execution_count": 16,
     "metadata": {},
     "output_type": "execute_result"
    }
   ],
   "source": [
    "nct(name='Orders',\n",
    "    cols=['ShipCountry', 'count=*:OrderCount'],\n",
    "    group_by='ShipCountry',\n",
    "    order_by=('OrderCount', -1),\n",
    "    limit=-5)"
   ],
   "metadata": {
    "collapsed": false,
    "ExecuteTime": {
     "end_time": "2024-01-16T01:42:49.880749300Z",
     "start_time": "2024-01-16T01:42:49.865677700Z"
    }
   },
   "id": "d94321eedaf8d909",
   "execution_count": 16
  },
  {
   "cell_type": "code",
   "outputs": [
    {
     "name": "stdout",
     "output_type": "stream",
     "text": [
      "\n",
      "SELECT \n",
      "\tCustomers.CompanyName,\n",
      "\tCustomers.Phone,\n",
      "\tCustomers.Fax,\n",
      "\to.ShipRegion,\n",
      "\to.ShipCountry\n",
      "FROM Customers\n",
      "INNER JOIN Orders o\n",
      "ON Customers.CustomerID = o.CustomerID\n",
      "LIMIT 5\n"
     ]
    },
    {
     "data": {
      "text/plain": "                 CompanyName              Phone                Fax  \\\n0  Vins et alcools Chevalier        26.47.15.10        26.47.15.11   \n1         Toms Spezialitäten        0251-031259        0251-035695   \n2              Hanari Carnes      (21) 555-0091      (21) 555-8765   \n3       Victuailles en stock        78.32.54.86        78.32.54.87   \n4           Suprêmes délices  (071) 23 67 22 20  (071) 23 67 22 21   \n\n       ShipRegion ShipCountry  \n0  Western Europe      France  \n1  Western Europe     Germany  \n2   South America      Brazil  \n3  Western Europe      France  \n4  Western Europe     Belgium  ",
      "text/html": "<div>\n<style scoped>\n    .dataframe tbody tr th:only-of-type {\n        vertical-align: middle;\n    }\n\n    .dataframe tbody tr th {\n        vertical-align: top;\n    }\n\n    .dataframe thead th {\n        text-align: right;\n    }\n</style>\n<table border=\"1\" class=\"dataframe\">\n  <thead>\n    <tr style=\"text-align: right;\">\n      <th></th>\n      <th>CompanyName</th>\n      <th>Phone</th>\n      <th>Fax</th>\n      <th>ShipRegion</th>\n      <th>ShipCountry</th>\n    </tr>\n  </thead>\n  <tbody>\n    <tr>\n      <th>0</th>\n      <td>Vins et alcools Chevalier</td>\n      <td>26.47.15.10</td>\n      <td>26.47.15.11</td>\n      <td>Western Europe</td>\n      <td>France</td>\n    </tr>\n    <tr>\n      <th>1</th>\n      <td>Toms Spezialitäten</td>\n      <td>0251-031259</td>\n      <td>0251-035695</td>\n      <td>Western Europe</td>\n      <td>Germany</td>\n    </tr>\n    <tr>\n      <th>2</th>\n      <td>Hanari Carnes</td>\n      <td>(21) 555-0091</td>\n      <td>(21) 555-8765</td>\n      <td>South America</td>\n      <td>Brazil</td>\n    </tr>\n    <tr>\n      <th>3</th>\n      <td>Victuailles en stock</td>\n      <td>78.32.54.86</td>\n      <td>78.32.54.87</td>\n      <td>Western Europe</td>\n      <td>France</td>\n    </tr>\n    <tr>\n      <th>4</th>\n      <td>Suprêmes délices</td>\n      <td>(071) 23 67 22 20</td>\n      <td>(071) 23 67 22 21</td>\n      <td>Western Europe</td>\n      <td>Belgium</td>\n    </tr>\n  </tbody>\n</table>\n</div>"
     },
     "execution_count": 17,
     "metadata": {},
     "output_type": "execute_result"
    }
   ],
   "source": [
    "# simple join (between 2 tables)\n",
    "nc.join(table_left={NAME: 'Customers', COLS: ['CompanyName', 'Phone', 'Fax']},\n",
    "        table_right={NAME: 'Orders:o', COLS: ['ShipRegion', 'ShipCountry']},\n",
    "        shared_col='CustomerID',\n",
    "        join=INNER,\n",
    "        limit=5)"
   ],
   "metadata": {
    "collapsed": false,
    "ExecuteTime": {
     "end_time": "2024-01-16T01:42:49.907210800Z",
     "start_time": "2024-01-16T01:42:49.876748Z"
    }
   },
   "id": "bc24a436a30e20e",
   "execution_count": 17
  },
  {
   "cell_type": "code",
   "execution_count": 18,
   "outputs": [
    {
     "name": "stdout",
     "output_type": "stream",
     "text": [
      "\n",
      "SELECT \n",
      "\tC.CategoryName,\n",
      "\tS.CompanyName,\n",
      "\tSUM(P.UnitPrice * OD.Quantity) AS TotalSales\n",
      "FROM Categories C\n",
      "INNER JOIN Products P ON C.CategoryId = P.CategoryId\n",
      "INNER JOIN Suppliers S ON P.SupplierID = S.SupplierID\n",
      "INNER JOIN \"Order Details\" OD ON P.ProductID = OD.ProductID\n",
      "Group By C.CategoryName, S.CompanyName\n"
     ]
    },
    {
     "data": {
      "text/plain": "      CategoryName                             CompanyName   TotalSales\n0        Beverages              Aux joyeux ecclésiastiques  56924965.00\n1        Beverages                       Bigfoot Breweries   9315500.00\n2        Beverages                          Exotic Liquids   7468528.00\n3        Beverages                               Karkki Oy   3626604.00\n4        Beverages                            Leka Trading   9336528.00\n5        Beverages                           Pavlova, Ltd.   3066045.00\n6        Beverages       Plutzer Lebensmittelgroßmärkte AG   1557912.75\n7        Beverages               Refrescos Americanas LTDA    908815.50\n8       Condiments                          Exotic Liquids   2021860.00\n9       Condiments                        Forêts d'érables   5842642.50\n10      Condiments               Grandma Kelly's Homestead  13113635.00\n11      Condiments                            Leka Trading   3882920.20\n12      Condiments                                Mayumi's   3126303.50\n13      Condiments              New Orleans Cajun Delights  16386445.90\n14      Condiments                           Pavlova, Ltd.   8813539.60\n15      Condiments       Plutzer Lebensmittelgroßmärkte AG   2624076.00\n16     Confections                        Forêts d'érables   9959093.00\n17     Confections             Heli Süßwaren GmbH & Co. KG  18037652.13\n18     Confections                               Karkki Oy   7283187.50\n19     Confections                           Pavlova, Ltd.   3524603.35\n20     Confections                Specialty Biscuits, Ltd.  23104209.90\n21     Confections                     Zaanse Snoepfabriek   4452028.50\n22  Dairy Products      Cooperativa de Quesos 'Las Cabras'  11921967.00\n23  Dairy Products                 Formaggi Fortini s.r.l.  15954510.80\n24  Dairy Products                            Gai pâturage  18134771.00\n25  Dairy Products                         Norske Meierier  12041489.00\n26  Grains/Cereals                             G'day, Mate   1421637.00\n27  Grains/Cereals                            Leka Trading   2807280.00\n28  Grains/Cereals                        PB Knäckebröd AB   6024138.00\n29  Grains/Cereals                    Pasta Buttini s.r.l.  11635182.50\n30  Grains/Cereals       Plutzer Lebensmittelgroßmärkte AG   6691396.25\n31    Meat/Poultry                             G'day, Mate   6564788.80\n32    Meat/Poultry                               Ma Maison   6393689.60\n33    Meat/Poultry                           Pavlova, Ltd.   7889856.00\n34    Meat/Poultry       Plutzer Lebensmittelgroßmärkte AG  24635447.90\n35    Meat/Poultry                           Tokyo Traders  19425026.00\n36         Produce                             G'day, Mate  10669907.00\n37         Produce               Grandma Kelly's Homestead   6119100.00\n38         Produce                                Mayumi's   4646140.50\n39         Produce       Plutzer Lebensmittelgroßmärkte AG   9256252.80\n40         Produce                           Tokyo Traders   2021130.00\n41         Seafood                      Escargots Nouveaux   2619167.25\n42         Seafood                              Lyngbysild   4319703.50\n43         Seafood                                Mayumi's   1214994.00\n44         Seafood             New England Seafood Cannery   5615938.25\n45         Seafood  Nord-Ost-Fisch Handelsgesellschaft mbH   5263799.46\n46         Seafood                           Pavlova, Ltd.  12609187.50\n47         Seafood                       Svensk Sjöföda AB  12055754.00\n48         Seafood                           Tokyo Traders   6240858.00",
      "text/html": "<div>\n<style scoped>\n    .dataframe tbody tr th:only-of-type {\n        vertical-align: middle;\n    }\n\n    .dataframe tbody tr th {\n        vertical-align: top;\n    }\n\n    .dataframe thead th {\n        text-align: right;\n    }\n</style>\n<table border=\"1\" class=\"dataframe\">\n  <thead>\n    <tr style=\"text-align: right;\">\n      <th></th>\n      <th>CategoryName</th>\n      <th>CompanyName</th>\n      <th>TotalSales</th>\n    </tr>\n  </thead>\n  <tbody>\n    <tr>\n      <th>0</th>\n      <td>Beverages</td>\n      <td>Aux joyeux ecclésiastiques</td>\n      <td>56924965.00</td>\n    </tr>\n    <tr>\n      <th>1</th>\n      <td>Beverages</td>\n      <td>Bigfoot Breweries</td>\n      <td>9315500.00</td>\n    </tr>\n    <tr>\n      <th>2</th>\n      <td>Beverages</td>\n      <td>Exotic Liquids</td>\n      <td>7468528.00</td>\n    </tr>\n    <tr>\n      <th>3</th>\n      <td>Beverages</td>\n      <td>Karkki Oy</td>\n      <td>3626604.00</td>\n    </tr>\n    <tr>\n      <th>4</th>\n      <td>Beverages</td>\n      <td>Leka Trading</td>\n      <td>9336528.00</td>\n    </tr>\n    <tr>\n      <th>5</th>\n      <td>Beverages</td>\n      <td>Pavlova, Ltd.</td>\n      <td>3066045.00</td>\n    </tr>\n    <tr>\n      <th>6</th>\n      <td>Beverages</td>\n      <td>Plutzer Lebensmittelgroßmärkte AG</td>\n      <td>1557912.75</td>\n    </tr>\n    <tr>\n      <th>7</th>\n      <td>Beverages</td>\n      <td>Refrescos Americanas LTDA</td>\n      <td>908815.50</td>\n    </tr>\n    <tr>\n      <th>8</th>\n      <td>Condiments</td>\n      <td>Exotic Liquids</td>\n      <td>2021860.00</td>\n    </tr>\n    <tr>\n      <th>9</th>\n      <td>Condiments</td>\n      <td>Forêts d'érables</td>\n      <td>5842642.50</td>\n    </tr>\n    <tr>\n      <th>10</th>\n      <td>Condiments</td>\n      <td>Grandma Kelly's Homestead</td>\n      <td>13113635.00</td>\n    </tr>\n    <tr>\n      <th>11</th>\n      <td>Condiments</td>\n      <td>Leka Trading</td>\n      <td>3882920.20</td>\n    </tr>\n    <tr>\n      <th>12</th>\n      <td>Condiments</td>\n      <td>Mayumi's</td>\n      <td>3126303.50</td>\n    </tr>\n    <tr>\n      <th>13</th>\n      <td>Condiments</td>\n      <td>New Orleans Cajun Delights</td>\n      <td>16386445.90</td>\n    </tr>\n    <tr>\n      <th>14</th>\n      <td>Condiments</td>\n      <td>Pavlova, Ltd.</td>\n      <td>8813539.60</td>\n    </tr>\n    <tr>\n      <th>15</th>\n      <td>Condiments</td>\n      <td>Plutzer Lebensmittelgroßmärkte AG</td>\n      <td>2624076.00</td>\n    </tr>\n    <tr>\n      <th>16</th>\n      <td>Confections</td>\n      <td>Forêts d'érables</td>\n      <td>9959093.00</td>\n    </tr>\n    <tr>\n      <th>17</th>\n      <td>Confections</td>\n      <td>Heli Süßwaren GmbH &amp; Co. KG</td>\n      <td>18037652.13</td>\n    </tr>\n    <tr>\n      <th>18</th>\n      <td>Confections</td>\n      <td>Karkki Oy</td>\n      <td>7283187.50</td>\n    </tr>\n    <tr>\n      <th>19</th>\n      <td>Confections</td>\n      <td>Pavlova, Ltd.</td>\n      <td>3524603.35</td>\n    </tr>\n    <tr>\n      <th>20</th>\n      <td>Confections</td>\n      <td>Specialty Biscuits, Ltd.</td>\n      <td>23104209.90</td>\n    </tr>\n    <tr>\n      <th>21</th>\n      <td>Confections</td>\n      <td>Zaanse Snoepfabriek</td>\n      <td>4452028.50</td>\n    </tr>\n    <tr>\n      <th>22</th>\n      <td>Dairy Products</td>\n      <td>Cooperativa de Quesos 'Las Cabras'</td>\n      <td>11921967.00</td>\n    </tr>\n    <tr>\n      <th>23</th>\n      <td>Dairy Products</td>\n      <td>Formaggi Fortini s.r.l.</td>\n      <td>15954510.80</td>\n    </tr>\n    <tr>\n      <th>24</th>\n      <td>Dairy Products</td>\n      <td>Gai pâturage</td>\n      <td>18134771.00</td>\n    </tr>\n    <tr>\n      <th>25</th>\n      <td>Dairy Products</td>\n      <td>Norske Meierier</td>\n      <td>12041489.00</td>\n    </tr>\n    <tr>\n      <th>26</th>\n      <td>Grains/Cereals</td>\n      <td>G'day, Mate</td>\n      <td>1421637.00</td>\n    </tr>\n    <tr>\n      <th>27</th>\n      <td>Grains/Cereals</td>\n      <td>Leka Trading</td>\n      <td>2807280.00</td>\n    </tr>\n    <tr>\n      <th>28</th>\n      <td>Grains/Cereals</td>\n      <td>PB Knäckebröd AB</td>\n      <td>6024138.00</td>\n    </tr>\n    <tr>\n      <th>29</th>\n      <td>Grains/Cereals</td>\n      <td>Pasta Buttini s.r.l.</td>\n      <td>11635182.50</td>\n    </tr>\n    <tr>\n      <th>30</th>\n      <td>Grains/Cereals</td>\n      <td>Plutzer Lebensmittelgroßmärkte AG</td>\n      <td>6691396.25</td>\n    </tr>\n    <tr>\n      <th>31</th>\n      <td>Meat/Poultry</td>\n      <td>G'day, Mate</td>\n      <td>6564788.80</td>\n    </tr>\n    <tr>\n      <th>32</th>\n      <td>Meat/Poultry</td>\n      <td>Ma Maison</td>\n      <td>6393689.60</td>\n    </tr>\n    <tr>\n      <th>33</th>\n      <td>Meat/Poultry</td>\n      <td>Pavlova, Ltd.</td>\n      <td>7889856.00</td>\n    </tr>\n    <tr>\n      <th>34</th>\n      <td>Meat/Poultry</td>\n      <td>Plutzer Lebensmittelgroßmärkte AG</td>\n      <td>24635447.90</td>\n    </tr>\n    <tr>\n      <th>35</th>\n      <td>Meat/Poultry</td>\n      <td>Tokyo Traders</td>\n      <td>19425026.00</td>\n    </tr>\n    <tr>\n      <th>36</th>\n      <td>Produce</td>\n      <td>G'day, Mate</td>\n      <td>10669907.00</td>\n    </tr>\n    <tr>\n      <th>37</th>\n      <td>Produce</td>\n      <td>Grandma Kelly's Homestead</td>\n      <td>6119100.00</td>\n    </tr>\n    <tr>\n      <th>38</th>\n      <td>Produce</td>\n      <td>Mayumi's</td>\n      <td>4646140.50</td>\n    </tr>\n    <tr>\n      <th>39</th>\n      <td>Produce</td>\n      <td>Plutzer Lebensmittelgroßmärkte AG</td>\n      <td>9256252.80</td>\n    </tr>\n    <tr>\n      <th>40</th>\n      <td>Produce</td>\n      <td>Tokyo Traders</td>\n      <td>2021130.00</td>\n    </tr>\n    <tr>\n      <th>41</th>\n      <td>Seafood</td>\n      <td>Escargots Nouveaux</td>\n      <td>2619167.25</td>\n    </tr>\n    <tr>\n      <th>42</th>\n      <td>Seafood</td>\n      <td>Lyngbysild</td>\n      <td>4319703.50</td>\n    </tr>\n    <tr>\n      <th>43</th>\n      <td>Seafood</td>\n      <td>Mayumi's</td>\n      <td>1214994.00</td>\n    </tr>\n    <tr>\n      <th>44</th>\n      <td>Seafood</td>\n      <td>New England Seafood Cannery</td>\n      <td>5615938.25</td>\n    </tr>\n    <tr>\n      <th>45</th>\n      <td>Seafood</td>\n      <td>Nord-Ost-Fisch Handelsgesellschaft mbH</td>\n      <td>5263799.46</td>\n    </tr>\n    <tr>\n      <th>46</th>\n      <td>Seafood</td>\n      <td>Pavlova, Ltd.</td>\n      <td>12609187.50</td>\n    </tr>\n    <tr>\n      <th>47</th>\n      <td>Seafood</td>\n      <td>Svensk Sjöföda AB</td>\n      <td>12055754.00</td>\n    </tr>\n    <tr>\n      <th>48</th>\n      <td>Seafood</td>\n      <td>Tokyo Traders</td>\n      <td>6240858.00</td>\n    </tr>\n  </tbody>\n</table>\n</div>"
     },
     "execution_count": 18,
     "metadata": {},
     "output_type": "execute_result"
    }
   ],
   "source": [
    " # find the total sales amount for each category and supplier\n",
    "nc.multi_join(\n",
    "    tables=[{NAME: 'Categories:C', COLS: ['CategoryName']},\n",
    "            {NAME: 'Products:P', SHARED: 'Categories.CategoryId = Products.CategoryId', JOIN: INNER},\n",
    "            {NAME: 'Suppliers:S', SHARED: 'Products.SupplierID = Suppliers.SupplierID', COLS: ['CompanyName'],\n",
    "             JOIN: INNER},\n",
    "            {NAME: 'Order Details:OD', SHARED: 'Products.ProductID = Order Details.ProductID', COLS: [],\n",
    "             JOIN: INNER}],\n",
    "\n",
    "    col_agg={AGG_FUNC: 'sum:TotalSales',\n",
    "             COLS: ['Products.UnitPrice', 'Order Details.Quantity'],\n",
    "             COLS_OP: '*'},\n",
    "\n",
    "    group_by=['Categories.CategoryName', 'Suppliers.CompanyName']\n",
    ")"
   ],
   "metadata": {
    "collapsed": false,
    "ExecuteTime": {
     "end_time": "2024-01-16T01:42:50.515131600Z",
     "start_time": "2024-01-16T01:42:49.884207200Z"
    }
   },
   "id": "4059fea9c215e2d"
  },
  {
   "cell_type": "code",
   "outputs": [
    {
     "name": "stdout",
     "output_type": "stream",
     "text": [
      "\n",
      "SELECT \n",
      "\tEmployees.LastName,\n",
      "\tAVG(\"Order Details\".UnitPrice * \"Order Details\".Quantity) AS AvgOrderAmount\n",
      "FROM Employees\n",
      "LEFT JOIN Orders ON Employees.EmployeeID = Orders.EmployeeID\n",
      "LEFT JOIN \"Order Details\" ON Orders.OrderID = \"Order Details\".OrderID\n",
      "Group By Employees.LastName\n",
      "ORDER BY AvgOrderAmount DESC\n",
      "\n"
     ]
    },
    {
     "data": {
      "text/plain": "    LastName  AvgOrderAmount\n0     Suyama      742.472451\n1  Leverling      739.322630\n2  Dodsworth      738.756131\n3       King      737.349907\n4    Peacock      737.154067\n5   Buchanan      735.576152\n6    Davolio      734.548860\n7   Callahan      731.258818\n8     Fuller      728.174674",
      "text/html": "<div>\n<style scoped>\n    .dataframe tbody tr th:only-of-type {\n        vertical-align: middle;\n    }\n\n    .dataframe tbody tr th {\n        vertical-align: top;\n    }\n\n    .dataframe thead th {\n        text-align: right;\n    }\n</style>\n<table border=\"1\" class=\"dataframe\">\n  <thead>\n    <tr style=\"text-align: right;\">\n      <th></th>\n      <th>LastName</th>\n      <th>AvgOrderAmount</th>\n    </tr>\n  </thead>\n  <tbody>\n    <tr>\n      <th>0</th>\n      <td>Suyama</td>\n      <td>742.472451</td>\n    </tr>\n    <tr>\n      <th>1</th>\n      <td>Leverling</td>\n      <td>739.322630</td>\n    </tr>\n    <tr>\n      <th>2</th>\n      <td>Dodsworth</td>\n      <td>738.756131</td>\n    </tr>\n    <tr>\n      <th>3</th>\n      <td>King</td>\n      <td>737.349907</td>\n    </tr>\n    <tr>\n      <th>4</th>\n      <td>Peacock</td>\n      <td>737.154067</td>\n    </tr>\n    <tr>\n      <th>5</th>\n      <td>Buchanan</td>\n      <td>735.576152</td>\n    </tr>\n    <tr>\n      <th>6</th>\n      <td>Davolio</td>\n      <td>734.548860</td>\n    </tr>\n    <tr>\n      <th>7</th>\n      <td>Callahan</td>\n      <td>731.258818</td>\n    </tr>\n    <tr>\n      <th>8</th>\n      <td>Fuller</td>\n      <td>728.174674</td>\n    </tr>\n  </tbody>\n</table>\n</div>"
     },
     "execution_count": 19,
     "metadata": {},
     "output_type": "execute_result"
    }
   ],
   "source": [
    "# Average Order Amount by Employee\n",
    "nc.multi_join(\n",
    "    tables=[{NAME: 'Employees', COLS: ['LastName']},\n",
    "            {NAME: 'Orders', COLS: [], SHARED: 'Employees.EmployeeID = Orders.EmployeeID', JOIN: LEFT},\n",
    "            {NAME: 'Order Details', COLS: [], SHARED: 'Orders.OrderID = Order Details.OrderID', JOIN: LEFT}],\n",
    "    col_agg={AGG_FUNC: 'avg:AvgOrderAmount',\n",
    "             COLS: ['Order Details.UnitPrice', 'Order Details.Quantity'],\n",
    "             COLS_OP: '*'},\n",
    "    group_by=['Employees.LastName'],\n",
    "    order_by=('AvgOrderAmount', -1)\n",
    ")"
   ],
   "metadata": {
    "collapsed": false,
    "ExecuteTime": {
     "end_time": "2024-01-16T01:42:50.844029200Z",
     "start_time": "2024-01-16T01:42:50.513037Z"
    }
   },
   "id": "18a944a646356c32",
   "execution_count": 19
  }
 ],
 "metadata": {
  "kernelspec": {
   "display_name": "Python 3",
   "language": "python",
   "name": "python3"
  },
  "language_info": {
   "codemirror_mode": {
    "name": "ipython",
    "version": 2
   },
   "file_extension": ".py",
   "mimetype": "text/x-python",
   "name": "python",
   "nbconvert_exporter": "python",
   "pygments_lexer": "ipython2",
   "version": "2.7.6"
  }
 },
 "nbformat": 4,
 "nbformat_minor": 5
}
