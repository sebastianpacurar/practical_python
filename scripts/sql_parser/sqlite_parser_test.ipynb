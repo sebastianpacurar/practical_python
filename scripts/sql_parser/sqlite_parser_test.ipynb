{
 "cells": [
  {
   "cell_type": "code",
   "execution_count": 22,
   "id": "initial_id",
   "metadata": {
    "collapsed": true,
    "ExecuteTime": {
     "end_time": "2024-01-12T00:38:09.027255700Z",
     "start_time": "2024-01-12T00:38:09.015928Z"
    }
   },
   "outputs": [],
   "source": [
    "import scripts.sql_parser.sqlite_parser as sql\n",
    "from scripts.sql_parser.constants import *\n",
    "from scripts.sql_parser.table_operations import get_table\n",
    "\n",
    "NC_PATH = '../../data_sets/db/northwind.db'\n",
    "SC_PATH = '../../data_sets/db/sakila.db'\n",
    "CC_PATH = '../../data_sets/db/covid19.db'\n",
    "\n",
    "# instantiate parser objects based on the db path\n",
    "nc, sc, cc = sql.SqlParser(NC_PATH), sql.SqlParser(SC_PATH), sql.SqlParser(CC_PATH)\n",
    "\n",
    "# create a table reference for each db for faster querying\n",
    "nct, sct, cct = nc.table, sc.table, cc.table"
   ]
  },
  {
   "cell_type": "code",
   "execution_count": 23,
   "outputs": [
    {
     "data": {
      "text/plain": "                    name\n0             Categories\n1        sqlite_sequence\n2   CustomerCustomerDemo\n3   CustomerDemographics\n4              Customers\n5              Employees\n6    EmployeeTerritories\n7          Order Details\n8                 Orders\n9               Products\n10               Regions\n11              Shippers\n12             Suppliers\n13           Territories",
      "text/html": "<div>\n<style scoped>\n    .dataframe tbody tr th:only-of-type {\n        vertical-align: middle;\n    }\n\n    .dataframe tbody tr th {\n        vertical-align: top;\n    }\n\n    .dataframe thead th {\n        text-align: right;\n    }\n</style>\n<table border=\"1\" class=\"dataframe\">\n  <thead>\n    <tr style=\"text-align: right;\">\n      <th></th>\n      <th>name</th>\n    </tr>\n  </thead>\n  <tbody>\n    <tr>\n      <th>0</th>\n      <td>Categories</td>\n    </tr>\n    <tr>\n      <th>1</th>\n      <td>sqlite_sequence</td>\n    </tr>\n    <tr>\n      <th>2</th>\n      <td>CustomerCustomerDemo</td>\n    </tr>\n    <tr>\n      <th>3</th>\n      <td>CustomerDemographics</td>\n    </tr>\n    <tr>\n      <th>4</th>\n      <td>Customers</td>\n    </tr>\n    <tr>\n      <th>5</th>\n      <td>Employees</td>\n    </tr>\n    <tr>\n      <th>6</th>\n      <td>EmployeeTerritories</td>\n    </tr>\n    <tr>\n      <th>7</th>\n      <td>Order Details</td>\n    </tr>\n    <tr>\n      <th>8</th>\n      <td>Orders</td>\n    </tr>\n    <tr>\n      <th>9</th>\n      <td>Products</td>\n    </tr>\n    <tr>\n      <th>10</th>\n      <td>Regions</td>\n    </tr>\n    <tr>\n      <th>11</th>\n      <td>Shippers</td>\n    </tr>\n    <tr>\n      <th>12</th>\n      <td>Suppliers</td>\n    </tr>\n    <tr>\n      <th>13</th>\n      <td>Territories</td>\n    </tr>\n  </tbody>\n</table>\n</div>"
     },
     "execution_count": 23,
     "metadata": {},
     "output_type": "execute_result"
    }
   ],
   "source": [
    "# Get all Northwind tables\n",
    "nc.q(sql.ALL_TABLES)"
   ],
   "metadata": {
    "collapsed": false,
    "ExecuteTime": {
     "end_time": "2024-01-12T00:38:09.036066800Z",
     "start_time": "2024-01-12T00:38:09.022257300Z"
    }
   },
   "id": "1c9f57717c4f6bdd"
  },
  {
   "cell_type": "code",
   "execution_count": 24,
   "outputs": [
    {
     "name": "stdout",
     "output_type": "stream",
     "text": [
      "\n",
      "SELECT AVG(UnitPrice) AS \"UP Avg\",\n",
      "\tMAX(UnitPrice) AS \"UP Max\",\n",
      "\tMIN(UnitPrice) AS \"UP Min\",\n",
      "\tCOUNT(UnitPrice) AS \"UP Count\"\n",
      "FROM \"Order Details\" \n"
     ]
    },
    {
     "data": {
      "text/plain": "      UP Avg  UP Max  UP Min  UP Count\n0  28.850379   263.5       2    609283",
      "text/html": "<div>\n<style scoped>\n    .dataframe tbody tr th:only-of-type {\n        vertical-align: middle;\n    }\n\n    .dataframe tbody tr th {\n        vertical-align: top;\n    }\n\n    .dataframe thead th {\n        text-align: right;\n    }\n</style>\n<table border=\"1\" class=\"dataframe\">\n  <thead>\n    <tr style=\"text-align: right;\">\n      <th></th>\n      <th>UP Avg</th>\n      <th>UP Max</th>\n      <th>UP Min</th>\n      <th>UP Count</th>\n    </tr>\n  </thead>\n  <tbody>\n    <tr>\n      <th>0</th>\n      <td>28.850379</td>\n      <td>263.5</td>\n      <td>2</td>\n      <td>609283</td>\n    </tr>\n  </tbody>\n</table>\n</div>"
     },
     "execution_count": 24,
     "metadata": {},
     "output_type": "execute_result"
    }
   ],
   "source": [
    "# handle Aggregation functions\n",
    "\n",
    "nct(name='Order Details',\n",
    "    cols=['avg=UnitPrice:UP Avg',\n",
    "          'max=UnitPrice:UP Max',\n",
    "          'min=UnitPrice:UP Min',\n",
    "          'count=UnitPrice:UP Count'])"
   ],
   "metadata": {
    "collapsed": false,
    "ExecuteTime": {
     "end_time": "2024-01-12T00:38:09.088047200Z",
     "start_time": "2024-01-12T00:38:09.031661600Z"
    }
   },
   "id": "dd7aa3ea4b38b923"
  },
  {
   "cell_type": "code",
   "outputs": [],
   "source": [
    "# simple join (between 2 tables)\n"
   ],
   "metadata": {
    "collapsed": false
   },
   "id": "bc24a436a30e20e"
  },
  {
   "cell_type": "code",
   "execution_count": 25,
   "outputs": [
    {
     "name": "stdout",
     "output_type": "stream",
     "text": [
      "\n",
      "SELECT DISTINCT \n",
      "\tC.CompanyName,\n",
      "\tC.Phone,\n",
      "\tO.ShipCountry,\n",
      "\tOD.ProductId,\n",
      "\tOD.Quantity,\n",
      "\tOD.UnitPrice\n",
      "FROM Customers C\n",
      "INNER JOIN Orders O ON C.CustomerID = O.CustomerID\n",
      "LEFT JOIN \"Order Details\" OD ON O.OrderId = OD.OrderId\n",
      "WHERE Phone LIKE '3%'\n",
      "ORDER BY ShipRegion ASC\n",
      "LIMIT 5\n"
     ]
    },
    {
     "data": {
      "text/plain": "     CompanyName        Phone ShipCountry  ProductID  Quantity  UnitPrice\n0  Simons bistro  31 12 34 56          UK          3        10      10.00\n1  Simons bistro  31 12 34 56          UK          5        35      21.35\n2  Simons bistro  31 12 34 56          UK          6         8      25.00\n3  Simons bistro  31 12 34 56          UK          8        20      40.00\n4  Simons bistro  31 12 34 56          UK          9        20      97.00",
      "text/html": "<div>\n<style scoped>\n    .dataframe tbody tr th:only-of-type {\n        vertical-align: middle;\n    }\n\n    .dataframe tbody tr th {\n        vertical-align: top;\n    }\n\n    .dataframe thead th {\n        text-align: right;\n    }\n</style>\n<table border=\"1\" class=\"dataframe\">\n  <thead>\n    <tr style=\"text-align: right;\">\n      <th></th>\n      <th>CompanyName</th>\n      <th>Phone</th>\n      <th>ShipCountry</th>\n      <th>ProductID</th>\n      <th>Quantity</th>\n      <th>UnitPrice</th>\n    </tr>\n  </thead>\n  <tbody>\n    <tr>\n      <th>0</th>\n      <td>Simons bistro</td>\n      <td>31 12 34 56</td>\n      <td>UK</td>\n      <td>3</td>\n      <td>10</td>\n      <td>10.00</td>\n    </tr>\n    <tr>\n      <th>1</th>\n      <td>Simons bistro</td>\n      <td>31 12 34 56</td>\n      <td>UK</td>\n      <td>5</td>\n      <td>35</td>\n      <td>21.35</td>\n    </tr>\n    <tr>\n      <th>2</th>\n      <td>Simons bistro</td>\n      <td>31 12 34 56</td>\n      <td>UK</td>\n      <td>6</td>\n      <td>8</td>\n      <td>25.00</td>\n    </tr>\n    <tr>\n      <th>3</th>\n      <td>Simons bistro</td>\n      <td>31 12 34 56</td>\n      <td>UK</td>\n      <td>8</td>\n      <td>20</td>\n      <td>40.00</td>\n    </tr>\n    <tr>\n      <th>4</th>\n      <td>Simons bistro</td>\n      <td>31 12 34 56</td>\n      <td>UK</td>\n      <td>9</td>\n      <td>20</td>\n      <td>97.00</td>\n    </tr>\n  </tbody>\n</table>\n</div>"
     },
     "execution_count": 25,
     "metadata": {},
     "output_type": "execute_result"
    }
   ],
   "source": [
    "# multi join (between more than 2 tables, based on different join types)\n",
    "\n",
    "customers_table = get_table(name='Customers:C',\n",
    "                            shared='CustomerID',\n",
    "                            cols=['CompanyName', 'Phone'])\n",
    "orders_table = get_table(name='Orders:O',\n",
    "                         shared='CustomerID',\n",
    "                         cols=['ShipCountry'],\n",
    "                         join=INNER)\n",
    "order_details_table = get_table(name='Order Details:OD',\n",
    "                                shared='OrderId',\n",
    "                                cols=['ProductId', 'Quantity', 'UnitPrice'],\n",
    "                                join=LEFT)\n",
    "\n",
    "nc.multi_join(tables=([customers_table, orders_table, order_details_table]),\n",
    "              starts_with=('Phone', '3'),\n",
    "              order_by=('ShipRegion', 1),\n",
    "              limit=5,\n",
    "              distinct=True)"
   ],
   "metadata": {
    "collapsed": false,
    "ExecuteTime": {
     "end_time": "2024-01-12T00:38:09.125450Z",
     "start_time": "2024-01-12T00:38:09.088047200Z"
    }
   },
   "id": "3e7d9fd552269b8a"
  },
  {
   "cell_type": "code",
   "outputs": [
    {
     "name": "stdout",
     "output_type": "stream",
     "text": [
      "\n",
      "SELECT DISTINCT \n",
      "\tC.CompanyName,\n",
      "\tC.Phone,\n",
      "\tO.ShipCountry,\n",
      "\tOD.ProductId,\n",
      "\tOD.Quantity,\n",
      "\tOD.UnitPrice\n",
      "FROM Customers C\n",
      "INNER JOIN Orders O ON C.CustomerID = O.CustomerID\n",
      "LEFT JOIN \"Order Details\" OD ON O.OrderId = OD.OrderId\n",
      "WHERE Phone LIKE '3%'\n",
      "ORDER BY ShipRegion ASC\n",
      "LIMIT 5\n"
     ]
    },
    {
     "data": {
      "text/plain": "     CompanyName        Phone ShipCountry  ProductID  Quantity  UnitPrice\n0  Simons bistro  31 12 34 56          UK          3        10      10.00\n1  Simons bistro  31 12 34 56          UK          5        35      21.35\n2  Simons bistro  31 12 34 56          UK          6         8      25.00\n3  Simons bistro  31 12 34 56          UK          8        20      40.00\n4  Simons bistro  31 12 34 56          UK          9        20      97.00",
      "text/html": "<div>\n<style scoped>\n    .dataframe tbody tr th:only-of-type {\n        vertical-align: middle;\n    }\n\n    .dataframe tbody tr th {\n        vertical-align: top;\n    }\n\n    .dataframe thead th {\n        text-align: right;\n    }\n</style>\n<table border=\"1\" class=\"dataframe\">\n  <thead>\n    <tr style=\"text-align: right;\">\n      <th></th>\n      <th>CompanyName</th>\n      <th>Phone</th>\n      <th>ShipCountry</th>\n      <th>ProductID</th>\n      <th>Quantity</th>\n      <th>UnitPrice</th>\n    </tr>\n  </thead>\n  <tbody>\n    <tr>\n      <th>0</th>\n      <td>Simons bistro</td>\n      <td>31 12 34 56</td>\n      <td>UK</td>\n      <td>3</td>\n      <td>10</td>\n      <td>10.00</td>\n    </tr>\n    <tr>\n      <th>1</th>\n      <td>Simons bistro</td>\n      <td>31 12 34 56</td>\n      <td>UK</td>\n      <td>5</td>\n      <td>35</td>\n      <td>21.35</td>\n    </tr>\n    <tr>\n      <th>2</th>\n      <td>Simons bistro</td>\n      <td>31 12 34 56</td>\n      <td>UK</td>\n      <td>6</td>\n      <td>8</td>\n      <td>25.00</td>\n    </tr>\n    <tr>\n      <th>3</th>\n      <td>Simons bistro</td>\n      <td>31 12 34 56</td>\n      <td>UK</td>\n      <td>8</td>\n      <td>20</td>\n      <td>40.00</td>\n    </tr>\n    <tr>\n      <th>4</th>\n      <td>Simons bistro</td>\n      <td>31 12 34 56</td>\n      <td>UK</td>\n      <td>9</td>\n      <td>20</td>\n      <td>97.00</td>\n    </tr>\n  </tbody>\n</table>\n</div>"
     },
     "execution_count": 26,
     "metadata": {},
     "output_type": "execute_result"
    }
   ],
   "source": [
    "# the same multi join as above, but by using direct dictionaries, without calling get_table()\n",
    "\n",
    "nc.multi_join(tables=([\n",
    "    {NAME: 'Customers:C', SHARED: 'CustomerID', COLS: ['CompanyName', 'Phone']},\n",
    "    {NAME: 'Orders:O', SHARED: 'CustomerID', COLS: ['ShipCountry'], JOIN: INNER},\n",
    "    {NAME: 'Order Details:OD', SHARED: 'OrderId', COLS: ['ProductId', 'Quantity', 'UnitPrice'], JOIN: LEFT}]),\n",
    "    starts_with=('Phone', '3'),\n",
    "    order_by=('ShipRegion', 1),\n",
    "    limit=5,\n",
    "    distinct=True)"
   ],
   "metadata": {
    "collapsed": false,
    "ExecuteTime": {
     "end_time": "2024-01-12T00:38:09.188560600Z",
     "start_time": "2024-01-12T00:38:09.119451100Z"
    }
   },
   "id": "d1446da18e6c7a31",
   "execution_count": 26
  },
  {
   "cell_type": "code",
   "execution_count": 27,
   "outputs": [
    {
     "data": {
      "text/plain": "               name\n0  android_metadata\n1         csvImport\n2           Country\n3             !Info\n4             Cases\n5     CasesPrevious\n6   CountryPrevious\n7             India\n8    csvImportIndia\n9        IndiaCases",
      "text/html": "<div>\n<style scoped>\n    .dataframe tbody tr th:only-of-type {\n        vertical-align: middle;\n    }\n\n    .dataframe tbody tr th {\n        vertical-align: top;\n    }\n\n    .dataframe thead th {\n        text-align: right;\n    }\n</style>\n<table border=\"1\" class=\"dataframe\">\n  <thead>\n    <tr style=\"text-align: right;\">\n      <th></th>\n      <th>name</th>\n    </tr>\n  </thead>\n  <tbody>\n    <tr>\n      <th>0</th>\n      <td>android_metadata</td>\n    </tr>\n    <tr>\n      <th>1</th>\n      <td>csvImport</td>\n    </tr>\n    <tr>\n      <th>2</th>\n      <td>Country</td>\n    </tr>\n    <tr>\n      <th>3</th>\n      <td>!Info</td>\n    </tr>\n    <tr>\n      <th>4</th>\n      <td>Cases</td>\n    </tr>\n    <tr>\n      <th>5</th>\n      <td>CasesPrevious</td>\n    </tr>\n    <tr>\n      <th>6</th>\n      <td>CountryPrevious</td>\n    </tr>\n    <tr>\n      <th>7</th>\n      <td>India</td>\n    </tr>\n    <tr>\n      <th>8</th>\n      <td>csvImportIndia</td>\n    </tr>\n    <tr>\n      <th>9</th>\n      <td>IndiaCases</td>\n    </tr>\n  </tbody>\n</table>\n</div>"
     },
     "execution_count": 27,
     "metadata": {},
     "output_type": "execute_result"
    }
   ],
   "source": [
    "# Get all covid19 tables\n",
    "\n",
    "cc.q(sql.ALL_TABLES)"
   ],
   "metadata": {
    "collapsed": false,
    "ExecuteTime": {
     "end_time": "2024-01-12T00:38:09.188560600Z",
     "start_time": "2024-01-12T00:38:09.151304600Z"
    }
   },
   "id": "4059fea9c215e2d"
  },
  {
   "cell_type": "code",
   "outputs": [
    {
     "name": "stdout",
     "output_type": "stream",
     "text": [
      "\n",
      "SELECT Confirmed,\n",
      "\tDate\n",
      "FROM IndiaCases \n",
      "ORDER BY confirmed DESC\n",
      "LIMIT 5\n"
     ]
    },
    {
     "data": {
      "text/plain": "   Confirmed        Date\n0      94041  2020-06-11\n1      90787  2020-06-10\n2      88528  2020-06-09\n3      85975  2020-06-08\n4      82968  2020-06-07",
      "text/html": "<div>\n<style scoped>\n    .dataframe tbody tr th:only-of-type {\n        vertical-align: middle;\n    }\n\n    .dataframe tbody tr th {\n        vertical-align: top;\n    }\n\n    .dataframe thead th {\n        text-align: right;\n    }\n</style>\n<table border=\"1\" class=\"dataframe\">\n  <thead>\n    <tr style=\"text-align: right;\">\n      <th></th>\n      <th>Confirmed</th>\n      <th>Date</th>\n    </tr>\n  </thead>\n  <tbody>\n    <tr>\n      <th>0</th>\n      <td>94041</td>\n      <td>2020-06-11</td>\n    </tr>\n    <tr>\n      <th>1</th>\n      <td>90787</td>\n      <td>2020-06-10</td>\n    </tr>\n    <tr>\n      <th>2</th>\n      <td>88528</td>\n      <td>2020-06-09</td>\n    </tr>\n    <tr>\n      <th>3</th>\n      <td>85975</td>\n      <td>2020-06-08</td>\n    </tr>\n    <tr>\n      <th>4</th>\n      <td>82968</td>\n      <td>2020-06-07</td>\n    </tr>\n  </tbody>\n</table>\n</div>"
     },
     "execution_count": 28,
     "metadata": {},
     "output_type": "execute_result"
    }
   ],
   "source": [
    "cct(name='IndiaCases',\n",
    "    cols=['Confirmed', 'Date'],\n",
    "    order_by=['confirmed', -1],\n",
    "    limit=5)"
   ],
   "metadata": {
    "collapsed": false,
    "ExecuteTime": {
     "end_time": "2024-01-12T00:38:09.189561Z",
     "start_time": "2024-01-12T00:38:09.161812900Z"
    }
   },
   "id": "18a944a646356c32",
   "execution_count": 28
  }
 ],
 "metadata": {
  "kernelspec": {
   "display_name": "Python 3",
   "language": "python",
   "name": "python3"
  },
  "language_info": {
   "codemirror_mode": {
    "name": "ipython",
    "version": 2
   },
   "file_extension": ".py",
   "mimetype": "text/x-python",
   "name": "python",
   "nbconvert_exporter": "python",
   "pygments_lexer": "ipython2",
   "version": "2.7.6"
  }
 },
 "nbformat": 4,
 "nbformat_minor": 5
}
