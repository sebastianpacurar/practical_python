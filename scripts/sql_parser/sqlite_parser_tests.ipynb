{
 "cells": [
  {
   "cell_type": "markdown",
   "metadata": {
    "id": "IfH7SAicF7S5"
   },
   "source": [
    "## Imports and Parser Instantiation"
   ]
  },
  {
   "cell_type": "code",
   "execution_count": 1,
   "metadata": {
    "colab": {
     "base_uri": "https://localhost:8080/"
    },
    "executionInfo": {
     "elapsed": 367,
     "status": "ok",
     "timestamp": 1704592521161,
     "user": {
      "displayName": "Pacurar Sebastian",
      "userId": "15686393619609976384"
     },
     "user_tz": -120
    },
    "id": "E7UHSz0DF-Zp",
    "outputId": "2e245902-e4cd-4a0d-9f60-99ce466b17d2",
    "ExecuteTime": {
     "end_time": "2024-01-08T00:11:16.041837800Z",
     "start_time": "2024-01-08T00:11:15.516696300Z"
    }
   },
   "outputs": [],
   "source": [
    "import scripts.sql_parser.sqlite_parser as sql\n",
    "\n",
    "NC_PATH = '../../data_sets/db/northwind.db'\n",
    "SC_PATH = '../../data_sets/db/sakila.db'\n",
    "CC_PATH = '../../data_sets/db/covid19.db'\n",
    "\n",
    "# instantiate parser objects based on the db path\n",
    "nc, sc, cc = sql.SqlParser(NC_PATH), sql.SqlParser(SC_PATH), sql.SqlParser(CC_PATH)\n",
    "\n",
    "# create a table reference for each db for faster querying\n",
    "nct, sct, cct = nc.table, sc.table, cc.table"
   ]
  },
  {
   "cell_type": "markdown",
   "metadata": {
    "id": "SVjq_JqrVn5Y"
   },
   "source": [
    "### North Wind Tests"
   ]
  },
  {
   "cell_type": "code",
   "execution_count": 2,
   "metadata": {
    "colab": {
     "base_uri": "https://localhost:8080/",
     "height": 505
    },
    "executionInfo": {
     "elapsed": 20,
     "status": "ok",
     "timestamp": 1704592522126,
     "user": {
      "displayName": "Pacurar Sebastian",
      "userId": "15686393619609976384"
     },
     "user_tz": -120
    },
    "id": "-PEDDWdKUxeE",
    "outputId": "9579d2e0-b6b4-49b2-bc59-e97e2c91f15a",
    "ExecuteTime": {
     "end_time": "2024-01-08T00:11:16.050390700Z",
     "start_time": "2024-01-08T00:11:16.043309800Z"
    }
   },
   "outputs": [
    {
     "data": {
      "text/plain": "                    name\n0             Categories\n1        sqlite_sequence\n2   CustomerCustomerDemo\n3   CustomerDemographics\n4              Customers\n5              Employees\n6    EmployeeTerritories\n7          Order Details\n8                 Orders\n9               Products\n10               Regions\n11              Shippers\n12             Suppliers\n13           Territories",
      "text/html": "<div>\n<style scoped>\n    .dataframe tbody tr th:only-of-type {\n        vertical-align: middle;\n    }\n\n    .dataframe tbody tr th {\n        vertical-align: top;\n    }\n\n    .dataframe thead th {\n        text-align: right;\n    }\n</style>\n<table border=\"1\" class=\"dataframe\">\n  <thead>\n    <tr style=\"text-align: right;\">\n      <th></th>\n      <th>name</th>\n    </tr>\n  </thead>\n  <tbody>\n    <tr>\n      <th>0</th>\n      <td>Categories</td>\n    </tr>\n    <tr>\n      <th>1</th>\n      <td>sqlite_sequence</td>\n    </tr>\n    <tr>\n      <th>2</th>\n      <td>CustomerCustomerDemo</td>\n    </tr>\n    <tr>\n      <th>3</th>\n      <td>CustomerDemographics</td>\n    </tr>\n    <tr>\n      <th>4</th>\n      <td>Customers</td>\n    </tr>\n    <tr>\n      <th>5</th>\n      <td>Employees</td>\n    </tr>\n    <tr>\n      <th>6</th>\n      <td>EmployeeTerritories</td>\n    </tr>\n    <tr>\n      <th>7</th>\n      <td>Order Details</td>\n    </tr>\n    <tr>\n      <th>8</th>\n      <td>Orders</td>\n    </tr>\n    <tr>\n      <th>9</th>\n      <td>Products</td>\n    </tr>\n    <tr>\n      <th>10</th>\n      <td>Regions</td>\n    </tr>\n    <tr>\n      <th>11</th>\n      <td>Shippers</td>\n    </tr>\n    <tr>\n      <th>12</th>\n      <td>Suppliers</td>\n    </tr>\n    <tr>\n      <th>13</th>\n      <td>Territories</td>\n    </tr>\n  </tbody>\n</table>\n</div>"
     },
     "execution_count": 2,
     "metadata": {},
     "output_type": "execute_result"
    }
   ],
   "source": [
    "nc.q(query=sql.ALL_TABLES)"
   ]
  },
  {
   "cell_type": "code",
   "execution_count": 3,
   "metadata": {
    "colab": {
     "base_uri": "https://localhost:8080/",
     "height": 265
    },
    "executionInfo": {
     "elapsed": 17,
     "status": "ok",
     "timestamp": 1704592522126,
     "user": {
      "displayName": "Pacurar Sebastian",
      "userId": "15686393619609976384"
     },
     "user_tz": -120
    },
    "id": "XJHY2lehFrhg",
    "outputId": "a54a90ff-24f1-445b-f1f4-aff85ac2b831",
    "ExecuteTime": {
     "end_time": "2024-01-08T00:11:16.084642900Z",
     "start_time": "2024-01-08T00:11:16.051465900Z"
    }
   },
   "outputs": [
    {
     "name": "stdout",
     "output_type": "stream",
     "text": [
      "\n",
      "SELECT *\n",
      "FROM Country \n",
      "ORDER BY 1 DESC\n",
      "LIMIT 3\n"
     ]
    },
    {
     "data": {
      "text/plain": "   country_id     country          last_update\n0         109      Zambia  2021-03-06 15:51:49\n1         108  Yugoslavia  2021-03-06 15:51:49\n2         107       Yemen  2021-03-06 15:51:49",
      "text/html": "<div>\n<style scoped>\n    .dataframe tbody tr th:only-of-type {\n        vertical-align: middle;\n    }\n\n    .dataframe tbody tr th {\n        vertical-align: top;\n    }\n\n    .dataframe thead th {\n        text-align: right;\n    }\n</style>\n<table border=\"1\" class=\"dataframe\">\n  <thead>\n    <tr style=\"text-align: right;\">\n      <th></th>\n      <th>country_id</th>\n      <th>country</th>\n      <th>last_update</th>\n    </tr>\n  </thead>\n  <tbody>\n    <tr>\n      <th>0</th>\n      <td>109</td>\n      <td>Zambia</td>\n      <td>2021-03-06 15:51:49</td>\n    </tr>\n    <tr>\n      <th>1</th>\n      <td>108</td>\n      <td>Yugoslavia</td>\n      <td>2021-03-06 15:51:49</td>\n    </tr>\n    <tr>\n      <th>2</th>\n      <td>107</td>\n      <td>Yemen</td>\n      <td>2021-03-06 15:51:49</td>\n    </tr>\n  </tbody>\n</table>\n</div>"
     },
     "execution_count": 3,
     "metadata": {},
     "output_type": "execute_result"
    }
   ],
   "source": [
    "sct(name='Country', limit=-3)"
   ]
  },
  {
   "cell_type": "markdown",
   "metadata": {
    "id": "m9WvJV2EJsXn"
   },
   "source": []
  },
  {
   "cell_type": "code",
   "execution_count": 4,
   "metadata": {
    "colab": {
     "base_uri": "https://localhost:8080/",
     "height": 501
    },
    "executionInfo": {
     "elapsed": 428,
     "status": "ok",
     "timestamp": 1704592522540,
     "user": {
      "displayName": "Pacurar Sebastian",
      "userId": "15686393619609976384"
     },
     "user_tz": -120
    },
    "id": "9wKNg77jH_eX",
    "outputId": "53c4f334-4473-4f50-fa5a-491342fd0a7c",
    "ExecuteTime": {
     "end_time": "2024-01-08T00:11:16.177505400Z",
     "start_time": "2024-01-08T00:11:16.080243800Z"
    }
   },
   "outputs": [
    {
     "name": "stdout",
     "output_type": "stream",
     "text": [
      "\n",
      "SELECT DISTINCT *\n",
      "FROM \"Order Details\" \n",
      "WHERE unitprice LIKE \"4%\"\n",
      "ORDER BY Quantity ASC\n",
      "LIMIT 10\n"
     ]
    },
    {
     "data": {
      "text/plain": "   OrderID  ProductID  UnitPrice  Quantity  Discount\n0    10462         13        4.8         1       0.0\n1    11083         28       45.6         1       0.0\n2    11091         63       43.9         1       0.0\n3    11107         43       46.0         1       0.0\n4    11115         24        4.5         1       0.0\n5    11145         28       45.6         1       0.0\n6    11149         24        4.5         1       0.0\n7    11165         28       45.6         1       0.0\n8    11194         43       46.0         1       0.0\n9    11207         28       45.6         1       0.0",
      "text/html": "<div>\n<style scoped>\n    .dataframe tbody tr th:only-of-type {\n        vertical-align: middle;\n    }\n\n    .dataframe tbody tr th {\n        vertical-align: top;\n    }\n\n    .dataframe thead th {\n        text-align: right;\n    }\n</style>\n<table border=\"1\" class=\"dataframe\">\n  <thead>\n    <tr style=\"text-align: right;\">\n      <th></th>\n      <th>OrderID</th>\n      <th>ProductID</th>\n      <th>UnitPrice</th>\n      <th>Quantity</th>\n      <th>Discount</th>\n    </tr>\n  </thead>\n  <tbody>\n    <tr>\n      <th>0</th>\n      <td>10462</td>\n      <td>13</td>\n      <td>4.8</td>\n      <td>1</td>\n      <td>0.0</td>\n    </tr>\n    <tr>\n      <th>1</th>\n      <td>11083</td>\n      <td>28</td>\n      <td>45.6</td>\n      <td>1</td>\n      <td>0.0</td>\n    </tr>\n    <tr>\n      <th>2</th>\n      <td>11091</td>\n      <td>63</td>\n      <td>43.9</td>\n      <td>1</td>\n      <td>0.0</td>\n    </tr>\n    <tr>\n      <th>3</th>\n      <td>11107</td>\n      <td>43</td>\n      <td>46.0</td>\n      <td>1</td>\n      <td>0.0</td>\n    </tr>\n    <tr>\n      <th>4</th>\n      <td>11115</td>\n      <td>24</td>\n      <td>4.5</td>\n      <td>1</td>\n      <td>0.0</td>\n    </tr>\n    <tr>\n      <th>5</th>\n      <td>11145</td>\n      <td>28</td>\n      <td>45.6</td>\n      <td>1</td>\n      <td>0.0</td>\n    </tr>\n    <tr>\n      <th>6</th>\n      <td>11149</td>\n      <td>24</td>\n      <td>4.5</td>\n      <td>1</td>\n      <td>0.0</td>\n    </tr>\n    <tr>\n      <th>7</th>\n      <td>11165</td>\n      <td>28</td>\n      <td>45.6</td>\n      <td>1</td>\n      <td>0.0</td>\n    </tr>\n    <tr>\n      <th>8</th>\n      <td>11194</td>\n      <td>43</td>\n      <td>46.0</td>\n      <td>1</td>\n      <td>0.0</td>\n    </tr>\n    <tr>\n      <th>9</th>\n      <td>11207</td>\n      <td>28</td>\n      <td>45.6</td>\n      <td>1</td>\n      <td>0.0</td>\n    </tr>\n  </tbody>\n</table>\n</div>"
     },
     "execution_count": 4,
     "metadata": {},
     "output_type": "execute_result"
    }
   ],
   "source": [
    "nct(name='Order Details', limit = 10, distinct=True, starts_with=('unitprice', 4), order_by=['Quantity', 1])"
   ]
  },
  {
   "cell_type": "code",
   "execution_count": 5,
   "metadata": {
    "colab": {
     "base_uri": "https://localhost:8080/",
     "height": 237
    },
    "executionInfo": {
     "elapsed": 427,
     "status": "ok",
     "timestamp": 1704592522541,
     "user": {
      "displayName": "Pacurar Sebastian",
      "userId": "15686393619609976384"
     },
     "user_tz": -120
    },
    "id": "8mfCl3Vfg_dg",
    "outputId": "6053b1f7-575b-41d2-fa26-8ac007681ead",
    "ExecuteTime": {
     "end_time": "2024-01-08T00:11:16.224872500Z",
     "start_time": "2024-01-08T00:11:16.155572800Z"
    }
   },
   "outputs": [
    {
     "name": "stdout",
     "output_type": "stream",
     "text": [
      "\n",
      "SELECT AVG(UnitPrice) AS \"UP Avg\",\n",
      "\tMAX(UnitPrice) AS \"UP Max\",\n",
      "\tMIN(UnitPrice) AS \"UP Min\",\n",
      "\tCOUNT(UnitPrice) AS \"UP Count\"\n",
      "FROM \"Order Details\" \n",
      "\n"
     ]
    },
    {
     "data": {
      "text/plain": "      UP Avg  UP Max  UP Min  UP Count\n0  28.850379   263.5       2    609283",
      "text/html": "<div>\n<style scoped>\n    .dataframe tbody tr th:only-of-type {\n        vertical-align: middle;\n    }\n\n    .dataframe tbody tr th {\n        vertical-align: top;\n    }\n\n    .dataframe thead th {\n        text-align: right;\n    }\n</style>\n<table border=\"1\" class=\"dataframe\">\n  <thead>\n    <tr style=\"text-align: right;\">\n      <th></th>\n      <th>UP Avg</th>\n      <th>UP Max</th>\n      <th>UP Min</th>\n      <th>UP Count</th>\n    </tr>\n  </thead>\n  <tbody>\n    <tr>\n      <th>0</th>\n      <td>28.850379</td>\n      <td>263.5</td>\n      <td>2</td>\n      <td>609283</td>\n    </tr>\n  </tbody>\n</table>\n</div>"
     },
     "execution_count": 5,
     "metadata": {},
     "output_type": "execute_result"
    }
   ],
   "source": [
    "nct(name='Order Details', cols=['avg=UnitPrice:UP Avg', 'max=UnitPrice:UP Max', 'min=UnitPrice:UP Min', 'count=UnitPrice:UP Count'])"
   ]
  },
  {
   "cell_type": "markdown",
   "metadata": {
    "id": "wlPOAXEfVwTr"
   },
   "source": [
    "### Sakila Tests"
   ]
  },
  {
   "cell_type": "code",
   "execution_count": 6,
   "metadata": {
    "colab": {
     "base_uri": "https://localhost:8080/",
     "height": 568
    },
    "executionInfo": {
     "elapsed": 31,
     "status": "ok",
     "timestamp": 1704592522541,
     "user": {
      "displayName": "Pacurar Sebastian",
      "userId": "15686393619609976384"
     },
     "user_tz": -120
    },
    "id": "IWjJ6Y91WI9D",
    "outputId": "deba5fa4-26ff-4fce-ff85-2e40c1477c51",
    "ExecuteTime": {
     "end_time": "2024-01-08T00:11:16.243751100Z",
     "start_time": "2024-01-08T00:11:16.208464Z"
    }
   },
   "outputs": [
    {
     "data": {
      "text/plain": "             name\n0           actor\n1         country\n2            city\n3         address\n4        language\n5        category\n6        customer\n7            film\n8      film_actor\n9   film_category\n10      film_text\n11      inventory\n12          staff\n13          store\n14        payment\n15         rental",
      "text/html": "<div>\n<style scoped>\n    .dataframe tbody tr th:only-of-type {\n        vertical-align: middle;\n    }\n\n    .dataframe tbody tr th {\n        vertical-align: top;\n    }\n\n    .dataframe thead th {\n        text-align: right;\n    }\n</style>\n<table border=\"1\" class=\"dataframe\">\n  <thead>\n    <tr style=\"text-align: right;\">\n      <th></th>\n      <th>name</th>\n    </tr>\n  </thead>\n  <tbody>\n    <tr>\n      <th>0</th>\n      <td>actor</td>\n    </tr>\n    <tr>\n      <th>1</th>\n      <td>country</td>\n    </tr>\n    <tr>\n      <th>2</th>\n      <td>city</td>\n    </tr>\n    <tr>\n      <th>3</th>\n      <td>address</td>\n    </tr>\n    <tr>\n      <th>4</th>\n      <td>language</td>\n    </tr>\n    <tr>\n      <th>5</th>\n      <td>category</td>\n    </tr>\n    <tr>\n      <th>6</th>\n      <td>customer</td>\n    </tr>\n    <tr>\n      <th>7</th>\n      <td>film</td>\n    </tr>\n    <tr>\n      <th>8</th>\n      <td>film_actor</td>\n    </tr>\n    <tr>\n      <th>9</th>\n      <td>film_category</td>\n    </tr>\n    <tr>\n      <th>10</th>\n      <td>film_text</td>\n    </tr>\n    <tr>\n      <th>11</th>\n      <td>inventory</td>\n    </tr>\n    <tr>\n      <th>12</th>\n      <td>staff</td>\n    </tr>\n    <tr>\n      <th>13</th>\n      <td>store</td>\n    </tr>\n    <tr>\n      <th>14</th>\n      <td>payment</td>\n    </tr>\n    <tr>\n      <th>15</th>\n      <td>rental</td>\n    </tr>\n  </tbody>\n</table>\n</div>"
     },
     "execution_count": 6,
     "metadata": {},
     "output_type": "execute_result"
    }
   ],
   "source": [
    "sc.q(query=sql.ALL_TABLES)"
   ]
  },
  {
   "cell_type": "code",
   "execution_count": 7,
   "metadata": {
    "colab": {
     "base_uri": "https://localhost:8080/",
     "height": 233
    },
    "executionInfo": {
     "elapsed": 29,
     "status": "ok",
     "timestamp": 1704592522541,
     "user": {
      "displayName": "Pacurar Sebastian",
      "userId": "15686393619609976384"
     },
     "user_tz": -120
    },
    "id": "Biek2xFPWNib",
    "outputId": "9a9578ea-14e3-4903-85c5-8c68dab1a1cf",
    "ExecuteTime": {
     "end_time": "2024-01-08T00:11:16.244794500Z",
     "start_time": "2024-01-08T00:11:16.216677Z"
    }
   },
   "outputs": [
    {
     "name": "stdout",
     "output_type": "stream",
     "text": [
      "\n",
      "SELECT *\n",
      "FROM Country \n",
      "ORDER BY 1 DESC\n",
      "LIMIT 2\n"
     ]
    },
    {
     "data": {
      "text/plain": "   country_id     country          last_update\n0         109      Zambia  2021-03-06 15:51:49\n1         108  Yugoslavia  2021-03-06 15:51:49",
      "text/html": "<div>\n<style scoped>\n    .dataframe tbody tr th:only-of-type {\n        vertical-align: middle;\n    }\n\n    .dataframe tbody tr th {\n        vertical-align: top;\n    }\n\n    .dataframe thead th {\n        text-align: right;\n    }\n</style>\n<table border=\"1\" class=\"dataframe\">\n  <thead>\n    <tr style=\"text-align: right;\">\n      <th></th>\n      <th>country_id</th>\n      <th>country</th>\n      <th>last_update</th>\n    </tr>\n  </thead>\n  <tbody>\n    <tr>\n      <th>0</th>\n      <td>109</td>\n      <td>Zambia</td>\n      <td>2021-03-06 15:51:49</td>\n    </tr>\n    <tr>\n      <th>1</th>\n      <td>108</td>\n      <td>Yugoslavia</td>\n      <td>2021-03-06 15:51:49</td>\n    </tr>\n  </tbody>\n</table>\n</div>"
     },
     "execution_count": 7,
     "metadata": {},
     "output_type": "execute_result"
    }
   ],
   "source": [
    "sct(name='Country', limit=-2)"
   ]
  },
  {
   "cell_type": "code",
   "execution_count": 8,
   "metadata": {
    "colab": {
     "base_uri": "https://localhost:8080/",
     "height": 274
    },
    "executionInfo": {
     "elapsed": 26,
     "status": "ok",
     "timestamp": 1704592522541,
     "user": {
      "displayName": "Pacurar Sebastian",
      "userId": "15686393619609976384"
     },
     "user_tz": -120
    },
    "id": "7zJj7MYKWg72",
    "outputId": "faff0e3f-150d-490e-bce2-cf4efd85f8b2",
    "ExecuteTime": {
     "end_time": "2024-01-08T00:11:16.267879400Z",
     "start_time": "2024-01-08T00:11:16.223857700Z"
    }
   },
   "outputs": [
    {
     "name": "stdout",
     "output_type": "stream",
     "text": [
      "\n",
      "SELECT *\n",
      "FROM film \n",
      "LIMIT 1\n"
     ]
    },
    {
     "data": {
      "text/plain": "   film_id             title  \\\n0        1  ACADEMY DINOSAUR   \n\n                                         description release_year  \\\n0  A Epic Drama of a Feminist And a Mad Scientist...         2006   \n\n   language_id original_language_id  rental_duration  rental_rate  length  \\\n0            1                 None                6         0.99      86   \n\n   replacement_cost rating                  special_features  \\\n0             20.99     PG  Deleted Scenes,Behind the Scenes   \n\n           last_update  \n0  2021-03-06 15:52:00  ",
      "text/html": "<div>\n<style scoped>\n    .dataframe tbody tr th:only-of-type {\n        vertical-align: middle;\n    }\n\n    .dataframe tbody tr th {\n        vertical-align: top;\n    }\n\n    .dataframe thead th {\n        text-align: right;\n    }\n</style>\n<table border=\"1\" class=\"dataframe\">\n  <thead>\n    <tr style=\"text-align: right;\">\n      <th></th>\n      <th>film_id</th>\n      <th>title</th>\n      <th>description</th>\n      <th>release_year</th>\n      <th>language_id</th>\n      <th>original_language_id</th>\n      <th>rental_duration</th>\n      <th>rental_rate</th>\n      <th>length</th>\n      <th>replacement_cost</th>\n      <th>rating</th>\n      <th>special_features</th>\n      <th>last_update</th>\n    </tr>\n  </thead>\n  <tbody>\n    <tr>\n      <th>0</th>\n      <td>1</td>\n      <td>ACADEMY DINOSAUR</td>\n      <td>A Epic Drama of a Feminist And a Mad Scientist...</td>\n      <td>2006</td>\n      <td>1</td>\n      <td>None</td>\n      <td>6</td>\n      <td>0.99</td>\n      <td>86</td>\n      <td>20.99</td>\n      <td>PG</td>\n      <td>Deleted Scenes,Behind the Scenes</td>\n      <td>2021-03-06 15:52:00</td>\n    </tr>\n  </tbody>\n</table>\n</div>"
     },
     "execution_count": 8,
     "metadata": {},
     "output_type": "execute_result"
    }
   ],
   "source": [
    "sct(name='film', limit=1)"
   ]
  },
  {
   "cell_type": "code",
   "execution_count": 9,
   "metadata": {
    "colab": {
     "base_uri": "https://localhost:8080/",
     "height": 185
    },
    "executionInfo": {
     "elapsed": 23,
     "status": "ok",
     "timestamp": 1704592522541,
     "user": {
      "displayName": "Pacurar Sebastian",
      "userId": "15686393619609976384"
     },
     "user_tz": -120
    },
    "id": "WjAx7bkWWy3x",
    "outputId": "f524c5ab-16ff-485b-fbbd-609c03f6bf03",
    "ExecuteTime": {
     "end_time": "2024-01-08T00:11:16.268952700Z",
     "start_time": "2024-01-08T00:11:16.234850100Z"
    }
   },
   "outputs": [
    {
     "name": "stdout",
     "output_type": "stream",
     "text": [
      "\n",
      "SELECT *\n",
      "FROM film_actor \n",
      "LIMIT 1\n"
     ]
    },
    {
     "data": {
      "text/plain": "   actor_id  film_id          last_update\n0         1        1  2021-03-06 15:52:45",
      "text/html": "<div>\n<style scoped>\n    .dataframe tbody tr th:only-of-type {\n        vertical-align: middle;\n    }\n\n    .dataframe tbody tr th {\n        vertical-align: top;\n    }\n\n    .dataframe thead th {\n        text-align: right;\n    }\n</style>\n<table border=\"1\" class=\"dataframe\">\n  <thead>\n    <tr style=\"text-align: right;\">\n      <th></th>\n      <th>actor_id</th>\n      <th>film_id</th>\n      <th>last_update</th>\n    </tr>\n  </thead>\n  <tbody>\n    <tr>\n      <th>0</th>\n      <td>1</td>\n      <td>1</td>\n      <td>2021-03-06 15:52:45</td>\n    </tr>\n  </tbody>\n</table>\n</div>"
     },
     "execution_count": 9,
     "metadata": {},
     "output_type": "execute_result"
    }
   ],
   "source": [
    "sct(name='film_actor', limit=1)"
   ]
  },
  {
   "cell_type": "code",
   "execution_count": 10,
   "metadata": {
    "colab": {
     "base_uri": "https://localhost:8080/",
     "height": 185
    },
    "executionInfo": {
     "elapsed": 21,
     "status": "ok",
     "timestamp": 1704592522541,
     "user": {
      "displayName": "Pacurar Sebastian",
      "userId": "15686393619609976384"
     },
     "user_tz": -120
    },
    "id": "jFA_cWviWyny",
    "outputId": "0f066e46-3656-4ba0-b853-de38a18c77ba",
    "ExecuteTime": {
     "end_time": "2024-01-08T00:11:16.316852300Z",
     "start_time": "2024-01-08T00:11:16.239319600Z"
    }
   },
   "outputs": [
    {
     "name": "stdout",
     "output_type": "stream",
     "text": [
      "\n",
      "SELECT *\n",
      "FROM film_category \n",
      "LIMIT 1\n"
     ]
    },
    {
     "data": {
      "text/plain": "   film_id  category_id          last_update\n0        1            6  2021-03-06 15:53:28",
      "text/html": "<div>\n<style scoped>\n    .dataframe tbody tr th:only-of-type {\n        vertical-align: middle;\n    }\n\n    .dataframe tbody tr th {\n        vertical-align: top;\n    }\n\n    .dataframe thead th {\n        text-align: right;\n    }\n</style>\n<table border=\"1\" class=\"dataframe\">\n  <thead>\n    <tr style=\"text-align: right;\">\n      <th></th>\n      <th>film_id</th>\n      <th>category_id</th>\n      <th>last_update</th>\n    </tr>\n  </thead>\n  <tbody>\n    <tr>\n      <th>0</th>\n      <td>1</td>\n      <td>6</td>\n      <td>2021-03-06 15:53:28</td>\n    </tr>\n  </tbody>\n</table>\n</div>"
     },
     "execution_count": 10,
     "metadata": {},
     "output_type": "execute_result"
    }
   ],
   "source": [
    "sct(name='film_category', limit=1)"
   ]
  },
  {
   "cell_type": "markdown",
   "metadata": {
    "id": "o8D47tBvg8Ov"
   },
   "source": [
    "## Experiments\n"
   ]
  },
  {
   "cell_type": "code",
   "execution_count": 11,
   "metadata": {
    "colab": {
     "base_uri": "https://localhost:8080/",
     "height": 0
    },
    "executionInfo": {
     "elapsed": 18,
     "status": "ok",
     "timestamp": 1704592522541,
     "user": {
      "displayName": "Pacurar Sebastian",
      "userId": "15686393619609976384"
     },
     "user_tz": -120
    },
    "id": "vNrqu5C02qdm",
    "outputId": "09a254b3-f7de-4607-b9d3-3f649b399ec3",
    "ExecuteTime": {
     "end_time": "2024-01-08T00:11:16.405788900Z",
     "start_time": "2024-01-08T00:11:16.246866700Z"
    }
   },
   "outputs": [
    {
     "data": {
      "text/plain": "                 OrderDate         RequiredDate                CompanyName  \\\n0               2016-07-04           2016-08-01  Vins et alcools Chevalier   \n1               2016-07-05           2016-08-16         Toms Spezialitäten   \n2               2016-07-08           2016-08-05              Hanari Carnes   \n3               2016-07-08           2016-08-05       Victuailles en stock   \n4               2016-07-09           2016-08-06           Suprêmes délices   \n...                    ...                  ...                        ...   \n16277  2012-12-26 04:58:22  2013-01-07 03:47:01       White Clover Markets   \n16278  2022-08-05 06:33:39  2022-09-01 05:09:08             Wolski  Zajazd   \n16279  2022-02-09 08:20:12  2022-02-19 13:46:17        Gourmet Lanchonetes   \n16280  2020-04-27 23:05:30  2020-05-22 20:22:49   Blondesddsl père et fils   \n16281  2023-01-10 05:40:51  2023-02-21 23:37:27            Du monde entier   \n\n                   ContactName  \n0                 Paul Henriot  \n1                Karin Josephs  \n2                 Mario Pontes  \n3                 Mary Saveley  \n4             Pascale Cartrain  \n...                        ...  \n16277           Karl Jablonski  \n16278  Zbyszek Piestrzeniewicz  \n16279            André Fonseca  \n16280       Frédérique Citeaux  \n16281           Janine Labrune  \n\n[16282 rows x 4 columns]",
      "text/html": "<div>\n<style scoped>\n    .dataframe tbody tr th:only-of-type {\n        vertical-align: middle;\n    }\n\n    .dataframe tbody tr th {\n        vertical-align: top;\n    }\n\n    .dataframe thead th {\n        text-align: right;\n    }\n</style>\n<table border=\"1\" class=\"dataframe\">\n  <thead>\n    <tr style=\"text-align: right;\">\n      <th></th>\n      <th>OrderDate</th>\n      <th>RequiredDate</th>\n      <th>CompanyName</th>\n      <th>ContactName</th>\n    </tr>\n  </thead>\n  <tbody>\n    <tr>\n      <th>0</th>\n      <td>2016-07-04</td>\n      <td>2016-08-01</td>\n      <td>Vins et alcools Chevalier</td>\n      <td>Paul Henriot</td>\n    </tr>\n    <tr>\n      <th>1</th>\n      <td>2016-07-05</td>\n      <td>2016-08-16</td>\n      <td>Toms Spezialitäten</td>\n      <td>Karin Josephs</td>\n    </tr>\n    <tr>\n      <th>2</th>\n      <td>2016-07-08</td>\n      <td>2016-08-05</td>\n      <td>Hanari Carnes</td>\n      <td>Mario Pontes</td>\n    </tr>\n    <tr>\n      <th>3</th>\n      <td>2016-07-08</td>\n      <td>2016-08-05</td>\n      <td>Victuailles en stock</td>\n      <td>Mary Saveley</td>\n    </tr>\n    <tr>\n      <th>4</th>\n      <td>2016-07-09</td>\n      <td>2016-08-06</td>\n      <td>Suprêmes délices</td>\n      <td>Pascale Cartrain</td>\n    </tr>\n    <tr>\n      <th>...</th>\n      <td>...</td>\n      <td>...</td>\n      <td>...</td>\n      <td>...</td>\n    </tr>\n    <tr>\n      <th>16277</th>\n      <td>2012-12-26 04:58:22</td>\n      <td>2013-01-07 03:47:01</td>\n      <td>White Clover Markets</td>\n      <td>Karl Jablonski</td>\n    </tr>\n    <tr>\n      <th>16278</th>\n      <td>2022-08-05 06:33:39</td>\n      <td>2022-09-01 05:09:08</td>\n      <td>Wolski  Zajazd</td>\n      <td>Zbyszek Piestrzeniewicz</td>\n    </tr>\n    <tr>\n      <th>16279</th>\n      <td>2022-02-09 08:20:12</td>\n      <td>2022-02-19 13:46:17</td>\n      <td>Gourmet Lanchonetes</td>\n      <td>André Fonseca</td>\n    </tr>\n    <tr>\n      <th>16280</th>\n      <td>2020-04-27 23:05:30</td>\n      <td>2020-05-22 20:22:49</td>\n      <td>Blondesddsl père et fils</td>\n      <td>Frédérique Citeaux</td>\n    </tr>\n    <tr>\n      <th>16281</th>\n      <td>2023-01-10 05:40:51</td>\n      <td>2023-02-21 23:37:27</td>\n      <td>Du monde entier</td>\n      <td>Janine Labrune</td>\n    </tr>\n  </tbody>\n</table>\n<p>16282 rows × 4 columns</p>\n</div>"
     },
     "execution_count": 11,
     "metadata": {},
     "output_type": "execute_result"
    }
   ],
   "source": [
    "nc.q(query='''\n",
    "SELECT\n",
    "    Orders.OrderDate,\n",
    "    Orders.RequiredDate,\n",
    "    Customers.CompanyName,\n",
    "    Customers.ContactName\n",
    "FROM\n",
    "    Orders\n",
    "INNER JOIN Customers ON Orders.CustomerID = Customers.CustomerID\n",
    "''')"
   ]
  },
  {
   "cell_type": "code",
   "execution_count": 12,
   "metadata": {
    "colab": {
     "base_uri": "https://localhost:8080/",
     "height": 0
    },
    "executionInfo": {
     "elapsed": 417,
     "status": "ok",
     "timestamp": 1704592522945,
     "user": {
      "displayName": "Pacurar Sebastian",
      "userId": "15686393619609976384"
     },
     "user_tz": -120
    },
    "id": "KHnIbSAI2rIK",
    "outputId": "6f8b6808-d6a2-4972-dba7-02ff95ce92c1",
    "ExecuteTime": {
     "end_time": "2024-01-08T00:11:16.479596300Z",
     "start_time": "2024-01-08T00:11:16.303130Z"
    }
   },
   "outputs": [
    {
     "data": {
      "text/plain": "   UnitPrice\n0       55.0\n1       53.0\n2       50.0\n3       49.3\n4       46.0",
      "text/html": "<div>\n<style scoped>\n    .dataframe tbody tr th:only-of-type {\n        vertical-align: middle;\n    }\n\n    .dataframe tbody tr th {\n        vertical-align: top;\n    }\n\n    .dataframe thead th {\n        text-align: right;\n    }\n</style>\n<table border=\"1\" class=\"dataframe\">\n  <thead>\n    <tr style=\"text-align: right;\">\n      <th></th>\n      <th>UnitPrice</th>\n    </tr>\n  </thead>\n  <tbody>\n    <tr>\n      <th>0</th>\n      <td>55.0</td>\n    </tr>\n    <tr>\n      <th>1</th>\n      <td>53.0</td>\n    </tr>\n    <tr>\n      <th>2</th>\n      <td>50.0</td>\n    </tr>\n    <tr>\n      <th>3</th>\n      <td>49.3</td>\n    </tr>\n    <tr>\n      <th>4</th>\n      <td>46.0</td>\n    </tr>\n  </tbody>\n</table>\n</div>"
     },
     "execution_count": 12,
     "metadata": {},
     "output_type": "execute_result"
    }
   ],
   "source": [
    "nc.q(query='''\n",
    "SELECT DISTINCT od.UnitPrice\n",
    "FROM \"Order Details\" AS od\n",
    "WHERE od.UnitPrice >= 43.0\n",
    "\tAND od.UnitPrice <= 70.0\n",
    "ORDER BY od.UnitPrice DESC\n",
    "LIMIT 5 OFFSET 2\n",
    "''')"
   ]
  },
  {
   "cell_type": "code",
   "execution_count": 13,
   "metadata": {
    "executionInfo": {
     "elapsed": 4,
     "status": "ok",
     "timestamp": 1704592522946,
     "user": {
      "displayName": "Pacurar Sebastian",
      "userId": "15686393619609976384"
     },
     "user_tz": -120
    },
    "id": "mhn7a8VGcT6E",
    "ExecuteTime": {
     "end_time": "2024-01-08T00:11:16.548208600Z",
     "start_time": "2024-01-08T00:11:16.339364300Z"
    }
   },
   "outputs": [
    {
     "name": "stdout",
     "output_type": "stream",
     "text": [
      "\n",
      "SELECT DISTINCT UnitPrice\n",
      "FROM \"Order Details\" \n",
      "WHERE UnitPrice BETWEEN 20.0 and 70.0\n",
      "ORDER BY UnitPrice DESC\n",
      "LIMIT 5 OFFSET 2\n",
      "\n"
     ]
    },
    {
     "data": {
      "text/plain": "   UnitPrice\n0       55.0\n1       53.0\n2       50.0\n3       49.3\n4       46.0",
      "text/html": "<div>\n<style scoped>\n    .dataframe tbody tr th:only-of-type {\n        vertical-align: middle;\n    }\n\n    .dataframe tbody tr th {\n        vertical-align: top;\n    }\n\n    .dataframe thead th {\n        text-align: right;\n    }\n</style>\n<table border=\"1\" class=\"dataframe\">\n  <thead>\n    <tr style=\"text-align: right;\">\n      <th></th>\n      <th>UnitPrice</th>\n    </tr>\n  </thead>\n  <tbody>\n    <tr>\n      <th>0</th>\n      <td>55.0</td>\n    </tr>\n    <tr>\n      <th>1</th>\n      <td>53.0</td>\n    </tr>\n    <tr>\n      <th>2</th>\n      <td>50.0</td>\n    </tr>\n    <tr>\n      <th>3</th>\n      <td>49.3</td>\n    </tr>\n    <tr>\n      <th>4</th>\n      <td>46.0</td>\n    </tr>\n  </tbody>\n</table>\n</div>"
     },
     "execution_count": 13,
     "metadata": {},
     "output_type": "execute_result"
    }
   ],
   "source": [
    "nct(name='Order Details', cols=['UnitPrice'], distinct=True, where=['&20.0 >= UnitPrice <= 70.0'], order_by=['UnitPrice', -1], limit=5, offset=2)"
   ]
  }
 ],
 "metadata": {
  "colab": {
   "authorship_tag": "ABX9TyOfSixqoUXjllNZ2Gws0an7",
   "collapsed_sections": [
    "DayYIYuJh7Ir",
    "UlsYfhiDix56",
    "o8D47tBvg8Ov"
   ],
   "provenance": []
  },
  "kernelspec": {
   "display_name": "Python 3 (ipykernel)",
   "language": "python",
   "name": "python3"
  },
  "language_info": {
   "codemirror_mode": {
    "name": "ipython",
    "version": 3
   },
   "file_extension": ".py",
   "mimetype": "text/x-python",
   "name": "python",
   "nbconvert_exporter": "python",
   "pygments_lexer": "ipython3",
   "version": "3.11.5"
  }
 },
 "nbformat": 4,
 "nbformat_minor": 4
}
